{
 "cells": [
  {
   "cell_type": "markdown",
   "id": "1066b51a",
   "metadata": {},
   "source": [
    "# Introduction\n",
    "\n",
    "pytest can be used for all types and levels of software testing. Many projects – amongst them Mozilla and Dropbox - switched from unittest or nose to pytest."
   ]
  },
  {
   "cell_type": "markdown",
   "id": "d5bb7033",
   "metadata": {},
   "source": [
    "Here, we simply going to import the pytest module and write few test for testing...."
   ]
  },
  {
   "cell_type": "markdown",
   "id": "bc1e738c",
   "metadata": {},
   "source": [
    "Let's take an example of :\n",
    "\n",
    "# Performing Equivalence Class Testing using Pytest"
   ]
  },
  {
   "cell_type": "markdown",
   "id": "a173061f",
   "metadata": {},
   "source": [
    "To perform automated Equivalence Class Testing, we can make use of Pytest or Unittest Python libraries. In this article, we will use the Pytest library to execute test cases for a simple program.\n",
    "\n",
    "# Question :\n",
    "    \n",
    "Perform Equivalence Testing for a program that determines the type of triangle given the length of its three sides A, B, and C. The range of the length of the sides lies between 10 and 50(both inclusive)."
   ]
  },
  {
   "cell_type": "markdown",
   "id": "58b9022c",
   "metadata": {},
   "source": [
    "Let's go to tryangletype folder in folders list above, where we have created two .py files with code for this example"
   ]
  },
  {
   "cell_type": "code",
   "execution_count": null,
   "id": "149178a7",
   "metadata": {},
   "outputs": [],
   "source": []
  }
 ],
 "metadata": {
  "kernelspec": {
   "display_name": "Python 3 (ipykernel)",
   "language": "python",
   "name": "python3"
  },
  "language_info": {
   "codemirror_mode": {
    "name": "ipython",
    "version": 3
   },
   "file_extension": ".py",
   "mimetype": "text/x-python",
   "name": "python",
   "nbconvert_exporter": "python",
   "pygments_lexer": "ipython3",
   "version": "3.9.7"
  }
 },
 "nbformat": 4,
 "nbformat_minor": 5
}
