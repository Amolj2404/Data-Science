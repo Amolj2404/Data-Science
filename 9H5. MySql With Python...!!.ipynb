{
 "cells": [
  {
   "cell_type": "markdown",
   "id": "e067a9fd",
   "metadata": {},
   "source": [
    "MySQL is one of the most popular database management systems (DBMSs) on the market today. It ranked second only to the Oracle DBMS in this year’s DB-Engines Ranking. As most software applications need to interact with data in some form, programming languages like Python provide tools for storing and accessing these data sources."
   ]
  },
  {
   "cell_type": "markdown",
   "id": "ec780bcd",
   "metadata": {},
   "source": [
    "Using the techniques discussed in this session, you’ll be able to efficiently integrate a MySQL database with a Python application. You’ll develop a small MySQL database for a movie rating system and learn how to query it directly from your Python code."
   ]
  },
  {
   "cell_type": "markdown",
   "id": "44ddfda1",
   "metadata": {},
   "source": [
    "By the end of this tutorial, you’ll be able to:\n",
    "\n",
    "1. Identify unique features of MySQL\n",
    "2. Connect your application to a MySQL database\n",
    "3. Query the database to fetch required data\n",
    "4. Handle exceptions that occur while accessing the database\n",
    "5. Use best practices while building database applications"
   ]
  },
  {
   "cell_type": "markdown",
   "id": "76e7665d",
   "metadata": {},
   "source": [
    "To get the most out of this tutorial, you should have a working knowledge of Python concepts like for loops, functions, exception handling, and installing Python packages using pip. You should also have a basic understanding of relational database management systems and SQL queries like SELECT, DROP, CREATE, and JOIN."
   ]
  },
  {
   "cell_type": "markdown",
   "id": "24e779b2",
   "metadata": {},
   "source": [
    "# Comparing MySQL to Other SQL Databases"
   ]
  },
  {
   "cell_type": "markdown",
   "id": "ed3bd78a",
   "metadata": {},
   "source": [
    "SQL stands for Structured Query Language and is a widely used programming language for managing relational databases. You may have heard of the different flavors of SQL-based DBMSs. The most popular ones include MySQL, PostgreSQL, SQLite, and SQL Server. All of these databases are compliant with the SQL standards but with varying degrees of compliance.\n",
    "\n",
    "Being open source since its inception in 1995, MySQL quickly became a market leader among SQL solutions. MySQL is also a part of the Oracle ecosystem. While its core functionality is completely free, there are some paid add-ons as well. Currently, MySQL is used by all major tech firms, including Google, LinkedIn, Uber, Netflix, Twitter, and others.\n",
    "\n",
    "Apart from a large open source community for support, there are many other reasons for MySQL’s success:"
   ]
  },
  {
   "cell_type": "markdown",
   "id": "4ba35b80",
   "metadata": {},
   "source": [
    "Apart from a large open source community for support, there are many other reasons for MySQL’s success:\n",
    "\n",
    "1. Ease of installation: MySQL was designed to be user-friendly. It’s quite straightforward to set up a MySQL database, and several widely available third-party tools, like phpMyAdmin, further streamline the setup process. MySQL is available for all major operating systems, including Windows, macOS, Linux, and Solaris.\n",
    "\n",
    "2. Speed: MySQL holds a reputation for being an exceedingly fast database solution. It has a relatively smaller footprint and is extremely scalable in the long run.\n",
    "\n",
    "3. User privileges and security: MySQL comes with a script that allows you to set the password security level, assign admin passwords, and add and remove user account privileges. This script uncomplicates the admin process for a web hosting user management portal. Other DBMSs, like PostgreSQL, use config files that are more complicated to use."
   ]
  },
  {
   "cell_type": "markdown",
   "id": "eb8cd85b",
   "metadata": {},
   "source": [
    "# Installing MySQL Server and MySQL Connector/Python"
   ]
  },
  {
   "cell_type": "markdown",
   "id": "c68051f5",
   "metadata": {},
   "source": [
    "Now, to start working through this tutorial, you need to set up two things: a MySQL server and a MySQL connector. MySQL server will provide all the services required for handling your database. Once the server is up and running, you can connect your Python application with it using MySQL Connector/Python."
   ]
  },
  {
   "cell_type": "markdown",
   "id": "8f41f561",
   "metadata": {},
   "source": [
    "# Installing MySQL Server"
   ]
  },
  {
   "cell_type": "markdown",
   "id": "02cf27e2",
   "metadata": {},
   "source": [
    "For Windows, the best way is to download MySQL Installer and let it take care of the entire process. The installation manager also helps you configure the security settings of the MySQL server. On the Accounts and Roles page, you need to enter a password for the root (admin) account and also optionally add other users with varying privileges:"
   ]
  },
  {
   "cell_type": "raw",
   "id": "f4218206",
   "metadata": {},
   "source": [
    "# https://dev.mysql.com/downloads/installer/           => use this link to install web community installer\n",
    "\n",
    "Select Server, workbench and shell => one latest version each and drag it to right side...and then move on\n",
    "\n",
    "While you must specify credentials for the root account during setup, you can modify these settings later on.\n",
    "\n",
    "Give strong password for server installation which will be a root password...save that password safely somewhere...\n",
    "\n",
    "continue and complete the installation....\n",
    "\n",
    "Note: Remember the hostname, username, and password as these will be required to establish a connection with the MySQL server later on."
   ]
  },
  {
   "cell_type": "markdown",
   "id": "650164ab",
   "metadata": {},
   "source": [
    "# Installing MySQL Connector/Python"
   ]
  },
  {
   "cell_type": "raw",
   "id": "8985505c",
   "metadata": {},
   "source": [
    "pip install mysql-connector-python   => from anaconda command prompt"
   ]
  },
  {
   "cell_type": "raw",
   "id": "27286aa2",
   "metadata": {},
   "source": [
    "To test if the installation was successful, type the following command on your Python terminal:\n",
    "    \n",
    "import mysql.connector\n",
    "\n",
    "If the above code executes with no errors, then mysql.connector is installed and ready to use."
   ]
  },
  {
   "cell_type": "raw",
   "id": "ba42601e",
   "metadata": {},
   "source": [
    "# Establishing a Connection With MySQL Server\n",
    "\n",
    "MySQL is a server-based database management system. One server might contain multiple databases. To interact with a database, you must first establish a connection with the server. The general workflow of a Python program that interacts with a MySQL-based database is as follows:\n",
    "\n",
    "1. Connect to the MySQL server.\n",
    "\n",
    "2. Create a new database.\n",
    "\n",
    "3. Connect to the newly created or an existing database.\n",
    "\n",
    "4. Execute a SQL query and fetch results.\n",
    "\n",
    "5. Inform the database if any changes are made to a table.\n",
    "\n",
    "6. Close the connection to the MySQL server.\n",
    "\n",
    "This is a generic workflow that might vary depending on the individual application. But whatever the application might be, the first step is to connect your database with your application."
   ]
  },
  {
   "cell_type": "markdown",
   "id": "7e0ac553",
   "metadata": {},
   "source": [
    "# Establishing a Connection\n",
    "\n",
    "The first step in interacting with a MySQL server is to establish a connection. To do this, you need connect() from the mysql.connector module. This function takes in parameters like host, user, and password and returns a MySQLConnection object. You can receive these credentials as input from the user and pass them to connect():"
   ]
  },
  {
   "cell_type": "markdown",
   "id": "336ffd16",
   "metadata": {},
   "source": [
    "The code below uses the entered login credentials to establish a connection with your MySQL server. In return, you get a MySQLConnection object, which is stored in the connection variable. From now on, you’ll use this variable to access your MySQL server."
   ]
  },
  {
   "cell_type": "code",
   "execution_count": 10,
   "id": "a76b0e9f",
   "metadata": {},
   "outputs": [
    {
     "name": "stdout",
     "output_type": "stream",
     "text": [
      "Enter username: root\n",
      "Enter password: ········\n",
      "<mysql.connector.connection_cext.CMySQLConnection object at 0x000002284DE603D0>\n"
     ]
    }
   ],
   "source": [
    "from getpass import getpass\n",
    "from mysql.connector import connect, Error\n",
    "\n",
    "try:\n",
    "    with connect(\n",
    "        host=\"localhost\",\n",
    "        user=input(\"Enter username: \"),\n",
    "        password=getpass(\"Enter password: \"),\n",
    "    ) as connection:\n",
    "        print(connection)\n",
    "except Error as e:\n",
    "    print(e)"
   ]
  },
  {
   "cell_type": "raw",
   "id": "33985b31",
   "metadata": {},
   "source": [
    "There are several important things to notice in the code above:\n",
    "\n",
    "1. You should always deal with the exceptions that might be raised while establishing a connection to the MySQL server. This is why you use a try … except block to catch and print any exceptions that you might encounter.\n",
    "\n",
    "2. You should always close the connection after you’re done accessing the database. Leaving unused open connections can lead to several unexpected errors and performance issues. The above code takes advantage of a context manager using - \"with\", which abstracts away the connection cleanup process.\n",
    "\n",
    "3. You should never hard-code your login credentials, that is, your username and password, directly in a Python script. This is a bad practice for deployment and poses a serious security threat. The code above prompts the user for login credentials. It uses the built-in getpass module to hide the password. While this is better than hard-coding, there are other, more secure ways to store sensitive information, like using environment variables.\n",
    "\n",
    "You’ve now established a connection between your program and your MySQL server, but you still need to either create a new database or connect to an existing database inside the server."
   ]
  },
  {
   "cell_type": "markdown",
   "id": "50b8549a",
   "metadata": {},
   "source": [
    "# CRUD operation - CREATE, READ, UPDATE, DELETE"
   ]
  },
  {
   "cell_type": "markdown",
   "id": "3922e42c",
   "metadata": {},
   "source": [
    "# Creating a New Database"
   ]
  },
  {
   "cell_type": "markdown",
   "id": "c1f1328c",
   "metadata": {},
   "source": [
    "In the last section, you established a connection with your MySQL server. To create a new database, you need to execute a SQL statement:\n",
    "\n",
    "CREATE DATABASE books_db;\n",
    "\n",
    "The above statement will create a new database with the name books_db.\n",
    "\n",
    "Note: In MySQL, it’s mandatory to put a semicolon (;) at the end of a statement, which denotes the termination of a query. However, MySQL Connector/Python automatically appends a semicolon at the end of your queries, so there’s no need to use it in your Python code."
   ]
  },
  {
   "cell_type": "raw",
   "id": "51817a7f",
   "metadata": {},
   "source": [
    "To execute a SQL query in Python, you’ll need to use a cursor, which abstracts away the access to database records. MySQL Connector/Python provides you with the MySQLCursor class, which instantiates objects that can execute MySQL queries in Python. An instance of the MySQLCursor class is also called a cursor.\n",
    "\n",
    "cursor objects make use of a MySQLConnection object to interact with your MySQL server. To create a cursor, use the .cursor() method of your connection variable:"
   ]
  },
  {
   "cell_type": "raw",
   "id": "0bf9d7eb",
   "metadata": {},
   "source": [
    "cursor = connection.cursor()\n",
    "\n",
    "The above code gives you an instance of the MySQLCursor class.\n",
    "\n",
    "A query that needs to be executed is sent to cursor.execute() in string format. In this particular occasion, you’ll send the CREATE DATABASE query to cursor.execute():"
   ]
  },
  {
   "cell_type": "markdown",
   "id": "b85d872c",
   "metadata": {},
   "source": [
    "# Creating a new database online_movie_rating"
   ]
  },
  {
   "cell_type": "code",
   "execution_count": 6,
   "id": "91ac1f3d",
   "metadata": {},
   "outputs": [
    {
     "name": "stdout",
     "output_type": "stream",
     "text": [
      "Enter username: root\n",
      "Enter password: ········\n"
     ]
    }
   ],
   "source": [
    "from getpass import getpass\n",
    "from mysql.connector import connect, Error\n",
    "\n",
    "try:\n",
    "    with connect(\n",
    "        host=\"localhost\",\n",
    "        user=input(\"Enter username: \"),\n",
    "        password=getpass(\"Enter password: \"),\n",
    "    ) as connection:\n",
    "        create_db_query = \"CREATE DATABASE online_movie_rating\"\n",
    "        with connection.cursor() as cursor:\n",
    "            cursor.execute(create_db_query)\n",
    "except Error as e:\n",
    "    print(e)"
   ]
  },
  {
   "cell_type": "markdown",
   "id": "aaf3067b",
   "metadata": {},
   "source": [
    "After executing of the code above, you’ll have a new database called online_movie_rating in your MySQL server.\n",
    "\n",
    "The CREATE DATABASE query is stored as a string in the create_db_query variable and then passed to cursor.execute() for execution. The code uses a context manager with the cursor object to handle the cleanup process.\n",
    "\n",
    "You might receive an error here if a database with the same name already exists in your server. To confirm this, you can display the name of all databases in your server. Using the same MySQLConnection object from earlier, execute the SHOW DATABASES statement:"
   ]
  },
  {
   "cell_type": "code",
   "execution_count": 10,
   "id": "e14aeabc",
   "metadata": {},
   "outputs": [
    {
     "name": "stdout",
     "output_type": "stream",
     "text": [
      "('information_schema',)\n",
      "('mysql',)\n",
      "('online_movie_rating',)\n",
      "('performance_schema',)\n",
      "('sys',)\n"
     ]
    }
   ],
   "source": [
    "connection.reconnect()\n",
    "show_db_query = \"SHOW DATABASES\"\n",
    "with connection.cursor() as cursor:\n",
    "        cursor.execute(show_db_query)\n",
    "        for db in cursor:\n",
    "            print(db)"
   ]
  },
  {
   "cell_type": "markdown",
   "id": "ab609256",
   "metadata": {},
   "source": [
    "The above code prints the names of all the databases currently in your MySQL server. The SHOW DATABASES command also outputs some databases that you didn’t create in your server, like information_schema, performance_schema, and so on. These databases are generated automatically by the MySQL server and provide access to a variety of database metadata and MySQL server settings.\n",
    "\n",
    "You created a new database in this section by executing the CREATE DATABASE statement. In the next section, you’ll see how to connect to a database that already exists."
   ]
  },
  {
   "cell_type": "markdown",
   "id": "485217fe",
   "metadata": {},
   "source": [
    "# Connecting to an Existing Database\n",
    "\n",
    "In the last section, you created a new database called online_movie_rating. However, you still haven’t connected to it. In many situations, you’ll already have a MySQL database that you want to connect with your Python application.\n",
    "\n",
    "You can do this using the same connect() function that you used earlier by sending an additional parameter called database:"
   ]
  },
  {
   "cell_type": "code",
   "execution_count": 3,
   "id": "120c8865",
   "metadata": {},
   "outputs": [
    {
     "name": "stdout",
     "output_type": "stream",
     "text": [
      "Enter username: root\n",
      "Enter password: ········\n",
      "<mysql.connector.connection_cext.CMySQLConnection object at 0x0000024F0344F760>\n"
     ]
    }
   ],
   "source": [
    "from getpass import getpass\n",
    "from mysql.connector import connect, Error\n",
    "\n",
    "try:\n",
    "    with connect(\n",
    "        host=\"localhost\",\n",
    "        user=input(\"Enter username: \"),\n",
    "        password=getpass(\"Enter password: \"),\n",
    "        database=\"online_movie_rating\",\n",
    "    ) as connection:\n",
    "        print(connection)\n",
    "except Error as e:\n",
    "    print(e)"
   ]
  },
  {
   "cell_type": "markdown",
   "id": "3c3bd971",
   "metadata": {},
   "source": [
    "The above code is very similar to the connection script that you used earlier. The only change here is an additional database parameter, where the name of your database is passed to connect(). Once you execute this script, you’ll be connected to the online_movie_rating database."
   ]
  },
  {
   "cell_type": "markdown",
   "id": "d740e125",
   "metadata": {},
   "source": [
    "# Creating, Altering, and Dropping a Table"
   ]
  },
  {
   "cell_type": "markdown",
   "id": "7e196f8e",
   "metadata": {},
   "source": [
    "In this section, you’ll learn how to perform some basic DDL queries like CREATE, DROP, and ALTER with Python. You’ll get a quick look at the MySQL database that you’ll use in the rest of this SQL learning. You’ll also create all the tables required for the database and learn how to perform modifications on these tables later on."
   ]
  },
  {
   "cell_type": "raw",
   "id": "b7b14ca3",
   "metadata": {},
   "source": [
    "Defining the Database Schema:\n",
    "\n",
    "You can start by creating a database schema for an online movie rating system. The database will consist of three tables:\n",
    "\n",
    "1. movies contains general information about movies and has the following attributes:\n",
    "    \n",
    "id\n",
    "title\n",
    "release_year\n",
    "genre\n",
    "collection_in_mil\n",
    "\n",
    "2. reviewers contains information about people who posted reviews or ratings and has the following attributes:\n",
    "    \n",
    "id\n",
    "first_name\n",
    "last_name\n",
    "\n",
    "3. ratings contains information about ratings that have been posted and has the following attributes:\n",
    "movie_id (foreign key)\n",
    "reviewer_id (foreign key)\n",
    "rating\n",
    "\n",
    "A real-world movie rating system, like IMDb, would need to store a bunch of other attributes, like emails, movie cast lists, and so on. If you want, you can add more tables and attributes to this database. But these three tables will suffice for the purpose of our learning for now..."
   ]
  },
  {
   "cell_type": "markdown",
   "id": "91b324d6",
   "metadata": {},
   "source": [
    "## The image below depicts the database schema:"
   ]
  },
  {
   "attachments": {
    "schema.webp": {
     "image/webp": "[encoded data removed]"
    }
   },
   "cell_type": "markdown",
   "id": "fba28938",
   "metadata": {},
   "source": [
    "![schema.webp](attachment:schema.webp)"
   ]
  },
  {
   "cell_type": "raw",
   "id": "3fb31793",
   "metadata": {},
   "source": [
    "                    Above is the Schema Diagram for an Online Movie Rating System"
   ]
  },
  {
   "cell_type": "markdown",
   "id": "36849d11",
   "metadata": {},
   "source": [
    "The tables in this database are related to each other. movies and reviewers will have a many-to-many relationship since one movie can be reviewed by multiple reviewers and one reviewer can review multiple movies. The ratings table connects the movies table with the reviewers table."
   ]
  },
  {
   "cell_type": "markdown",
   "id": "8bc8c8c6",
   "metadata": {},
   "source": [
    "# Creating Tables Using the CREATE TABLE Statement\n",
    "\n",
    "Now, to create a new table in MySQL, you need to use the CREATE TABLE statement. The following MySQL query will create the movies table for your online_movie_rating database:"
   ]
  },
  {
   "cell_type": "raw",
   "id": "95006143",
   "metadata": {},
   "source": [
    "CREATE TABLE movies(\n",
    "    id INT AUTO_INCREMENT PRIMARY KEY,\n",
    "    title VARCHAR(100),\n",
    "    release_year YEAR(4),\n",
    "    genre VARCHAR(100),\n",
    "    collection_in_mil INT\n",
    ");"
   ]
  },
  {
   "cell_type": "raw",
   "id": "61378a7f",
   "metadata": {},
   "source": [
    "If you’ve looked at SQL statements before, then most of the above query might make sense. But there are some differences in the MySQL syntax that you should be aware of.\n",
    "\n",
    "For example, MySQL has a wide variety of data types for your perusal, including YEAR, INT, BIGINT, and so on. Also, MySQL uses the AUTO_INCREMENT keyword when a column value has to be incremented automatically on the insertion of new records.\n",
    "\n",
    "To create a new table, you need to pass this query to cursor.execute(), which accepts a MySQL query and executes the query on the connected MySQL database:"
   ]
  },
  {
   "cell_type": "code",
   "execution_count": 13,
   "id": "6f57c65e",
   "metadata": {},
   "outputs": [],
   "source": [
    "connection.reconnect()\n",
    "create_movies_table_query = \"\"\"\n",
    "CREATE TABLE movies(\n",
    "    id INT AUTO_INCREMENT PRIMARY KEY,\n",
    "    title VARCHAR(100),\n",
    "    release_year YEAR(4),\n",
    "    genre VARCHAR(100),\n",
    "    collection_in_mil INT\n",
    ")\n",
    "\"\"\"\n",
    "with connection.cursor() as cursor:\n",
    "    cursor.execute(create_movies_table_query)\n",
    "    connection.commit()"
   ]
  },
  {
   "cell_type": "markdown",
   "id": "58a16000",
   "metadata": {},
   "source": [
    "Now you have the movies table in your database. You pass create_movies_table_query to cursor.execute(), which performs the required execution."
   ]
  },
  {
   "cell_type": "markdown",
   "id": "14e87d5a",
   "metadata": {},
   "source": [
    "Note: The connection variable refers to the MySQLConnection object that was returned when you connected to your database."
   ]
  },
  {
   "cell_type": "raw",
   "id": "8a93eba9",
   "metadata": {},
   "source": [
    "Also, notice the connection.commit() statement at the end of the code. By default, your MySQL connector doesn’t autocommit transactions. In MySQL, modifications mentioned in a transaction occur only when you use a COMMIT command in the end. Always call this method after every transaction to perform changes in the actual table.\n",
    "\n",
    "As you did with the movies table, execute the following script to create the reviewers table:"
   ]
  },
  {
   "cell_type": "code",
   "execution_count": 23,
   "id": "3cddd818",
   "metadata": {},
   "outputs": [],
   "source": [
    "#connection.reconnect()\n",
    "#drop_table_query = \"DROP TABLE reviewers\"  ## first we have to drop the foreign key table ratings before droping reviewers\n",
    "#with connection.cursor() as cursor:\n",
    "#    cursor.execute(drop_table_query)"
   ]
  },
  {
   "cell_type": "code",
   "execution_count": 20,
   "id": "94b925ec",
   "metadata": {},
   "outputs": [],
   "source": [
    "connection.reconnect()\n",
    "create_reviewers_table_query = \"\"\"\n",
    "CREATE TABLE reviewers (\n",
    "    id INT AUTO_INCREMENT PRIMARY KEY,\n",
    "    first_name VARCHAR(100),\n",
    "    last_name VARCHAR(100)\n",
    ")\n",
    "\"\"\"\n",
    "with connection.cursor() as cursor:\n",
    "    cursor.execute(create_reviewers_table_query)\n",
    "    connection.commit()"
   ]
  },
  {
   "cell_type": "markdown",
   "id": "bda529cf",
   "metadata": {},
   "source": [
    "If required, you could add more information about a reviewer, such as their email ID or demographic information. But first_name and last_name will serve your purpose for now.\n",
    "\n",
    "Finally, you can create the ratings table using the following script:"
   ]
  },
  {
   "cell_type": "code",
   "execution_count": 21,
   "id": "0f1ceb90",
   "metadata": {},
   "outputs": [],
   "source": [
    "connection.reconnect()\n",
    "create_ratings_table_query = \"\"\"\n",
    "CREATE TABLE ratings (\n",
    "    movie_id INT,\n",
    "    reviewer_id INT,\n",
    "    rating DECIMAL(2,1),\n",
    "    FOREIGN KEY(movie_id) REFERENCES movies(id),\n",
    "    FOREIGN KEY(reviewer_id) REFERENCES reviewers(id),\n",
    "    PRIMARY KEY(movie_id, reviewer_id)\n",
    ")\n",
    "\"\"\"\n",
    "with connection.cursor() as cursor:\n",
    "    cursor.execute(create_ratings_table_query)\n",
    "    connection.commit()"
   ]
  },
  {
   "cell_type": "markdown",
   "id": "39d1b687",
   "metadata": {},
   "source": [
    "The implementation of foreign key relationships in MySQL is slightly different and limited as compared to the standard SQL. In MySQL, both the parent and the child in the foreign key constraint must use the same storage engine."
   ]
  },
  {
   "cell_type": "markdown",
   "id": "4c0e8490",
   "metadata": {},
   "source": [
    "A storage engine is the underlying software component that a database management system uses for performing SQL operations. In MySQL, storage engines come in two different flavors:"
   ]
  },
  {
   "cell_type": "raw",
   "id": "3e6196db",
   "metadata": {},
   "source": [
    "1. Transactional storage engines: \n",
    "\n",
    "are transaction safe and allow you to roll back transactions using simple commands like rollback. Many popular MySQL engines, including InnoDB and NDB, belong to this category.\n",
    "\n",
    "2. Nontransactional storage engines:\n",
    "\n",
    "depend on elaborate manual code to undo statements committed on a database. MyISAM, MEMORY, and many other MySQL engines are nontransactional."
   ]
  },
  {
   "cell_type": "raw",
   "id": "4b3f031b",
   "metadata": {},
   "source": [
    "InnoDB is the default and most popular storage engine. It helps maintain data integrity by supporting foreign key constraints. This means that any CRUD operation on a foreign key is checked to ensure that it doesn’t lead to inconsistencies across different tables.\n",
    "\n",
    "Also, note that the ratings table uses the columns movie_id and reviewer_id, both foreign keys, jointly as the primary key. This step ensures that a reviewer can’t rate the same movie twice."
   ]
  },
  {
   "cell_type": "raw",
   "id": "9082183f",
   "metadata": {},
   "source": [
    "You may choose to reuse the same cursor for multiple executions. In that case, all executions would become one atomic transaction rather than multiple separate transactions. For example, you can execute all CREATE TABLE statements with one cursor and then commit your transaction only once:\n",
    "\n",
    "with connection.cursor() as cursor:\n",
    "    cursor.execute(create_movies_table_query)\n",
    "    cursor.execute(create_reviewers_table_query)       =>>> atomic transaction\n",
    "    cursor.execute(create_ratings_table_query)\n",
    "    connection.commit()\n",
    "\n",
    "The above code will first execute all three CREATE statements. Then it will send a COMMIT command to the MySQL server that commits your transaction. You can also use .rollback() to send a ROLLBACK command to the MySQL server and remove all data changes from the transaction."
   ]
  },
  {
   "cell_type": "markdown",
   "id": "28977970",
   "metadata": {},
   "source": [
    "# Showing a Table Schema Using the DESCRIBE Statement"
   ]
  },
  {
   "cell_type": "raw",
   "id": "00b07036",
   "metadata": {},
   "source": [
    "Now, that you’ve created all three tables, you can look at their schema using the following SQL statement:\n",
    "    \n",
    "DESCRIBE <table_name>;"
   ]
  },
  {
   "cell_type": "raw",
   "id": "b647346c",
   "metadata": {},
   "source": [
    "To get some results back from the cursor object, you need to use cursor.fetchall(). This method fetches all rows from the last executed statement. Assuming you already have the MySQLConnection object in the connection variable, you can print out all the results fetched by cursor.fetchall():"
   ]
  },
  {
   "cell_type": "code",
   "execution_count": 14,
   "id": "d90e4ea3",
   "metadata": {},
   "outputs": [
    {
     "name": "stdout",
     "output_type": "stream",
     "text": [
      "('id', b'int', 'NO', 'PRI', None, 'auto_increment')\n",
      "('title', b'varchar(100)', 'YES', '', None, '')\n",
      "('release_year', b'year', 'YES', '', None, '')\n",
      "('genre', b'varchar(100)', 'YES', '', None, '')\n",
      "('collection_in_mil', b'int', 'YES', '', None, '')\n"
     ]
    }
   ],
   "source": [
    "connection.reconnect()\n",
    "show_table_query = \"DESCRIBE movies\"\n",
    "with connection.cursor() as cursor:\n",
    "        cursor.execute(show_table_query)\n",
    "        \n",
    "         # Fetch rows from last executed query\n",
    "            \n",
    "        result = cursor.fetchall()\n",
    "        \n",
    "        for row in result:\n",
    "            print(row)"
   ]
  },
  {
   "cell_type": "markdown",
   "id": "207a1049",
   "metadata": {},
   "source": [
    "Once you execute the above code, you should receive a table containing information about all the columns in movies table. For each column, you’ll receive details like the column’s data type, whether the column is a primary key, and so on."
   ]
  },
  {
   "cell_type": "markdown",
   "id": "52bdb26b",
   "metadata": {},
   "source": [
    "# Modifying a Table Schema Using the ALTER Statement"
   ]
  },
  {
   "cell_type": "raw",
   "id": "74a2cfe4",
   "metadata": {},
   "source": [
    "In the movies table, you have a column called collection_in_mil, which contains a movie’s box office collection in millions of dollars. You can write the following MySQL statement to modify the data type of collection_in_mil attribute from INT to DECIMAL:"
   ]
  },
  {
   "cell_type": "raw",
   "id": "6e1e70cb",
   "metadata": {},
   "source": [
    "ALTER TABLE movies MODIFY COLUMN collection_in_mil DECIMAL(4,1);"
   ]
  },
  {
   "cell_type": "raw",
   "id": "65e5709e",
   "metadata": {},
   "source": [
    "DECIMAL(4,1) means a decimal number that can have a maximum of 4 digits, of which 1 is decimal, such as 120.1, 3.4, 38.0, and so on. After executing the ALTER TABLE statement, you can show the updated table schema using DESCRIBE:"
   ]
  },
  {
   "cell_type": "code",
   "execution_count": 19,
   "id": "1ce028fe",
   "metadata": {},
   "outputs": [
    {
     "name": "stdout",
     "output_type": "stream",
     "text": [
      "Movie Table Schema after alteration:\n",
      "('id', b'int', 'NO', 'PRI', None, 'auto_increment')\n",
      "('title', b'varchar(100)', 'YES', '', None, '')\n",
      "('release_year', b'year', 'YES', '', None, '')\n",
      "('genre', b'varchar(100)', 'YES', '', None, '')\n",
      "('collection_in_mil', b'decimal(4,1)', 'YES', '', None, '')\n"
     ]
    }
   ],
   "source": [
    "alter_table_query = \"\"\"\n",
    "    ALTER TABLE movies\n",
    "    MODIFY COLUMN collection_in_mil DECIMAL(4,1)\n",
    "    \"\"\"\n",
    "show_table_query = \"DESCRIBE movies\"\n",
    "with connection.cursor() as cursor:\n",
    "        cursor.execute(alter_table_query)\n",
    "        cursor.execute(show_table_query)\n",
    "        # Fetch rows from last executed query\n",
    "        result = cursor.fetchall()\n",
    "        print(\"Movie Table Schema after alteration:\")\n",
    "        for row in result:\n",
    "            print(row)"
   ]
  },
  {
   "cell_type": "markdown",
   "id": "c09dcd24",
   "metadata": {},
   "source": [
    "As shown in the output, the collection_in_mil attribute is now of type DECIMAL(4,1). Also note that in the code above, you call cursor.execute() twice. But cursor.fetchall() fetches rows from only the last executed query, which is the show_table_query."
   ]
  },
  {
   "cell_type": "markdown",
   "id": "a04d41b1",
   "metadata": {},
   "source": [
    "# Deleting Tables Using the DROP Statement"
   ]
  },
  {
   "cell_type": "markdown",
   "id": "29ba5103",
   "metadata": {},
   "source": [
    "To delete a table, you need to execute the DROP TABLE statement in MySQL. Deleting a table is an irreversible process. If you execute the code below, then you’ll need to call the CREATE TABLE query again to use the ratings table in the upcoming sections.\n",
    "\n",
    "To delete the ratings table, send drop_table_query to cursor.execute():"
   ]
  },
  {
   "cell_type": "raw",
   "id": "dcc7fbf5",
   "metadata": {},
   "source": [
    "drop_table_query = \"DROP TABLE ratings\"\n",
    "\n",
    "with connection.cursor() as cursor:\n",
    "    cursor.execute(drop_table_query)\n",
    "    \n",
    "If you execute the above code, you will have successfully deleted the ratings table."
   ]
  },
  {
   "cell_type": "markdown",
   "id": "01e90ea8",
   "metadata": {},
   "source": [
    "# Inserting Records in Tables\n",
    "\n",
    "In the last section, you created three tables in your database: movies, reviewers, and ratings. Now you need to populate these tables with data. This section will cover two different ways to insert records in the MySQL Connector for Python.\n",
    "\n",
    "The first method, .execute(), works well when the number of records is small and the records can be hard-coded. The second method, .executemany(), is more popular and is better suited for real-world scenarios."
   ]
  },
  {
   "cell_type": "raw",
   "id": "63094d51",
   "metadata": {},
   "source": [
    "Using .execute()\n",
    "The first approach uses the same cursor.execute() method that you’ve been using until now. You write the INSERT INTO query in a string and pass it to cursor.execute(). You can use this method to insert data into the movies table.\n",
    "\n",
    "For reference, the movies table has five attributes:\n",
    "\n",
    "id\n",
    "\n",
    "title\n",
    "\n",
    "release_year\n",
    "\n",
    "genre\n",
    "\n",
    "collection_in_mil\n",
    "\n",
    "You don’t need to add data for id as the AUTO_INCREMENT automatically calculates id for you. The following script inserts records into the movies table:"
   ]
  },
  {
   "cell_type": "code",
   "execution_count": 21,
   "id": "4b72f142",
   "metadata": {},
   "outputs": [],
   "source": [
    "insert_movies_query = \"\"\"\n",
    "INSERT INTO movies (title, release_year, genre, collection_in_mil)\n",
    "VALUES\n",
    "    (\"Forrest Gump\", 1994, \"Drama\", 330.2),\n",
    "    (\"3 Idiots\", 2009, \"Drama\", 2.4),\n",
    "    (\"Eternal Sunshine of the Spotless Mind\", 2004, \"Drama\", 34.5),\n",
    "    (\"Good Will Hunting\", 1997, \"Drama\", 138.1),\n",
    "    (\"Skyfall\", 2012, \"Action\", 304.6),\n",
    "    (\"Gladiator\", 2000, \"Action\", 188.7),\n",
    "    (\"Black\", 2005, \"Drama\", 3.0),\n",
    "    (\"Titanic\", 1997, \"Romance\", 659.2),\n",
    "    (\"The Shawshank Redemption\", 1994, \"Drama\",28.4),\n",
    "    (\"Udaan\", 2010, \"Drama\", 1.5),\n",
    "    (\"Home Alone\", 1990, \"Comedy\", 286.9),\n",
    "    (\"Casablanca\", 1942, \"Romance\", 1.0),\n",
    "    (\"Avengers: Endgame\", 2019, \"Action\", 858.8),\n",
    "    (\"Night of the Living Dead\", 1968, \"Horror\", 2.5),\n",
    "    (\"The Godfather\", 1972, \"Crime\", 135.6),\n",
    "    (\"Haider\", 2014, \"Action\", 4.2),\n",
    "    (\"Inception\", 2010, \"Adventure\", 293.7),\n",
    "    (\"Evil\", 2003, \"Horror\", 1.3),\n",
    "    (\"Toy Story 4\", 2019, \"Animation\", 434.9),\n",
    "    (\"Air Force One\", 1997, \"Drama\", 138.1),\n",
    "    (\"The Dark Knight\", 2008, \"Action\",535.4),\n",
    "    (\"Bhaag Milkha Bhaag\", 2013, \"Sport\", 4.1),\n",
    "    (\"The Lion King\", 1994, \"Animation\", 423.6),\n",
    "    (\"Pulp Fiction\", 1994, \"Crime\", 108.8),\n",
    "    (\"Kai Po Che\", 2013, \"Sport\", 6.0),\n",
    "    (\"Beasts of No Nation\", 2015, \"War\", 1.4),\n",
    "    (\"Andadhun\", 2018, \"Thriller\", 2.9),\n",
    "    (\"The Silence of the Lambs\", 1991, \"Crime\", 68.2),\n",
    "    (\"Deadpool\", 2016, \"Action\", 363.6),\n",
    "    (\"Drishyam\", 2015, \"Mystery\", 3.0)\n",
    "\"\"\"\n",
    "with connection.cursor() as cursor:\n",
    "    cursor.execute(insert_movies_query)\n",
    "    connection.commit()"
   ]
  },
  {
   "cell_type": "raw",
   "id": "ff676b6e",
   "metadata": {},
   "source": [
    "The movies table is now loaded with thirty records. The code calls connection.commit() at the end. It’s crucial to call .commit() after preforming any modifications to a table."
   ]
  },
  {
   "cell_type": "markdown",
   "id": "d2294597",
   "metadata": {},
   "source": [
    "# Using .executemany()\n",
    "\n",
    "The previous approach is more suitable when the number of records is fairly small and you can write these records directly into the code. But this is rarely true. You’ll often have this data stored in some other file, or the data will be generated by a different script and will need to be added to the MySQL database.\n",
    "\n",
    "This is where .executemany() comes in handy. It accepts two parameters:\n",
    "\n",
    "A query that contains placeholders for the records that need to be inserted\n",
    "\n",
    "A list that contains all records that you wish to insert\n",
    "\n",
    "The following example inserts records for the reviewers table:"
   ]
  },
  {
   "cell_type": "code",
   "execution_count": 22,
   "id": "4b0fbba9",
   "metadata": {},
   "outputs": [],
   "source": [
    "insert_reviewers_query = \"\"\"\n",
    "INSERT INTO reviewers\n",
    "(first_name, last_name)\n",
    "VALUES ( %s, %s )\n",
    "\"\"\"\n",
    "reviewers_records = [\n",
    "    (\"Chaitanya\", \"Baweja\"),\n",
    "    (\"Mary\", \"Cooper\"),\n",
    "    (\"John\", \"Wayne\"),\n",
    "    (\"Thomas\", \"Stoneman\"),\n",
    "    (\"Penny\", \"Hofstadter\"),\n",
    "    (\"Mitchell\", \"Marsh\"),\n",
    "    (\"Wyatt\", \"Skaggs\"),\n",
    "    (\"Andre\", \"Veiga\"),\n",
    "    (\"Sheldon\", \"Cooper\"),\n",
    "    (\"Kimbra\", \"Masters\"),\n",
    "    (\"Kat\", \"Dennings\"),\n",
    "    (\"Bruce\", \"Wayne\"),\n",
    "    (\"Domingo\", \"Cortes\"),\n",
    "    (\"Rajesh\", \"Koothrappali\"),\n",
    "    (\"Ben\", \"Glocker\"),\n",
    "    (\"Mahinder\", \"Dhoni\"),\n",
    "    (\"Akbar\", \"Khan\"),\n",
    "    (\"Howard\", \"Wolowitz\"),\n",
    "    (\"Pinkie\", \"Petit\"),\n",
    "    (\"Gurkaran\", \"Singh\"),\n",
    "    (\"Amy\", \"Farah Fowler\"),\n",
    "    (\"Marlon\", \"Crafford\"),\n",
    "]\n",
    "with connection.cursor() as cursor:\n",
    "    cursor.executemany(insert_reviewers_query, reviewers_records)\n",
    "    connection.commit()"
   ]
  },
  {
   "cell_type": "raw",
   "id": "90802ca2",
   "metadata": {},
   "source": [
    "In the script above, you pass both the query and the list of records as arguments to .executemany(). These records could have been fetched from a file or from the user and stored in the reviewers_records list.\n",
    "\n",
    "The code uses %s as a placeholder for the two strings that had to be inserted in the insert_reviewers_query. Placeholders act as format specifiers and help reserve a spot for a variable inside a string. The specified variable is then added to this spot during execution.\n",
    "\n",
    "You can similarly use .executemany() to insert records in the ratings table:"
   ]
  },
  {
   "cell_type": "code",
   "execution_count": 24,
   "id": "f64b8672",
   "metadata": {},
   "outputs": [],
   "source": [
    "insert_ratings_query = \"\"\"\n",
    "INSERT INTO ratings\n",
    "(rating, movie_id, reviewer_id)\n",
    "VALUES ( %s, %s, %s)\n",
    "\"\"\""
   ]
  },
  {
   "cell_type": "code",
   "execution_count": 26,
   "id": "66c63bd7",
   "metadata": {},
   "outputs": [],
   "source": [
    "ratings_records = [(6.4, 17, 5), (5.6, 19, 1), (6.3, 22, 14), (5.1, 21, 17),\n",
    "    (5.0, 5, 5), (6.5, 21, 5), (8.5, 30, 13), (9.7, 6, 4),\n",
    "    (8.5, 24, 12), (9.9, 14, 9), (8.7, 26, 14), (9.9, 6, 10),\n",
    "    (5.1, 30, 6), (5.4, 18, 16), (6.2, 6, 20), (7.3, 21, 19),\n",
    "    (8.1, 17, 18), (5.0, 7, 2), (9.8, 23, 3), (8.0, 22, 9),\n",
    "    (8.5, 11, 13), (5.0, 5, 11), (5.7, 8, 2), (7.6, 25, 19),\n",
    "    (5.2, 18, 15), (9.7, 13, 3), (5.8, 18, 8), (5.8, 30, 15),\n",
    "    (8.4, 21, 18), (6.2, 23, 16), (7.0, 10, 18), (9.5, 30, 20),\n",
    "    (8.9, 3, 19), (6.4, 12, 2), (7.8, 12, 22), (9.9, 15, 13),\n",
    "    (7.5, 20, 17), (9.0, 25, 6), (8.5, 23, 2), (5.3, 30, 17),\n",
    "    (6.4, 5, 10), (8.1, 5, 21), (5.7, 22, 1), (6.3, 28, 4),\n",
    "    (9.8, 13, 1)\n",
    "]\n",
    "\n",
    "with connection.cursor() as cursor:\n",
    "    cursor.executemany(insert_ratings_query, ratings_records)\n",
    "    connection.commit()"
   ]
  },
  {
   "cell_type": "markdown",
   "id": "b3fc28f1",
   "metadata": {},
   "source": [
    "All three tables are now populated with data. You now have a fully functional online movie rating database. The next step is to understand how to interact with this database."
   ]
  },
  {
   "cell_type": "markdown",
   "id": "7fb3872a",
   "metadata": {},
   "source": [
    "# Reading Records Using the SELECT Statement"
   ]
  },
  {
   "cell_type": "raw",
   "id": "ee50504c",
   "metadata": {},
   "source": [
    "To retrieve records, you need to send a SELECT query to cursor.execute(). Then you use cursor.fetchall() to extract the retrieved table in the form of a list of rows or records.\n",
    "\n",
    "Try writing a MySQL query to select all records from the movies table and send it to .execute():"
   ]
  },
  {
   "cell_type": "code",
   "execution_count": 33,
   "id": "a5005b0d",
   "metadata": {},
   "outputs": [
    {
     "name": "stdout",
     "output_type": "stream",
     "text": [
      "(1, 'Forrest Gump', 1994, 'Drama', Decimal('330.2'))\n",
      "(2, '3 Idiots', 2009, 'Drama', Decimal('2.4'))\n",
      "(3, 'Eternal Sunshine of the Spotless Mind', 2004, 'Drama', Decimal('34.5'))\n",
      "(4, 'Good Will Hunting', 1997, 'Drama', Decimal('138.1'))\n",
      "(5, 'Skyfall', 2012, 'Action', Decimal('304.6'))\n"
     ]
    }
   ],
   "source": [
    "select_movies_query = \"SELECT * FROM movies LIMIT 5\"\n",
    "with connection.cursor() as cursor:\n",
    "    cursor.execute(select_movies_query)\n",
    "    result = cursor.fetchall()\n",
    "    for row in result:\n",
    "        print(row)"
   ]
  },
  {
   "cell_type": "raw",
   "id": "42b13a9d",
   "metadata": {},
   "source": [
    "The result variable holds the records returned from using .fetchall(). It’s a list of tuples representing individual records from the table.\n",
    "\n",
    "In the query above, you use the LIMIT clause to constrain the number of rows that are received from the SELECT statement. Developers often use LIMIT to perform pagination when handling large volumes of data.\n",
    "\n",
    "In MySQL, the LIMIT clause takes one or two nonnegative numeric arguments. When using one argument, you specify the maximum number of rows to return. Since your query includes LIMIT 5, only the first 5 records are fetched. When using both arguments, you can also specify the offset of the first row to return"
   ]
  },
  {
   "cell_type": "raw",
   "id": "60a197d3",
   "metadata": {},
   "source": [
    "SELECT * FROM movies LIMIT 2,5;"
   ]
  },
  {
   "cell_type": "markdown",
   "id": "e82ada2d",
   "metadata": {},
   "source": [
    "The first argument specifies an offset of 2, and the second argument constrains the number of returned rows to 5. The above query will return rows 3 to 7.\n",
    "\n",
    "You can also query for selected columns:"
   ]
  },
  {
   "cell_type": "code",
   "execution_count": 46,
   "id": "d2a0a1d8",
   "metadata": {},
   "outputs": [
    {
     "name": "stdout",
     "output_type": "stream",
     "text": [
      "('Forrest Gump', 1994)\n",
      "('3 Idiots', 2009)\n",
      "('Eternal Sunshine of the Spotless Mind', 2004)\n",
      "('Good Will Hunting', 1997)\n",
      "('Skyfall', 2012)\n"
     ]
    }
   ],
   "source": [
    "select_movies_query = \"SELECT title, release_year FROM movies LIMIT 5\"\n",
    "with connection.cursor() as cursor:\n",
    "     cursor.execute(select_movies_query)\n",
    "     for row in cursor.fetchall():\n",
    "            print(row)"
   ]
  },
  {
   "cell_type": "markdown",
   "id": "a449ed54",
   "metadata": {},
   "source": [
    "Now, the code outputs values only from the two specified columns: title and release_year."
   ]
  },
  {
   "cell_type": "markdown",
   "id": "8404c51d",
   "metadata": {},
   "source": [
    "# Filtering Results Using the WHERE Clause"
   ]
  },
  {
   "cell_type": "raw",
   "id": "addefd04",
   "metadata": {},
   "source": [
    "You can filter table records by specific criteria using the WHERE clause. For example, to retrieve all movies with a box office collection greater than $300 million, you could run the following query:"
   ]
  },
  {
   "cell_type": "raw",
   "id": "fd7089ba",
   "metadata": {},
   "source": [
    "SELECT title, collection_in_mil\n",
    "FROM movies\n",
    "WHERE collection_in_mil > 300;\n",
    "\n",
    "You can also use ORDER BY clause in the last query to sort the results from the highest to the lowest earner:"
   ]
  },
  {
   "cell_type": "code",
   "execution_count": 48,
   "id": "2e116128",
   "metadata": {},
   "outputs": [
    {
     "name": "stdout",
     "output_type": "stream",
     "text": [
      "('Avengers: Endgame', Decimal('858.8'))\n",
      "('Titanic', Decimal('659.2'))\n",
      "('The Dark Knight', Decimal('535.4'))\n",
      "('Toy Story 4', Decimal('434.9'))\n",
      "('The Lion King', Decimal('423.6'))\n",
      "('Deadpool', Decimal('363.6'))\n",
      "('Forrest Gump', Decimal('330.2'))\n",
      "('Skyfall', Decimal('304.6'))\n"
     ]
    }
   ],
   "source": [
    "select_movies_query = \"\"\"\n",
    "    SELECT title, collection_in_mil\n",
    "    FROM movies\n",
    "    WHERE collection_in_mil > 300\n",
    "    ORDER BY collection_in_mil DESC\n",
    "    \"\"\"\n",
    "with connection.cursor() as cursor:\n",
    "        cursor.execute(select_movies_query)\n",
    "        for movie in cursor.fetchall():\n",
    "            print(movie)"
   ]
  },
  {
   "cell_type": "raw",
   "id": "b6a5af95",
   "metadata": {},
   "source": [
    "MySQL offers a plethora of string formatting operations like CONCAT for concatenating strings. Often, websites will show the movie title along with its release year to avoid confusion. To retrieve the titles of the top five grossing movies, concatenated with their release years, you can write the following query:"
   ]
  },
  {
   "cell_type": "code",
   "execution_count": 50,
   "id": "c4a250bc",
   "metadata": {},
   "outputs": [
    {
     "name": "stdout",
     "output_type": "stream",
     "text": [
      "('Avengers: Endgame (2019)', Decimal('858.8'))\n",
      "('Titanic (1997)', Decimal('659.2'))\n",
      "('The Dark Knight (2008)', Decimal('535.4'))\n",
      "('Toy Story 4 (2019)', Decimal('434.9'))\n",
      "('The Lion King (1994)', Decimal('423.6'))\n"
     ]
    }
   ],
   "source": [
    "select_movies_query = \"\"\"\n",
    "    SELECT CONCAT(title, \" (\", release_year, \")\"),\n",
    "         collection_in_mil\n",
    "    FROM movies\n",
    "    ORDER BY collection_in_mil DESC\n",
    "    LIMIT 5\n",
    " \"\"\"\n",
    "with connection.cursor() as cursor:\n",
    "        cursor.execute(select_movies_query)\n",
    "        for movie in cursor.fetchall():\n",
    "            print(movie)"
   ]
  },
  {
   "cell_type": "raw",
   "id": "3f687496",
   "metadata": {},
   "source": [
    "If you don’t want to use the LIMIT clause and you don’t need to fetch all the records, then the cursor object has .fetchone() and .fetchmany() methods as well:\n",
    "\n",
    ".fetchone() retrieves either the next row of the result, as a tuple, or None if no more rows are available.\n",
    "\n",
    ".fetchmany() retrieves the next set of rows from the result as a list of tuples. It has a size argument, which defaults to 1, that you can use to specify the number of rows you need to fetch. If no more rows are available, then the method returns an empty list.\n",
    "\n",
    "Try retrieving the titles of the five highest-grossing movies concatenated with their release years again, but this time use .fetchmany():"
   ]
  },
  {
   "cell_type": "code",
   "execution_count": 52,
   "id": "9e895d2d",
   "metadata": {},
   "outputs": [
    {
     "name": "stdout",
     "output_type": "stream",
     "text": [
      "('Avengers: Endgame (2019)', Decimal('858.8'))\n",
      "('Titanic (1997)', Decimal('659.2'))\n",
      "('The Dark Knight (2008)', Decimal('535.4'))\n",
      "('Toy Story 4 (2019)', Decimal('434.9'))\n",
      "('The Lion King (1994)', Decimal('423.6'))\n"
     ]
    }
   ],
   "source": [
    "select_movies_query = \"\"\"\n",
    "    SELECT CONCAT(title, \" (\", release_year, \")\"),\n",
    "          collection_in_mil\n",
    "    FROM movies\n",
    "    ORDER BY collection_in_mil DESC\n",
    "    \"\"\"\n",
    "with connection.cursor() as cursor:\n",
    "        cursor.execute(select_movies_query)\n",
    "        for movie in cursor.fetchmany(size=5):\n",
    "            print(movie)\n",
    "        cursor.fetchall()"
   ]
  },
  {
   "cell_type": "raw",
   "id": "9866bb9d",
   "metadata": {},
   "source": [
    "The output with .fetchmany() is similar to what you received when you used the LIMIT clause. You might have noticed the additional cursor.fetchall() call at the end. You do this to clean all the remaining results that weren’t read by .fetchmany().\n",
    "\n",
    "It’s necessary to clean all unread results before executing any other statements on the same connection. Otherwise, an InternalError: Unread result found exception will be raised."
   ]
  },
  {
   "cell_type": "markdown",
   "id": "c5315f83",
   "metadata": {},
   "source": [
    "# Handling Multiple Tables Using the JOIN Statement"
   ]
  },
  {
   "cell_type": "markdown",
   "id": "f3a68043",
   "metadata": {},
   "source": [
    "If you found the queries in the last section to be quite straightforward, don’t worry. You can make your SELECT queries as complex as you want using the same methods from the last section.\n",
    "\n",
    "Let’s look at some slightly more complex JOIN queries. If you want to find out the name of the top five highest-rated movies in your database, then you can run the following query:"
   ]
  },
  {
   "cell_type": "code",
   "execution_count": 4,
   "id": "0787a251",
   "metadata": {},
   "outputs": [
    {
     "name": "stdout",
     "output_type": "stream",
     "text": [
      "('The Godfather', Decimal('9.90000'))\n",
      "('Night of the Living Dead', Decimal('9.90000'))\n",
      "('Avengers: Endgame', Decimal('9.75000'))\n",
      "('Eternal Sunshine of the Spotless Mind', Decimal('8.90000'))\n",
      "('Beasts of No Nation', Decimal('8.70000'))\n"
     ]
    }
   ],
   "source": [
    "connection.reconnect()\n",
    "select_movies_query = \"\"\"\n",
    "    SELECT title, AVG(rating) as average_rating\n",
    "    FROM ratings\n",
    "    INNER JOIN movies\n",
    "        ON movies.id = ratings.movie_id\n",
    "    GROUP BY movie_id\n",
    "    ORDER BY average_rating DESC\n",
    "    LIMIT 5\n",
    "    \"\"\"\n",
    "with connection.cursor() as cursor:\n",
    "        cursor.execute(select_movies_query)\n",
    "        for movie in cursor.fetchall():\n",
    "            print(movie)"
   ]
  },
  {
   "cell_type": "markdown",
   "id": "659b1d49",
   "metadata": {},
   "source": [
    "As shown above, Night of the Living Dead and The Godfather are tied as the highest-rated movies in your online_movie_rating database.\n",
    "\n",
    "To find the name of the reviewer who gave the most ratings, write the following query:"
   ]
  },
  {
   "cell_type": "code",
   "execution_count": 7,
   "id": "f3b1ae9c",
   "metadata": {},
   "outputs": [
    {
     "name": "stdout",
     "output_type": "stream",
     "text": [
      "('Mary Cooper', 4)\n"
     ]
    }
   ],
   "source": [
    "connection.reconnect()\n",
    "select_movies_query = \"\"\"\n",
    "    SELECT CONCAT(first_name, \" \", last_name), COUNT(*) as num\n",
    "    FROM reviewers\n",
    "    INNER JOIN ratings\n",
    "        ON reviewers.id = ratings.reviewer_id\n",
    "    GROUP BY reviewer_id\n",
    "    ORDER BY num DESC\n",
    "    LIMIT 1\n",
    "    \"\"\"\n",
    "with connection.cursor() as cursor:\n",
    "        cursor.execute(select_movies_query)\n",
    "        for movie in cursor.fetchall():\n",
    "            print(movie)"
   ]
  },
  {
   "cell_type": "markdown",
   "id": "e215cb25",
   "metadata": {},
   "source": [
    "Mary Cooper is the most frequent reviewer in this database. As seen above, it doesn’t matter how complicated the query is because it’s ultimately handled by the MySQL server. Your process for executing a query will always remain the same: pass the query to cursor.execute() and fetch the results using .fetchall()."
   ]
  },
  {
   "cell_type": "markdown",
   "id": "2b015c3b",
   "metadata": {},
   "source": [
    "# Updating and Deleting Records From the Database"
   ]
  },
  {
   "cell_type": "markdown",
   "id": "e93308e5",
   "metadata": {},
   "source": [
    "In this section, you’ll be updating and deleting records from the database. Both of these operations can be performed on either a single record or multiple records in the table. You’ll select the rows that need to be modified using the WHERE clause."
   ]
  },
  {
   "cell_type": "markdown",
   "id": "4825b3b9",
   "metadata": {},
   "source": [
    "# UPDATE Command"
   ]
  },
  {
   "cell_type": "markdown",
   "id": "eb2bece2",
   "metadata": {},
   "source": [
    "One of the reviewers in your database, Amy Farah Fowler, is now married to Sheldon Cooper. Her last name has now changed to Cooper, so you need to update your database accordingly. For updating records, MySQL uses the UPDATE statement:"
   ]
  },
  {
   "cell_type": "code",
   "execution_count": 8,
   "id": "651b1933",
   "metadata": {},
   "outputs": [],
   "source": [
    "connection.reconnect()\n",
    "update_query = \"\"\"\n",
    "UPDATE\n",
    "    reviewers\n",
    "SET\n",
    "    last_name = \"Cooper\"\n",
    "WHERE\n",
    "    first_name = \"Amy\"\n",
    "\"\"\"\n",
    "with connection.cursor() as cursor:\n",
    "    cursor.execute(update_query)\n",
    "    connection.commit()"
   ]
  },
  {
   "cell_type": "markdown",
   "id": "68a9eb9a",
   "metadata": {},
   "source": [
    "The code passes the update query to cursor.execute(), and .commit() brings the required changes to the reviewers table."
   ]
  },
  {
   "cell_type": "markdown",
   "id": "48361227",
   "metadata": {},
   "source": [
    "Note: In the UPDATE query, the WHERE clause helps specify the records that need to be updated. If you don’t use WHERE, then all records will be updated!"
   ]
  },
  {
   "cell_type": "markdown",
   "id": "da471420",
   "metadata": {},
   "source": [
    "Suppose you need to provide an option that allows reviewers to modify ratings. A reviewer will provide three values, movie_id, reviewer_id, and the new rating. The code will display the record after performing the specified modification.\n",
    "\n",
    "Assuming that movie_id = 18, reviewer_id = 15, and the new rating = 5.0, you can use the following MySQL queries to perform the required modification"
   ]
  },
  {
   "cell_type": "raw",
   "id": "17122b7f",
   "metadata": {},
   "source": [
    "# SQL Querey\n",
    "\n",
    "UPDATE\n",
    "    ratings\n",
    "SET\n",
    "    rating = 5.0\n",
    "WHERE\n",
    "    movie_id = 18 AND reviewer_id = 15;\n",
    "\n",
    "SELECT *\n",
    "FROM ratings\n",
    "WHERE\n",
    "    movie_id = 18 AND reviewer_id = 15;"
   ]
  },
  {
   "cell_type": "markdown",
   "id": "d307a56a",
   "metadata": {},
   "source": [
    "The above queries first update the rating and then display it."
   ]
  },
  {
   "cell_type": "code",
   "execution_count": 9,
   "id": "a9137a98",
   "metadata": {},
   "outputs": [
    {
     "name": "stdout",
     "output_type": "stream",
     "text": [
      "Enter movie id: 18\n",
      "Enter reviewer id: 15\n",
      "Enter new rating: 5.0\n",
      "[(18, 15, Decimal('5.0'))]\n"
     ]
    }
   ],
   "source": [
    "from getpass import getpass\n",
    "from mysql.connector import connect, Error\n",
    "\n",
    "movie_id = input(\"Enter movie id: \")\n",
    "reviewer_id = input(\"Enter reviewer id: \")\n",
    "new_rating = input(\"Enter new rating: \")\n",
    "update_query = \"\"\"\n",
    "UPDATE\n",
    "    ratings\n",
    "SET\n",
    "    rating = \"%s\"\n",
    "WHERE\n",
    "    movie_id = \"%s\" AND reviewer_id = \"%s\";\n",
    "\n",
    "SELECT *\n",
    "FROM ratings\n",
    "WHERE\n",
    "    movie_id = \"%s\" AND reviewer_id = \"%s\"\n",
    "\"\"\" % (\n",
    "    new_rating,\n",
    "    movie_id,\n",
    "    reviewer_id,\n",
    "    movie_id,\n",
    "    reviewer_id,\n",
    ")\n",
    "\n",
    "\n",
    "with connection.cursor() as cursor:\n",
    "            for result in cursor.execute(update_query, multi=True):\n",
    "                if result.with_rows:\n",
    "                    print(result.fetchall())\n",
    "            connection.commit()"
   ]
  },
  {
   "cell_type": "markdown",
   "id": "ce1a0140",
   "metadata": {},
   "source": [
    "# DELETE Command"
   ]
  },
  {
   "cell_type": "markdown",
   "id": "71758557",
   "metadata": {},
   "source": [
    "Deleting records works very similarly to updating records. You use the DELETE statement to remove selected records."
   ]
  },
  {
   "cell_type": "raw",
   "id": "58bdf596",
   "metadata": {},
   "source": [
    "Note: Deleting is an irreversible process. If you don’t use the WHERE clause, then all records from the specified table will be deleted. You’ll need to run the INSERT INTO query again to get back the deleted records."
   ]
  },
  {
   "cell_type": "markdown",
   "id": "178cd661",
   "metadata": {},
   "source": [
    "It’s recommended that you first run a SELECT query with the same filter to make sure that you’re deleting the right records. For example, to remove all ratings given by reviewer_id = 2, you should first run the corresponding SELECT query:"
   ]
  },
  {
   "cell_type": "code",
   "execution_count": 12,
   "id": "8c76f02c",
   "metadata": {},
   "outputs": [],
   "source": [
    "select_movies_query = \"\"\"\n",
    "    SELECT reviewer_id, movie_id FROM ratings\n",
    "    WHERE reviewer_id = 2\n",
    "    \"\"\"\n",
    "with connection.cursor() as cursor:\n",
    "        cursor.execute(select_movies_query)\n",
    "        for movie in cursor.fetchall():\n",
    "            print(movie)"
   ]
  },
  {
   "cell_type": "markdown",
   "id": "b6c8c014",
   "metadata": {},
   "source": [
    "The above code snippet outputs the reviewer_id and movie_id for records in the ratings table where reviewer_id = 2. Once you’ve confirmed that these are the records that you need to delete, you can run a DELETE query with the same filter:"
   ]
  },
  {
   "cell_type": "code",
   "execution_count": 11,
   "id": "21bb0b87",
   "metadata": {},
   "outputs": [],
   "source": [
    "delete_query = \"DELETE FROM ratings WHERE reviewer_id = 2\"\n",
    "with connection.cursor() as cursor:\n",
    "    cursor.execute(delete_query)\n",
    "    connection.commit()"
   ]
  },
  {
   "cell_type": "markdown",
   "id": "fedbe7d6",
   "metadata": {},
   "source": [
    "With this query, you remove all ratings given by the reviewer with reviewer_id = 2 from the ratings table."
   ]
  },
  {
   "cell_type": "markdown",
   "id": "6c50fbd9",
   "metadata": {},
   "source": [
    "We can confirm it by running the above select query again... we will see no result means no record are there for that condition."
   ]
  },
  {
   "cell_type": "markdown",
   "id": "fdee8c32",
   "metadata": {},
   "source": [
    "Other Ways to Connect Python and MySQL\n",
    "\n",
    "In this SQL section, you saw MySQL Connector/Python, which is the officially recommended means of interacting with a MySQL database from a Python application. There are two other popular connectors:\n",
    "\n",
    "1. mysqlclient is a library that is a close competitor to the official connector and is actively updated with new features. Because its core is written in C, it has better performance than the pure-Python official connector. A big drawback is that it’s fairly difficult to set up and install, especially on Windows.\n",
    "\n",
    "2. MySQLdb is a legacy software that’s still used in commercial applications. It’s written in C and is faster than MySQL Connector/Python but is available only for Python 2.\n",
    "\n",
    "These connectors act as interfaces between your program and a MySQL database, and you send your SQL queries through them. But many developers prefer using an object-oriented paradigm rather than SQL queries to manipulate data.\n",
    "\n",
    "Object-relational mapping (ORM) is a technique that allows you to query and manipulate data from a database directly using an object-oriented language. An ORM library encapsulates the code needed to manipulate data, which eliminates the need to use even a tiny bit of SQL. Here are the most popular Python ORMs for SQL-based databases:\n",
    "\n",
    "1. SQLAlchemy is an ORM that facilitates communication between Python and other SQL databases. You can create different engines for different databases like MySQL, PostgreSQL, SQLite, and so on. SQLAlchemy is commonly used alongside the pandas library to provide complete data-handling functionality.\n",
    "\n",
    "2. peewee is a lightweight and fast ORM that’s quick to set up. This is quite useful when your interaction with the database is limited to extracting a few records. For example, if you need to copy selected records from a MySQL database into a CSV file, then peewee might be your best choice.\n",
    "\n",
    "3. Django ORM is one of the most powerful features of Django and is supplied alongside the Django web framework. It can interact with a variety of databases such as SQLite, PostgreSQL, and MySQL. Many Django-based applications use the Django ORM for data modeling and basic queries but often switch to SQLAlchemy for more complex requirements.\n",
    "\n",
    "You might find one of these approaches to be more suitable for your application. If you’re not sure which one to use, then it’s best to go with the officially recommended MySQL Connector/Python that you saw in action in this section."
   ]
  },
  {
   "cell_type": "markdown",
   "id": "8c97d067",
   "metadata": {},
   "source": [
    "# Conclusion\n",
    "\n",
    "In this section, you saw how to use MySQL Connector/Python to integrate a MySQL database with your Python application. You also saw some unique features of a MySQL database that differentiate it from other SQL databases.\n",
    "\n",
    "Along the way, you learned some programming best practices that are worth considering when it comes to establishing a connection, creating tables, and inserting and updating records in a database application. You also developed a sample MySQL database for an online movie rating system and interacted with it directly from your Python application.\n",
    "\n",
    "In this section, you learned how to:\n",
    "\n",
    "1. Connect your Python app with a MySQL database\n",
    "\n",
    "2. Bring data from a MySQL database into Python for further analysis\n",
    "\n",
    "3. Execute SQL queries from your Python application\n",
    "\n",
    "4. Handle exceptions while accessing the database"
   ]
  },
  {
   "cell_type": "markdown",
   "id": "5c344001",
   "metadata": {},
   "source": [
    "If you’re interested, Python also has connectors for other DBMSs like MongoDB and PostgreSQL. For which one can research."
   ]
  },
  {
   "cell_type": "code",
   "execution_count": null,
   "id": "5de7a05f",
   "metadata": {},
   "outputs": [],
   "source": []
  }
 ],
 "metadata": {
  "kernelspec": {
   "display_name": "Python 3 (ipykernel)",
   "language": "python",
   "name": "python3"
  },
  "language_info": {
   "codemirror_mode": {
    "name": "ipython",
    "version": 3
   },
   "file_extension": ".py",
   "mimetype": "text/x-python",
   "name": "python",
   "nbconvert_exporter": "python",
   "pygments_lexer": "ipython3",
   "version": "3.9.7"
  }
 },
 "nbformat": 4,
 "nbformat_minor": 5
}
