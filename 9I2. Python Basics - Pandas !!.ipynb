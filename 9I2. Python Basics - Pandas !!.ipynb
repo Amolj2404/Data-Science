{
 "cells": [
  {
   "cell_type": "markdown",
   "id": "05f6dde7",
   "metadata": {},
   "source": [
    "# Pandas Tutorial"
   ]
  },
  {
   "cell_type": "code",
   "execution_count": 1,
   "id": "a63145bb",
   "metadata": {},
   "outputs": [
    {
     "data": {
      "text/plain": [
       "'C:\\\\Users\\\\Pranav'"
      ]
     },
     "execution_count": 1,
     "metadata": {},
     "output_type": "execute_result"
    }
   ],
   "source": [
    "import os\n",
    "os.getcwd()"
   ]
  },
  {
   "cell_type": "code",
   "execution_count": 3,
   "id": "30536d7a",
   "metadata": {},
   "outputs": [],
   "source": [
    "import pandas as pd"
   ]
  },
  {
   "cell_type": "code",
   "execution_count": 4,
   "id": "3a383e4b",
   "metadata": {},
   "outputs": [
    {
     "name": "stdout",
     "output_type": "stream",
     "text": [
      "1.3.4\n"
     ]
    }
   ],
   "source": [
    "#Check pandas version\n",
    "print(pd.__version__)"
   ]
  },
  {
   "cell_type": "markdown",
   "id": "2718e347",
   "metadata": {},
   "source": [
    "# Series - create - manipulate - querry - delete"
   ]
  },
  {
   "cell_type": "code",
   "execution_count": 5,
   "id": "3b0ee318",
   "metadata": {},
   "outputs": [
    {
     "data": {
      "text/plain": [
       "0    0\n",
       "1    1\n",
       "2    2\n",
       "3    3\n",
       "4    4\n",
       "dtype: int64"
      ]
     },
     "execution_count": 5,
     "metadata": {},
     "output_type": "execute_result"
    }
   ],
   "source": [
    "# Creating a series from List\n",
    "arr = [0,1,2,3,4]\n",
    "s1 = pd.Series(arr)\n",
    "s1 #There are two columns the First one is called Index column and the Second column id our data (unlabled)"
   ]
  },
  {
   "cell_type": "code",
   "execution_count": 8,
   "id": "5181a4e2",
   "metadata": {},
   "outputs": [
    {
     "data": {
      "text/plain": [
       "1    0\n",
       "2    1\n",
       "3    2\n",
       "4    3\n",
       "5    4\n",
       "dtype: int64"
      ]
     },
     "execution_count": 8,
     "metadata": {},
     "output_type": "execute_result"
    }
   ],
   "source": [
    "order = [1,2,3,4,5]\n",
    "s2 = pd.Series(arr, index=order)\n",
    "s2"
   ]
  },
  {
   "cell_type": "code",
   "execution_count": 53,
   "id": "39e38bdc",
   "metadata": {},
   "outputs": [
    {
     "data": {
      "text/plain": [
       "array([-0.66988542,  0.41385246, -0.76864455,  0.70600037,  2.04791641])"
      ]
     },
     "execution_count": 53,
     "metadata": {},
     "output_type": "execute_result"
    }
   ],
   "source": [
    "import numpy as np\n",
    "n = np.random.randn(5) #Create random Ndarray\n",
    "n"
   ]
  },
  {
   "cell_type": "code",
   "execution_count": 12,
   "id": "23286e2d",
   "metadata": {},
   "outputs": [
    {
     "data": {
      "text/plain": [
       "a    0.297455\n",
       "b    1.065545\n",
       "c    0.481175\n",
       "d   -1.152537\n",
       "e   -0.673766\n",
       "dtype: float64"
      ]
     },
     "execution_count": 12,
     "metadata": {},
     "output_type": "execute_result"
    }
   ],
   "source": [
    "index = ['a','b','c','d','e'] #this is just to show that index dosen't have to be integer\n",
    "s2 = pd.Series(n, index=index)\n",
    "s2"
   ]
  },
  {
   "cell_type": "code",
   "execution_count": 13,
   "id": "b018158c",
   "metadata": {},
   "outputs": [
    {
     "data": {
      "text/plain": [
       "a    1\n",
       "b    2\n",
       "c    3\n",
       "d    4\n",
       "e    5\n",
       "dtype: int64"
      ]
     },
     "execution_count": 13,
     "metadata": {},
     "output_type": "execute_result"
    }
   ],
   "source": [
    "# Creating a series from Dictionary\n",
    "d = {'a':1, 'b':2, 'c':3, 'd':4, 'e':5}\n",
    "s3 = pd.Series(d)\n",
    "s3"
   ]
  },
  {
   "cell_type": "code",
   "execution_count": 14,
   "id": "1725e2ed",
   "metadata": {},
   "outputs": [
    {
     "name": "stdout",
     "output_type": "stream",
     "text": [
      "0    0\n",
      "1    1\n",
      "2    2\n",
      "3    3\n",
      "4    4\n",
      "dtype: int64\n"
     ]
    }
   ],
   "source": [
    "# You can modify the Index of the Series\n",
    "print(s1)"
   ]
  },
  {
   "cell_type": "code",
   "execution_count": 15,
   "id": "d11ba8b1",
   "metadata": {},
   "outputs": [
    {
     "data": {
      "text/plain": [
       "A    0\n",
       "B    1\n",
       "C    2\n",
       "D    3\n",
       "E    4\n",
       "dtype: int64"
      ]
     },
     "execution_count": 15,
     "metadata": {},
     "output_type": "execute_result"
    }
   ],
   "source": [
    "s1.index = ['A','B','C','D','E']\n",
    "s1"
   ]
  },
  {
   "cell_type": "code",
   "execution_count": 18,
   "id": "298a7a38",
   "metadata": {},
   "outputs": [
    {
     "data": {
      "text/plain": [
       "A    0\n",
       "B    1\n",
       "C    2\n",
       "dtype: int64"
      ]
     },
     "execution_count": 18,
     "metadata": {},
     "output_type": "execute_result"
    }
   ],
   "source": [
    "#Slicing\n",
    "a = s1[:3] #Its not changing the original Series but just viewing by Selection or Slicing\n",
    "a"
   ]
  },
  {
   "cell_type": "code",
   "execution_count": 17,
   "id": "3a9521fb",
   "metadata": {},
   "outputs": [
    {
     "data": {
      "text/plain": [
       "A    0\n",
       "B    1\n",
       "C    2\n",
       "D    3\n",
       "E    4\n",
       "dtype: int64"
      ]
     },
     "execution_count": 17,
     "metadata": {},
     "output_type": "execute_result"
    }
   ],
   "source": [
    "s1"
   ]
  },
  {
   "cell_type": "code",
   "execution_count": 19,
   "id": "301ef992",
   "metadata": {},
   "outputs": [
    {
     "data": {
      "text/plain": [
       "A    0\n",
       "B    1\n",
       "C    2\n",
       "D    3\n",
       "dtype: int64"
      ]
     },
     "execution_count": 19,
     "metadata": {},
     "output_type": "execute_result"
    }
   ],
   "source": [
    "#Negative Indexing\n",
    "s1[:-1] #Dont want to see the last record"
   ]
  },
  {
   "cell_type": "code",
   "execution_count": 20,
   "id": "93764463",
   "metadata": {},
   "outputs": [
    {
     "data": {
      "text/plain": [
       "A    0\n",
       "B    1\n",
       "C    2\n",
       "dtype: int64"
      ]
     },
     "execution_count": 20,
     "metadata": {},
     "output_type": "execute_result"
    }
   ],
   "source": [
    "s1[:-2] #Dont want to see the last two record and so on"
   ]
  },
  {
   "cell_type": "code",
   "execution_count": 21,
   "id": "bce7d0a9",
   "metadata": {},
   "outputs": [
    {
     "data": {
      "text/plain": [
       "C    2\n",
       "D    3\n",
       "E    4\n",
       "dtype: int64"
      ]
     },
     "execution_count": 21,
     "metadata": {},
     "output_type": "execute_result"
    }
   ],
   "source": [
    "s1[2:] #Start from 2nd index till end"
   ]
  },
  {
   "cell_type": "code",
   "execution_count": 22,
   "id": "c62a7f60",
   "metadata": {},
   "outputs": [
    {
     "data": {
      "text/plain": [
       "D    3\n",
       "E    4\n",
       "dtype: int64"
      ]
     },
     "execution_count": 22,
     "metadata": {},
     "output_type": "execute_result"
    }
   ],
   "source": [
    "s1[-2:] #Start from 2nd last index till end"
   ]
  },
  {
   "cell_type": "code",
   "execution_count": 23,
   "id": "0b0ecb26",
   "metadata": {},
   "outputs": [
    {
     "data": {
      "text/plain": [
       "A    0\n",
       "B    1\n",
       "C    2\n",
       "D    3\n",
       "E    4\n",
       "dtype: int64"
      ]
     },
     "execution_count": 23,
     "metadata": {},
     "output_type": "execute_result"
    }
   ],
   "source": [
    "s1[:] #Selecting all records"
   ]
  },
  {
   "cell_type": "code",
   "execution_count": 24,
   "id": "08ca1c3c",
   "metadata": {},
   "outputs": [
    {
     "data": {
      "text/plain": [
       "A    0\n",
       "B    1\n",
       "C    2\n",
       "D    3\n",
       "E    4\n",
       "dtype: int64"
      ]
     },
     "execution_count": 24,
     "metadata": {},
     "output_type": "execute_result"
    }
   ],
   "source": [
    "s1"
   ]
  },
  {
   "cell_type": "code",
   "execution_count": 25,
   "id": "65baeea5",
   "metadata": {},
   "outputs": [
    {
     "data": {
      "text/plain": [
       "a    1\n",
       "b    2\n",
       "c    3\n",
       "d    4\n",
       "e    5\n",
       "dtype: int64"
      ]
     },
     "execution_count": 25,
     "metadata": {},
     "output_type": "execute_result"
    }
   ],
   "source": [
    "s3"
   ]
  },
  {
   "cell_type": "code",
   "execution_count": 28,
   "id": "6adba8b6",
   "metadata": {},
   "outputs": [
    {
     "data": {
      "text/plain": [
       "A    0\n",
       "B    1\n",
       "C    2\n",
       "D    3\n",
       "E    4\n",
       "a    1\n",
       "b    2\n",
       "c    3\n",
       "d    4\n",
       "e    5\n",
       "dtype: int64"
      ]
     },
     "execution_count": 28,
     "metadata": {},
     "output_type": "execute_result"
    }
   ],
   "source": [
    "s4 = s1.append(s3) #Appending two Series\n",
    "s4"
   ]
  },
  {
   "cell_type": "code",
   "execution_count": 29,
   "id": "c5ba4df9",
   "metadata": {},
   "outputs": [
    {
     "data": {
      "text/plain": [
       "A    0\n",
       "B    1\n",
       "C    2\n",
       "D    3\n",
       "E    4\n",
       "a    1\n",
       "b    2\n",
       "c    3\n",
       "d    4\n",
       "dtype: int64"
      ]
     },
     "execution_count": 29,
     "metadata": {},
     "output_type": "execute_result"
    }
   ],
   "source": [
    "s4.drop('e') #Droping a specific record using its index"
   ]
  },
  {
   "cell_type": "code",
   "execution_count": 30,
   "id": "5caa0591",
   "metadata": {},
   "outputs": [
    {
     "data": {
      "text/plain": [
       "A    0\n",
       "B    1\n",
       "C    2\n",
       "D    3\n",
       "E    4\n",
       "a    1\n",
       "b    2\n",
       "c    3\n",
       "d    4\n",
       "e    5\n",
       "dtype: int64"
      ]
     },
     "execution_count": 30,
     "metadata": {},
     "output_type": "execute_result"
    }
   ],
   "source": [
    "s4 #Original series dont change unless specifically mentioned like restoring back to s4 in this example s4 = s4.drop('e')"
   ]
  },
  {
   "cell_type": "markdown",
   "id": "dc191afd",
   "metadata": {},
   "source": [
    "# Series Operations"
   ]
  },
  {
   "cell_type": "code",
   "execution_count": 33,
   "id": "ed884c85",
   "metadata": {},
   "outputs": [],
   "source": [
    "arr1 = [0,1,2,3,4,5,6,7]\n",
    "arr2 = [6,7,8,9,5]"
   ]
  },
  {
   "cell_type": "code",
   "execution_count": 38,
   "id": "c5d6a05e",
   "metadata": {},
   "outputs": [
    {
     "data": {
      "text/plain": [
       "0    6\n",
       "1    7\n",
       "2    8\n",
       "3    9\n",
       "4    5\n",
       "dtype: int64"
      ]
     },
     "execution_count": 38,
     "metadata": {},
     "output_type": "execute_result"
    }
   ],
   "source": [
    "s5 = pd.Series(arr2)\n",
    "s5"
   ]
  },
  {
   "cell_type": "code",
   "execution_count": 37,
   "id": "7c66613c",
   "metadata": {},
   "outputs": [
    {
     "data": {
      "text/plain": [
       "0    0\n",
       "1    1\n",
       "2    2\n",
       "3    3\n",
       "4    4\n",
       "5    5\n",
       "6    6\n",
       "7    7\n",
       "dtype: int64"
      ]
     },
     "execution_count": 37,
     "metadata": {},
     "output_type": "execute_result"
    }
   ],
   "source": [
    "s6 = pd.Series(arr1)\n",
    "s6"
   ]
  },
  {
   "cell_type": "code",
   "execution_count": 39,
   "id": "480b30ff",
   "metadata": {},
   "outputs": [
    {
     "data": {
      "text/plain": [
       "0     6.0\n",
       "1     8.0\n",
       "2    10.0\n",
       "3    12.0\n",
       "4     9.0\n",
       "5     NaN\n",
       "6     NaN\n",
       "7     NaN\n",
       "dtype: float64"
      ]
     },
     "execution_count": 39,
     "metadata": {},
     "output_type": "execute_result"
    }
   ],
   "source": [
    "s5.add(s6)"
   ]
  },
  {
   "cell_type": "code",
   "execution_count": 40,
   "id": "235f90a2",
   "metadata": {},
   "outputs": [
    {
     "data": {
      "text/plain": [
       "0    6.0\n",
       "1    6.0\n",
       "2    6.0\n",
       "3    6.0\n",
       "4    1.0\n",
       "5    NaN\n",
       "6    NaN\n",
       "7    NaN\n",
       "dtype: float64"
      ]
     },
     "execution_count": 40,
     "metadata": {},
     "output_type": "execute_result"
    }
   ],
   "source": [
    "s5.sub(s6)"
   ]
  },
  {
   "cell_type": "code",
   "execution_count": 41,
   "id": "95feb83b",
   "metadata": {},
   "outputs": [
    {
     "data": {
      "text/plain": [
       "0     0.0\n",
       "1     7.0\n",
       "2    16.0\n",
       "3    27.0\n",
       "4    20.0\n",
       "5     NaN\n",
       "6     NaN\n",
       "7     NaN\n",
       "dtype: float64"
      ]
     },
     "execution_count": 41,
     "metadata": {},
     "output_type": "execute_result"
    }
   ],
   "source": [
    "s5.mul(s6)"
   ]
  },
  {
   "cell_type": "code",
   "execution_count": 48,
   "id": "464fe440",
   "metadata": {},
   "outputs": [
    {
     "data": {
      "text/plain": [
       "0     inf\n",
       "1    7.00\n",
       "2    4.00\n",
       "3    3.00\n",
       "4    1.25\n",
       "5     NaN\n",
       "6     NaN\n",
       "7     NaN\n",
       "dtype: float64"
      ]
     },
     "execution_count": 48,
     "metadata": {},
     "output_type": "execute_result"
    }
   ],
   "source": [
    "s5.div(s6)"
   ]
  },
  {
   "cell_type": "code",
   "execution_count": 49,
   "id": "0f5f473c",
   "metadata": {},
   "outputs": [
    {
     "name": "stdout",
     "output_type": "stream",
     "text": [
      "median of s6 is: 3.5\n",
      "max of s6 is: 7\n",
      "min of s6 is: 0\n"
     ]
    }
   ],
   "source": [
    "print('median of s6 is:', s6.median()) # Middle most value of the arranged Series\n",
    "print('max of s6 is:', s6.max()) #Maximum value in the Series\n",
    "print('min of s6 is:', s6.min()) #Minimum value in the Series"
   ]
  },
  {
   "cell_type": "code",
   "execution_count": 50,
   "id": "71675dea",
   "metadata": {},
   "outputs": [
    {
     "name": "stdout",
     "output_type": "stream",
     "text": [
      "0     0.0\n",
      "1     7.0\n",
      "2    16.0\n",
      "3    27.0\n",
      "4    20.0\n",
      "5     NaN\n",
      "6     NaN\n",
      "7     NaN\n",
      "dtype: float64\n",
      "\n",
      "median of s7 is: 16.0\n",
      "max of s7 is: 27.0\n",
      "min of s7 is: 0.0\n"
     ]
    }
   ],
   "source": [
    "s7 = s5.mul(s6)\n",
    "print(s7)\n",
    "print()\n",
    "print('median of s7 is:', s7.median()) # Middle most value of the arranged Series\n",
    "print('max of s7 is:', s7.max()) #Maximum value in the Series\n",
    "print('min of s7 is:', s7.min()) #Minimum value in the Series"
   ]
  },
  {
   "cell_type": "markdown",
   "id": "ba5b6efd",
   "metadata": {},
   "source": [
    "# DataFrames"
   ]
  },
  {
   "cell_type": "code",
   "execution_count": 51,
   "id": "0648a43a",
   "metadata": {},
   "outputs": [
    {
     "data": {
      "text/plain": [
       "DatetimeIndex(['2023-02-12 17:58:44.782909', '2023-02-13 17:58:44.782909',\n",
       "               '2023-02-14 17:58:44.782909', '2023-02-15 17:58:44.782909',\n",
       "               '2023-02-16 17:58:44.782909', '2023-02-17 17:58:44.782909'],\n",
       "              dtype='datetime64[ns]', freq='D')"
      ]
     },
     "execution_count": 51,
     "metadata": {},
     "output_type": "execute_result"
    }
   ],
   "source": [
    "dates = pd.date_range('today', periods = 6) #Define time sequence as index\n",
    "dates"
   ]
  },
  {
   "cell_type": "code",
   "execution_count": 56,
   "id": "ff5ffe83",
   "metadata": {},
   "outputs": [
    {
     "data": {
      "text/plain": [
       "array([[ 1.85250845,  1.08510734,  1.34244917, -0.29006528],\n",
       "       [-0.91105859, -0.45890753, -0.42692641,  0.94990713],\n",
       "       [-1.25972426, -0.15586668,  0.57815419, -0.26382396],\n",
       "       [-1.13498161,  0.33809319,  0.34493431,  0.75819033],\n",
       "       [ 1.33549387, -0.79503134, -1.10966987, -0.13400033],\n",
       "       [-1.46969065, -1.36643041, -0.23294679,  0.179594  ]])"
      ]
     },
     "execution_count": 56,
     "metadata": {},
     "output_type": "execute_result"
    }
   ],
   "source": [
    "num_arr = np.random.randn(6,4) #Generating random numbers array\n",
    "num_arr"
   ]
  },
  {
   "cell_type": "code",
   "execution_count": 57,
   "id": "fd9d75b8",
   "metadata": {},
   "outputs": [],
   "source": [
    "columns = ['A','B','C','D'] #Giving column names for our table"
   ]
  },
  {
   "cell_type": "code",
   "execution_count": 59,
   "id": "58ac1acc",
   "metadata": {},
   "outputs": [],
   "source": [
    "df1 = pd.DataFrame(num_arr, index = dates, columns = columns)"
   ]
  },
  {
   "cell_type": "code",
   "execution_count": 61,
   "id": "23c3e533",
   "metadata": {},
   "outputs": [
    {
     "data": {
      "text/html": [
       "<div>\n",
       "<style scoped>\n",
       "    .dataframe tbody tr th:only-of-type {\n",
       "        vertical-align: middle;\n",
       "    }\n",
       "\n",
       "    .dataframe tbody tr th {\n",
       "        vertical-align: top;\n",
       "    }\n",
       "\n",
       "    .dataframe thead th {\n",
       "        text-align: right;\n",
       "    }\n",
       "</style>\n",
       "<table border=\"1\" class=\"dataframe\">\n",
       "  <thead>\n",
       "    <tr style=\"text-align: right;\">\n",
       "      <th></th>\n",
       "      <th>A</th>\n",
       "      <th>B</th>\n",
       "      <th>C</th>\n",
       "      <th>D</th>\n",
       "    </tr>\n",
       "  </thead>\n",
       "  <tbody>\n",
       "    <tr>\n",
       "      <th>2023-02-12 17:58:44.782909</th>\n",
       "      <td>1.852508</td>\n",
       "      <td>1.085107</td>\n",
       "      <td>1.342449</td>\n",
       "      <td>-0.290065</td>\n",
       "    </tr>\n",
       "    <tr>\n",
       "      <th>2023-02-13 17:58:44.782909</th>\n",
       "      <td>-0.911059</td>\n",
       "      <td>-0.458908</td>\n",
       "      <td>-0.426926</td>\n",
       "      <td>0.949907</td>\n",
       "    </tr>\n",
       "    <tr>\n",
       "      <th>2023-02-14 17:58:44.782909</th>\n",
       "      <td>-1.259724</td>\n",
       "      <td>-0.155867</td>\n",
       "      <td>0.578154</td>\n",
       "      <td>-0.263824</td>\n",
       "    </tr>\n",
       "    <tr>\n",
       "      <th>2023-02-15 17:58:44.782909</th>\n",
       "      <td>-1.134982</td>\n",
       "      <td>0.338093</td>\n",
       "      <td>0.344934</td>\n",
       "      <td>0.758190</td>\n",
       "    </tr>\n",
       "    <tr>\n",
       "      <th>2023-02-16 17:58:44.782909</th>\n",
       "      <td>1.335494</td>\n",
       "      <td>-0.795031</td>\n",
       "      <td>-1.109670</td>\n",
       "      <td>-0.134000</td>\n",
       "    </tr>\n",
       "    <tr>\n",
       "      <th>2023-02-17 17:58:44.782909</th>\n",
       "      <td>-1.469691</td>\n",
       "      <td>-1.366430</td>\n",
       "      <td>-0.232947</td>\n",
       "      <td>0.179594</td>\n",
       "    </tr>\n",
       "  </tbody>\n",
       "</table>\n",
       "</div>"
      ],
      "text/plain": [
       "                                   A         B         C         D\n",
       "2023-02-12 17:58:44.782909  1.852508  1.085107  1.342449 -0.290065\n",
       "2023-02-13 17:58:44.782909 -0.911059 -0.458908 -0.426926  0.949907\n",
       "2023-02-14 17:58:44.782909 -1.259724 -0.155867  0.578154 -0.263824\n",
       "2023-02-15 17:58:44.782909 -1.134982  0.338093  0.344934  0.758190\n",
       "2023-02-16 17:58:44.782909  1.335494 -0.795031 -1.109670 -0.134000\n",
       "2023-02-17 17:58:44.782909 -1.469691 -1.366430 -0.232947  0.179594"
      ]
     },
     "execution_count": 61,
     "metadata": {},
     "output_type": "execute_result"
    }
   ],
   "source": [
    "df1 #printing the table --- our DataFrame"
   ]
  },
  {
   "cell_type": "code",
   "execution_count": 62,
   "id": "b62ed7df",
   "metadata": {},
   "outputs": [
    {
     "data": {
      "text/html": [
       "<div>\n",
       "<style scoped>\n",
       "    .dataframe tbody tr th:only-of-type {\n",
       "        vertical-align: middle;\n",
       "    }\n",
       "\n",
       "    .dataframe tbody tr th {\n",
       "        vertical-align: top;\n",
       "    }\n",
       "\n",
       "    .dataframe thead th {\n",
       "        text-align: right;\n",
       "    }\n",
       "</style>\n",
       "<table border=\"1\" class=\"dataframe\">\n",
       "  <thead>\n",
       "    <tr style=\"text-align: right;\">\n",
       "      <th></th>\n",
       "      <th>A</th>\n",
       "      <th>B</th>\n",
       "      <th>C</th>\n",
       "      <th>D</th>\n",
       "    </tr>\n",
       "  </thead>\n",
       "  <tbody>\n",
       "    <tr>\n",
       "      <th>2023-02-12 18:07:45.155876</th>\n",
       "      <td>0.569312</td>\n",
       "      <td>-0.339457</td>\n",
       "      <td>-0.742498</td>\n",
       "      <td>-0.205857</td>\n",
       "    </tr>\n",
       "    <tr>\n",
       "      <th>2023-02-13 18:07:45.155876</th>\n",
       "      <td>-2.775732</td>\n",
       "      <td>-0.292413</td>\n",
       "      <td>-0.309065</td>\n",
       "      <td>1.545841</td>\n",
       "    </tr>\n",
       "    <tr>\n",
       "      <th>2023-02-14 18:07:45.155876</th>\n",
       "      <td>-0.247170</td>\n",
       "      <td>-0.319422</td>\n",
       "      <td>-0.644137</td>\n",
       "      <td>0.473784</td>\n",
       "    </tr>\n",
       "    <tr>\n",
       "      <th>2023-02-15 18:07:45.155876</th>\n",
       "      <td>0.960617</td>\n",
       "      <td>-0.816967</td>\n",
       "      <td>-0.167665</td>\n",
       "      <td>-0.167926</td>\n",
       "    </tr>\n",
       "    <tr>\n",
       "      <th>2023-02-16 18:07:45.155876</th>\n",
       "      <td>0.414972</td>\n",
       "      <td>-1.841767</td>\n",
       "      <td>1.172215</td>\n",
       "      <td>-0.583826</td>\n",
       "    </tr>\n",
       "    <tr>\n",
       "      <th>2023-02-17 18:07:45.155876</th>\n",
       "      <td>-0.290460</td>\n",
       "      <td>0.266323</td>\n",
       "      <td>-0.268885</td>\n",
       "      <td>0.592057</td>\n",
       "    </tr>\n",
       "  </tbody>\n",
       "</table>\n",
       "</div>"
      ],
      "text/plain": [
       "                                   A         B         C         D\n",
       "2023-02-12 18:07:45.155876  0.569312 -0.339457 -0.742498 -0.205857\n",
       "2023-02-13 18:07:45.155876 -2.775732 -0.292413 -0.309065  1.545841\n",
       "2023-02-14 18:07:45.155876 -0.247170 -0.319422 -0.644137  0.473784\n",
       "2023-02-15 18:07:45.155876  0.960617 -0.816967 -0.167665 -0.167926\n",
       "2023-02-16 18:07:45.155876  0.414972 -1.841767  1.172215 -0.583826\n",
       "2023-02-17 18:07:45.155876 -0.290460  0.266323 -0.268885  0.592057"
      ]
     },
     "execution_count": 62,
     "metadata": {},
     "output_type": "execute_result"
    }
   ],
   "source": [
    "dates = pd.date_range('today', periods = 6) #Define time sequence as index\n",
    "num_arr = np.random.randn(6,4) #Generating random numbers array\n",
    "columns = ['A','B','C','D'] #Giving column names for our table\n",
    "df1 = pd.DataFrame(num_arr, index = dates, columns = columns)\n",
    "df1 #printing the table --- our DataFrame"
   ]
  },
  {
   "cell_type": "code",
   "execution_count": 67,
   "id": "f6ccb28a",
   "metadata": {},
   "outputs": [
    {
     "data": {
      "text/plain": [
       "{'Animal': ['cat', 'dog', 'horse', 'tiger', 'snake', 'dog', 'horse', 'cat'],\n",
       " 'Age': [2, 4, 5.5, 3, 12, nan, 6, nan],\n",
       " 'Visits': [1, 2, 3, 2, 1, 4, 5, 1],\n",
       " 'priority': ['yes', 'no', 'no', 'yes', 'no', 'yes', 'no', 'yes']}"
      ]
     },
     "execution_count": 67,
     "metadata": {},
     "output_type": "execute_result"
    }
   ],
   "source": [
    "#Creating a DataFrame with a dictionary array\n",
    "\n",
    "data = {'Animal': ['cat','dog','horse','tiger','snake','dog','horse','cat'],\n",
    "        'Age': [2,4,5.5,3,12,np.nan,6,np.nan],\n",
    "        'Visits': [1,2,3,2,1,4,5,1],\n",
    "        'priority': ['yes','no','no','yes','no','yes','no','yes']}\n",
    "data"
   ]
  },
  {
   "cell_type": "code",
   "execution_count": 68,
   "id": "71157004",
   "metadata": {},
   "outputs": [],
   "source": [
    "labels = ['a','b','c','d','e','f','g','h'] #Should be same as number of records"
   ]
  },
  {
   "cell_type": "code",
   "execution_count": 69,
   "id": "3267f3ec",
   "metadata": {},
   "outputs": [
    {
     "data": {
      "text/html": [
       "<div>\n",
       "<style scoped>\n",
       "    .dataframe tbody tr th:only-of-type {\n",
       "        vertical-align: middle;\n",
       "    }\n",
       "\n",
       "    .dataframe tbody tr th {\n",
       "        vertical-align: top;\n",
       "    }\n",
       "\n",
       "    .dataframe thead th {\n",
       "        text-align: right;\n",
       "    }\n",
       "</style>\n",
       "<table border=\"1\" class=\"dataframe\">\n",
       "  <thead>\n",
       "    <tr style=\"text-align: right;\">\n",
       "      <th></th>\n",
       "      <th>Animal</th>\n",
       "      <th>Age</th>\n",
       "      <th>Visits</th>\n",
       "      <th>priority</th>\n",
       "    </tr>\n",
       "  </thead>\n",
       "  <tbody>\n",
       "    <tr>\n",
       "      <th>a</th>\n",
       "      <td>cat</td>\n",
       "      <td>2.0</td>\n",
       "      <td>1</td>\n",
       "      <td>yes</td>\n",
       "    </tr>\n",
       "    <tr>\n",
       "      <th>b</th>\n",
       "      <td>dog</td>\n",
       "      <td>4.0</td>\n",
       "      <td>2</td>\n",
       "      <td>no</td>\n",
       "    </tr>\n",
       "    <tr>\n",
       "      <th>c</th>\n",
       "      <td>horse</td>\n",
       "      <td>5.5</td>\n",
       "      <td>3</td>\n",
       "      <td>no</td>\n",
       "    </tr>\n",
       "    <tr>\n",
       "      <th>d</th>\n",
       "      <td>tiger</td>\n",
       "      <td>3.0</td>\n",
       "      <td>2</td>\n",
       "      <td>yes</td>\n",
       "    </tr>\n",
       "    <tr>\n",
       "      <th>e</th>\n",
       "      <td>snake</td>\n",
       "      <td>12.0</td>\n",
       "      <td>1</td>\n",
       "      <td>no</td>\n",
       "    </tr>\n",
       "    <tr>\n",
       "      <th>f</th>\n",
       "      <td>dog</td>\n",
       "      <td>NaN</td>\n",
       "      <td>4</td>\n",
       "      <td>yes</td>\n",
       "    </tr>\n",
       "    <tr>\n",
       "      <th>g</th>\n",
       "      <td>horse</td>\n",
       "      <td>6.0</td>\n",
       "      <td>5</td>\n",
       "      <td>no</td>\n",
       "    </tr>\n",
       "    <tr>\n",
       "      <th>h</th>\n",
       "      <td>cat</td>\n",
       "      <td>NaN</td>\n",
       "      <td>1</td>\n",
       "      <td>yes</td>\n",
       "    </tr>\n",
       "  </tbody>\n",
       "</table>\n",
       "</div>"
      ],
      "text/plain": [
       "  Animal   Age  Visits priority\n",
       "a    cat   2.0       1      yes\n",
       "b    dog   4.0       2       no\n",
       "c  horse   5.5       3       no\n",
       "d  tiger   3.0       2      yes\n",
       "e  snake  12.0       1       no\n",
       "f    dog   NaN       4      yes\n",
       "g  horse   6.0       5       no\n",
       "h    cat   NaN       1      yes"
      ]
     },
     "execution_count": 69,
     "metadata": {},
     "output_type": "execute_result"
    }
   ],
   "source": [
    "df2 = pd.DataFrame(data, index = labels)\n",
    "df2"
   ]
  },
  {
   "cell_type": "code",
   "execution_count": 70,
   "id": "adc00c1b",
   "metadata": {},
   "outputs": [
    {
     "data": {
      "text/plain": [
       "Animal       object\n",
       "Age         float64\n",
       "Visits        int64\n",
       "priority     object\n",
       "dtype: object"
      ]
     },
     "execution_count": 70,
     "metadata": {},
     "output_type": "execute_result"
    }
   ],
   "source": [
    "#See datatypes for all the coulmns\n",
    "df2.dtypes"
   ]
  },
  {
   "cell_type": "code",
   "execution_count": 81,
   "id": "3d47f227",
   "metadata": {},
   "outputs": [
    {
     "data": {
      "text/html": [
       "<div>\n",
       "<style scoped>\n",
       "    .dataframe tbody tr th:only-of-type {\n",
       "        vertical-align: middle;\n",
       "    }\n",
       "\n",
       "    .dataframe tbody tr th {\n",
       "        vertical-align: top;\n",
       "    }\n",
       "\n",
       "    .dataframe thead th {\n",
       "        text-align: right;\n",
       "    }\n",
       "</style>\n",
       "<table border=\"1\" class=\"dataframe\">\n",
       "  <thead>\n",
       "    <tr style=\"text-align: right;\">\n",
       "      <th></th>\n",
       "      <th>Animal</th>\n",
       "      <th>Age</th>\n",
       "      <th>Visits</th>\n",
       "      <th>priority</th>\n",
       "    </tr>\n",
       "  </thead>\n",
       "  <tbody>\n",
       "    <tr>\n",
       "      <th>a</th>\n",
       "      <td>cat</td>\n",
       "      <td>2.0</td>\n",
       "      <td>1</td>\n",
       "      <td>yes</td>\n",
       "    </tr>\n",
       "    <tr>\n",
       "      <th>b</th>\n",
       "      <td>dog</td>\n",
       "      <td>4.0</td>\n",
       "      <td>2</td>\n",
       "      <td>no</td>\n",
       "    </tr>\n",
       "    <tr>\n",
       "      <th>c</th>\n",
       "      <td>horse</td>\n",
       "      <td>5.5</td>\n",
       "      <td>3</td>\n",
       "      <td>no</td>\n",
       "    </tr>\n",
       "    <tr>\n",
       "      <th>d</th>\n",
       "      <td>tiger</td>\n",
       "      <td>3.0</td>\n",
       "      <td>2</td>\n",
       "      <td>yes</td>\n",
       "    </tr>\n",
       "    <tr>\n",
       "      <th>e</th>\n",
       "      <td>snake</td>\n",
       "      <td>12.0</td>\n",
       "      <td>1</td>\n",
       "      <td>no</td>\n",
       "    </tr>\n",
       "  </tbody>\n",
       "</table>\n",
       "</div>"
      ],
      "text/plain": [
       "  Animal   Age  Visits priority\n",
       "a    cat   2.0       1      yes\n",
       "b    dog   4.0       2       no\n",
       "c  horse   5.5       3       no\n",
       "d  tiger   3.0       2      yes\n",
       "e  snake  12.0       1       no"
      ]
     },
     "execution_count": 81,
     "metadata": {},
     "output_type": "execute_result"
    }
   ],
   "source": [
    "#Exploring the data\n",
    "df2.head() #First 5 records"
   ]
  },
  {
   "cell_type": "code",
   "execution_count": 72,
   "id": "7fb082c2",
   "metadata": {},
   "outputs": [
    {
     "data": {
      "text/html": [
       "<div>\n",
       "<style scoped>\n",
       "    .dataframe tbody tr th:only-of-type {\n",
       "        vertical-align: middle;\n",
       "    }\n",
       "\n",
       "    .dataframe tbody tr th {\n",
       "        vertical-align: top;\n",
       "    }\n",
       "\n",
       "    .dataframe thead th {\n",
       "        text-align: right;\n",
       "    }\n",
       "</style>\n",
       "<table border=\"1\" class=\"dataframe\">\n",
       "  <thead>\n",
       "    <tr style=\"text-align: right;\">\n",
       "      <th></th>\n",
       "      <th>Animal</th>\n",
       "      <th>Age</th>\n",
       "      <th>Visits</th>\n",
       "      <th>priority</th>\n",
       "    </tr>\n",
       "  </thead>\n",
       "  <tbody>\n",
       "    <tr>\n",
       "      <th>a</th>\n",
       "      <td>cat</td>\n",
       "      <td>2.0</td>\n",
       "      <td>1</td>\n",
       "      <td>yes</td>\n",
       "    </tr>\n",
       "    <tr>\n",
       "      <th>b</th>\n",
       "      <td>dog</td>\n",
       "      <td>4.0</td>\n",
       "      <td>2</td>\n",
       "      <td>no</td>\n",
       "    </tr>\n",
       "    <tr>\n",
       "      <th>c</th>\n",
       "      <td>horse</td>\n",
       "      <td>5.5</td>\n",
       "      <td>3</td>\n",
       "      <td>no</td>\n",
       "    </tr>\n",
       "  </tbody>\n",
       "</table>\n",
       "</div>"
      ],
      "text/plain": [
       "  Animal  Age  Visits priority\n",
       "a    cat  2.0       1      yes\n",
       "b    dog  4.0       2       no\n",
       "c  horse  5.5       3       no"
      ]
     },
     "execution_count": 72,
     "metadata": {},
     "output_type": "execute_result"
    }
   ],
   "source": [
    "df2.head(3)"
   ]
  },
  {
   "cell_type": "code",
   "execution_count": 76,
   "id": "deb4aedd",
   "metadata": {},
   "outputs": [
    {
     "data": {
      "text/html": [
       "<div>\n",
       "<style scoped>\n",
       "    .dataframe tbody tr th:only-of-type {\n",
       "        vertical-align: middle;\n",
       "    }\n",
       "\n",
       "    .dataframe tbody tr th {\n",
       "        vertical-align: top;\n",
       "    }\n",
       "\n",
       "    .dataframe thead th {\n",
       "        text-align: right;\n",
       "    }\n",
       "</style>\n",
       "<table border=\"1\" class=\"dataframe\">\n",
       "  <thead>\n",
       "    <tr style=\"text-align: right;\">\n",
       "      <th></th>\n",
       "      <th>Animal</th>\n",
       "      <th>Age</th>\n",
       "      <th>Visits</th>\n",
       "      <th>priority</th>\n",
       "    </tr>\n",
       "  </thead>\n",
       "  <tbody>\n",
       "    <tr>\n",
       "      <th>a</th>\n",
       "      <td>cat</td>\n",
       "      <td>2.0</td>\n",
       "      <td>1</td>\n",
       "      <td>yes</td>\n",
       "    </tr>\n",
       "    <tr>\n",
       "      <th>b</th>\n",
       "      <td>dog</td>\n",
       "      <td>4.0</td>\n",
       "      <td>2</td>\n",
       "      <td>no</td>\n",
       "    </tr>\n",
       "    <tr>\n",
       "      <th>c</th>\n",
       "      <td>horse</td>\n",
       "      <td>5.5</td>\n",
       "      <td>3</td>\n",
       "      <td>no</td>\n",
       "    </tr>\n",
       "  </tbody>\n",
       "</table>\n",
       "</div>"
      ],
      "text/plain": [
       "  Animal  Age  Visits priority\n",
       "a    cat  2.0       1      yes\n",
       "b    dog  4.0       2       no\n",
       "c  horse  5.5       3       no"
      ]
     },
     "execution_count": 76,
     "metadata": {},
     "output_type": "execute_result"
    }
   ],
   "source": [
    "df2.head(-5)"
   ]
  },
  {
   "cell_type": "code",
   "execution_count": 77,
   "id": "6cdb35b1",
   "metadata": {},
   "outputs": [],
   "source": [
    "df3 = df2.head(6)"
   ]
  },
  {
   "cell_type": "code",
   "execution_count": 78,
   "id": "e8a358cd",
   "metadata": {},
   "outputs": [
    {
     "data": {
      "text/html": [
       "<div>\n",
       "<style scoped>\n",
       "    .dataframe tbody tr th:only-of-type {\n",
       "        vertical-align: middle;\n",
       "    }\n",
       "\n",
       "    .dataframe tbody tr th {\n",
       "        vertical-align: top;\n",
       "    }\n",
       "\n",
       "    .dataframe thead th {\n",
       "        text-align: right;\n",
       "    }\n",
       "</style>\n",
       "<table border=\"1\" class=\"dataframe\">\n",
       "  <thead>\n",
       "    <tr style=\"text-align: right;\">\n",
       "      <th></th>\n",
       "      <th>Animal</th>\n",
       "      <th>Age</th>\n",
       "      <th>Visits</th>\n",
       "      <th>priority</th>\n",
       "    </tr>\n",
       "  </thead>\n",
       "  <tbody>\n",
       "    <tr>\n",
       "      <th>a</th>\n",
       "      <td>cat</td>\n",
       "      <td>2.0</td>\n",
       "      <td>1</td>\n",
       "      <td>yes</td>\n",
       "    </tr>\n",
       "    <tr>\n",
       "      <th>b</th>\n",
       "      <td>dog</td>\n",
       "      <td>4.0</td>\n",
       "      <td>2</td>\n",
       "      <td>no</td>\n",
       "    </tr>\n",
       "    <tr>\n",
       "      <th>c</th>\n",
       "      <td>horse</td>\n",
       "      <td>5.5</td>\n",
       "      <td>3</td>\n",
       "      <td>no</td>\n",
       "    </tr>\n",
       "    <tr>\n",
       "      <th>d</th>\n",
       "      <td>tiger</td>\n",
       "      <td>3.0</td>\n",
       "      <td>2</td>\n",
       "      <td>yes</td>\n",
       "    </tr>\n",
       "    <tr>\n",
       "      <th>e</th>\n",
       "      <td>snake</td>\n",
       "      <td>12.0</td>\n",
       "      <td>1</td>\n",
       "      <td>no</td>\n",
       "    </tr>\n",
       "    <tr>\n",
       "      <th>f</th>\n",
       "      <td>dog</td>\n",
       "      <td>NaN</td>\n",
       "      <td>4</td>\n",
       "      <td>yes</td>\n",
       "    </tr>\n",
       "  </tbody>\n",
       "</table>\n",
       "</div>"
      ],
      "text/plain": [
       "  Animal   Age  Visits priority\n",
       "a    cat   2.0       1      yes\n",
       "b    dog   4.0       2       no\n",
       "c  horse   5.5       3       no\n",
       "d  tiger   3.0       2      yes\n",
       "e  snake  12.0       1       no\n",
       "f    dog   NaN       4      yes"
      ]
     },
     "execution_count": 78,
     "metadata": {},
     "output_type": "execute_result"
    }
   ],
   "source": [
    "df3"
   ]
  },
  {
   "cell_type": "code",
   "execution_count": 80,
   "id": "46c24b66",
   "metadata": {},
   "outputs": [
    {
     "data": {
      "text/html": [
       "<div>\n",
       "<style scoped>\n",
       "    .dataframe tbody tr th:only-of-type {\n",
       "        vertical-align: middle;\n",
       "    }\n",
       "\n",
       "    .dataframe tbody tr th {\n",
       "        vertical-align: top;\n",
       "    }\n",
       "\n",
       "    .dataframe thead th {\n",
       "        text-align: right;\n",
       "    }\n",
       "</style>\n",
       "<table border=\"1\" class=\"dataframe\">\n",
       "  <thead>\n",
       "    <tr style=\"text-align: right;\">\n",
       "      <th></th>\n",
       "      <th>Animal</th>\n",
       "      <th>Age</th>\n",
       "      <th>Visits</th>\n",
       "      <th>priority</th>\n",
       "    </tr>\n",
       "  </thead>\n",
       "  <tbody>\n",
       "    <tr>\n",
       "      <th>d</th>\n",
       "      <td>tiger</td>\n",
       "      <td>3.0</td>\n",
       "      <td>2</td>\n",
       "      <td>yes</td>\n",
       "    </tr>\n",
       "    <tr>\n",
       "      <th>e</th>\n",
       "      <td>snake</td>\n",
       "      <td>12.0</td>\n",
       "      <td>1</td>\n",
       "      <td>no</td>\n",
       "    </tr>\n",
       "    <tr>\n",
       "      <th>f</th>\n",
       "      <td>dog</td>\n",
       "      <td>NaN</td>\n",
       "      <td>4</td>\n",
       "      <td>yes</td>\n",
       "    </tr>\n",
       "    <tr>\n",
       "      <th>g</th>\n",
       "      <td>horse</td>\n",
       "      <td>6.0</td>\n",
       "      <td>5</td>\n",
       "      <td>no</td>\n",
       "    </tr>\n",
       "    <tr>\n",
       "      <th>h</th>\n",
       "      <td>cat</td>\n",
       "      <td>NaN</td>\n",
       "      <td>1</td>\n",
       "      <td>yes</td>\n",
       "    </tr>\n",
       "  </tbody>\n",
       "</table>\n",
       "</div>"
      ],
      "text/plain": [
       "  Animal   Age  Visits priority\n",
       "d  tiger   3.0       2      yes\n",
       "e  snake  12.0       1       no\n",
       "f    dog   NaN       4      yes\n",
       "g  horse   6.0       5       no\n",
       "h    cat   NaN       1      yes"
      ]
     },
     "execution_count": 80,
     "metadata": {},
     "output_type": "execute_result"
    }
   ],
   "source": [
    "df2.tail() #Last 5 records"
   ]
  },
  {
   "cell_type": "code",
   "execution_count": 82,
   "id": "387bc6ed",
   "metadata": {},
   "outputs": [
    {
     "data": {
      "text/html": [
       "<div>\n",
       "<style scoped>\n",
       "    .dataframe tbody tr th:only-of-type {\n",
       "        vertical-align: middle;\n",
       "    }\n",
       "\n",
       "    .dataframe tbody tr th {\n",
       "        vertical-align: top;\n",
       "    }\n",
       "\n",
       "    .dataframe thead th {\n",
       "        text-align: right;\n",
       "    }\n",
       "</style>\n",
       "<table border=\"1\" class=\"dataframe\">\n",
       "  <thead>\n",
       "    <tr style=\"text-align: right;\">\n",
       "      <th></th>\n",
       "      <th>Animal</th>\n",
       "      <th>Age</th>\n",
       "      <th>Visits</th>\n",
       "      <th>priority</th>\n",
       "    </tr>\n",
       "  </thead>\n",
       "  <tbody>\n",
       "    <tr>\n",
       "      <th>f</th>\n",
       "      <td>dog</td>\n",
       "      <td>NaN</td>\n",
       "      <td>4</td>\n",
       "      <td>yes</td>\n",
       "    </tr>\n",
       "    <tr>\n",
       "      <th>g</th>\n",
       "      <td>horse</td>\n",
       "      <td>6.0</td>\n",
       "      <td>5</td>\n",
       "      <td>no</td>\n",
       "    </tr>\n",
       "    <tr>\n",
       "      <th>h</th>\n",
       "      <td>cat</td>\n",
       "      <td>NaN</td>\n",
       "      <td>1</td>\n",
       "      <td>yes</td>\n",
       "    </tr>\n",
       "  </tbody>\n",
       "</table>\n",
       "</div>"
      ],
      "text/plain": [
       "  Animal  Age  Visits priority\n",
       "f    dog  NaN       4      yes\n",
       "g  horse  6.0       5       no\n",
       "h    cat  NaN       1      yes"
      ]
     },
     "execution_count": 82,
     "metadata": {},
     "output_type": "execute_result"
    }
   ],
   "source": [
    "df2.tail(3) #Last 3 records --- eg like if we have millions of records, we can look final entries in seconds without scrolling"
   ]
  },
  {
   "cell_type": "code",
   "execution_count": 83,
   "id": "e20cccda",
   "metadata": {},
   "outputs": [
    {
     "data": {
      "text/plain": [
       "Index(['a', 'b', 'c', 'd', 'e', 'f', 'g', 'h'], dtype='object')"
      ]
     },
     "execution_count": 83,
     "metadata": {},
     "output_type": "execute_result"
    }
   ],
   "source": [
    "df2.index #printing/checking indexes"
   ]
  },
  {
   "cell_type": "code",
   "execution_count": 84,
   "id": "52f9c91c",
   "metadata": {},
   "outputs": [
    {
     "ename": "TypeError",
     "evalue": "'Index' object is not callable",
     "output_type": "error",
     "traceback": [
      "\u001b[1;31m---------------------------------------------------------------------------\u001b[0m",
      "\u001b[1;31mTypeError\u001b[0m                                 Traceback (most recent call last)",
      "\u001b[1;32m~\\AppData\\Local\\Temp/ipykernel_23556/1897917164.py\u001b[0m in \u001b[0;36m<module>\u001b[1;34m\u001b[0m\n\u001b[0;32m      1\u001b[0m \u001b[1;31m#df2.index in this index is an object and it is not a function cz its not callable and no arguments required\u001b[0m\u001b[1;33m\u001b[0m\u001b[1;33m\u001b[0m\u001b[0m\n\u001b[0;32m      2\u001b[0m \u001b[1;31m#df2.index() will throw an error\u001b[0m\u001b[1;33m\u001b[0m\u001b[1;33m\u001b[0m\u001b[0m\n\u001b[1;32m----> 3\u001b[1;33m \u001b[0mdf2\u001b[0m\u001b[1;33m.\u001b[0m\u001b[0mindex\u001b[0m\u001b[1;33m(\u001b[0m\u001b[1;33m)\u001b[0m\u001b[1;33m\u001b[0m\u001b[1;33m\u001b[0m\u001b[0m\n\u001b[0m",
      "\u001b[1;31mTypeError\u001b[0m: 'Index' object is not callable"
     ]
    }
   ],
   "source": [
    "#df2.index in this index is an object and it is not a function cz its not callable and no arguments required\n",
    "#df2.index() will throw an error\n",
    "df2.index()"
   ]
  },
  {
   "cell_type": "code",
   "execution_count": 86,
   "id": "fec48db0",
   "metadata": {},
   "outputs": [
    {
     "name": "stdout",
     "output_type": "stream",
     "text": [
      "Index(['a', 'b', 'c', 'd', 'e', 'f', 'g', 'h'], dtype='object')\n",
      "Index(['Animal', 'Age', 'Visits', 'priority'], dtype='object')\n"
     ]
    }
   ],
   "source": [
    "print(df2.index) #Row index names\n",
    "print(df2.columns) #colum index names"
   ]
  },
  {
   "cell_type": "code",
   "execution_count": 87,
   "id": "d8f67966",
   "metadata": {},
   "outputs": [
    {
     "data": {
      "text/plain": [
       "array([['cat', 2.0, 1, 'yes'],\n",
       "       ['dog', 4.0, 2, 'no'],\n",
       "       ['horse', 5.5, 3, 'no'],\n",
       "       ['tiger', 3.0, 2, 'yes'],\n",
       "       ['snake', 12.0, 1, 'no'],\n",
       "       ['dog', nan, 4, 'yes'],\n",
       "       ['horse', 6.0, 5, 'no'],\n",
       "       ['cat', nan, 1, 'yes']], dtype=object)"
      ]
     },
     "execution_count": 87,
     "metadata": {},
     "output_type": "execute_result"
    }
   ],
   "source": [
    "df2.values"
   ]
  },
  {
   "cell_type": "code",
   "execution_count": 88,
   "id": "ab8425f0",
   "metadata": {},
   "outputs": [
    {
     "data": {
      "text/html": [
       "<div>\n",
       "<style scoped>\n",
       "    .dataframe tbody tr th:only-of-type {\n",
       "        vertical-align: middle;\n",
       "    }\n",
       "\n",
       "    .dataframe tbody tr th {\n",
       "        vertical-align: top;\n",
       "    }\n",
       "\n",
       "    .dataframe thead th {\n",
       "        text-align: right;\n",
       "    }\n",
       "</style>\n",
       "<table border=\"1\" class=\"dataframe\">\n",
       "  <thead>\n",
       "    <tr style=\"text-align: right;\">\n",
       "      <th></th>\n",
       "      <th>Age</th>\n",
       "      <th>Visits</th>\n",
       "    </tr>\n",
       "  </thead>\n",
       "  <tbody>\n",
       "    <tr>\n",
       "      <th>count</th>\n",
       "      <td>6.000000</td>\n",
       "      <td>8.000000</td>\n",
       "    </tr>\n",
       "    <tr>\n",
       "      <th>mean</th>\n",
       "      <td>5.416667</td>\n",
       "      <td>2.375000</td>\n",
       "    </tr>\n",
       "    <tr>\n",
       "      <th>std</th>\n",
       "      <td>3.555512</td>\n",
       "      <td>1.505941</td>\n",
       "    </tr>\n",
       "    <tr>\n",
       "      <th>min</th>\n",
       "      <td>2.000000</td>\n",
       "      <td>1.000000</td>\n",
       "    </tr>\n",
       "    <tr>\n",
       "      <th>25%</th>\n",
       "      <td>3.250000</td>\n",
       "      <td>1.000000</td>\n",
       "    </tr>\n",
       "    <tr>\n",
       "      <th>50%</th>\n",
       "      <td>4.750000</td>\n",
       "      <td>2.000000</td>\n",
       "    </tr>\n",
       "    <tr>\n",
       "      <th>75%</th>\n",
       "      <td>5.875000</td>\n",
       "      <td>3.250000</td>\n",
       "    </tr>\n",
       "    <tr>\n",
       "      <th>max</th>\n",
       "      <td>12.000000</td>\n",
       "      <td>5.000000</td>\n",
       "    </tr>\n",
       "  </tbody>\n",
       "</table>\n",
       "</div>"
      ],
      "text/plain": [
       "             Age    Visits\n",
       "count   6.000000  8.000000\n",
       "mean    5.416667  2.375000\n",
       "std     3.555512  1.505941\n",
       "min     2.000000  1.000000\n",
       "25%     3.250000  1.000000\n",
       "50%     4.750000  2.000000\n",
       "75%     5.875000  3.250000\n",
       "max    12.000000  5.000000"
      ]
     },
     "execution_count": 88,
     "metadata": {},
     "output_type": "execute_result"
    }
   ],
   "source": [
    "#Statistical data analysis using Pandas\n",
    "df2.describe()"
   ]
  },
  {
   "cell_type": "code",
   "execution_count": 89,
   "id": "9ae9c148",
   "metadata": {},
   "outputs": [
    {
     "data": {
      "text/html": [
       "<div>\n",
       "<style scoped>\n",
       "    .dataframe tbody tr th:only-of-type {\n",
       "        vertical-align: middle;\n",
       "    }\n",
       "\n",
       "    .dataframe tbody tr th {\n",
       "        vertical-align: top;\n",
       "    }\n",
       "\n",
       "    .dataframe thead th {\n",
       "        text-align: right;\n",
       "    }\n",
       "</style>\n",
       "<table border=\"1\" class=\"dataframe\">\n",
       "  <thead>\n",
       "    <tr style=\"text-align: right;\">\n",
       "      <th></th>\n",
       "      <th>a</th>\n",
       "      <th>b</th>\n",
       "      <th>c</th>\n",
       "      <th>d</th>\n",
       "      <th>e</th>\n",
       "      <th>f</th>\n",
       "      <th>g</th>\n",
       "      <th>h</th>\n",
       "    </tr>\n",
       "  </thead>\n",
       "  <tbody>\n",
       "    <tr>\n",
       "      <th>Animal</th>\n",
       "      <td>cat</td>\n",
       "      <td>dog</td>\n",
       "      <td>horse</td>\n",
       "      <td>tiger</td>\n",
       "      <td>snake</td>\n",
       "      <td>dog</td>\n",
       "      <td>horse</td>\n",
       "      <td>cat</td>\n",
       "    </tr>\n",
       "    <tr>\n",
       "      <th>Age</th>\n",
       "      <td>2.0</td>\n",
       "      <td>4.0</td>\n",
       "      <td>5.5</td>\n",
       "      <td>3.0</td>\n",
       "      <td>12.0</td>\n",
       "      <td>NaN</td>\n",
       "      <td>6.0</td>\n",
       "      <td>NaN</td>\n",
       "    </tr>\n",
       "    <tr>\n",
       "      <th>Visits</th>\n",
       "      <td>1</td>\n",
       "      <td>2</td>\n",
       "      <td>3</td>\n",
       "      <td>2</td>\n",
       "      <td>1</td>\n",
       "      <td>4</td>\n",
       "      <td>5</td>\n",
       "      <td>1</td>\n",
       "    </tr>\n",
       "    <tr>\n",
       "      <th>priority</th>\n",
       "      <td>yes</td>\n",
       "      <td>no</td>\n",
       "      <td>no</td>\n",
       "      <td>yes</td>\n",
       "      <td>no</td>\n",
       "      <td>yes</td>\n",
       "      <td>no</td>\n",
       "      <td>yes</td>\n",
       "    </tr>\n",
       "  </tbody>\n",
       "</table>\n",
       "</div>"
      ],
      "text/plain": [
       "            a    b      c      d      e    f      g    h\n",
       "Animal    cat  dog  horse  tiger  snake  dog  horse  cat\n",
       "Age       2.0  4.0    5.5    3.0   12.0  NaN    6.0  NaN\n",
       "Visits      1    2      3      2      1    4      5    1\n",
       "priority  yes   no     no    yes     no  yes     no  yes"
      ]
     },
     "execution_count": 89,
     "metadata": {},
     "output_type": "execute_result"
    }
   ],
   "source": [
    "df2.T #Transposing DataFrame"
   ]
  },
  {
   "cell_type": "code",
   "execution_count": 91,
   "id": "ae9559b0",
   "metadata": {},
   "outputs": [
    {
     "data": {
      "text/html": [
       "<div>\n",
       "<style scoped>\n",
       "    .dataframe tbody tr th:only-of-type {\n",
       "        vertical-align: middle;\n",
       "    }\n",
       "\n",
       "    .dataframe tbody tr th {\n",
       "        vertical-align: top;\n",
       "    }\n",
       "\n",
       "    .dataframe thead th {\n",
       "        text-align: right;\n",
       "    }\n",
       "</style>\n",
       "<table border=\"1\" class=\"dataframe\">\n",
       "  <thead>\n",
       "    <tr style=\"text-align: right;\">\n",
       "      <th></th>\n",
       "      <th>Animal</th>\n",
       "      <th>Age</th>\n",
       "      <th>Visits</th>\n",
       "      <th>priority</th>\n",
       "    </tr>\n",
       "  </thead>\n",
       "  <tbody>\n",
       "    <tr>\n",
       "      <th>a</th>\n",
       "      <td>cat</td>\n",
       "      <td>2.0</td>\n",
       "      <td>1</td>\n",
       "      <td>yes</td>\n",
       "    </tr>\n",
       "    <tr>\n",
       "      <th>d</th>\n",
       "      <td>tiger</td>\n",
       "      <td>3.0</td>\n",
       "      <td>2</td>\n",
       "      <td>yes</td>\n",
       "    </tr>\n",
       "    <tr>\n",
       "      <th>b</th>\n",
       "      <td>dog</td>\n",
       "      <td>4.0</td>\n",
       "      <td>2</td>\n",
       "      <td>no</td>\n",
       "    </tr>\n",
       "    <tr>\n",
       "      <th>c</th>\n",
       "      <td>horse</td>\n",
       "      <td>5.5</td>\n",
       "      <td>3</td>\n",
       "      <td>no</td>\n",
       "    </tr>\n",
       "    <tr>\n",
       "      <th>g</th>\n",
       "      <td>horse</td>\n",
       "      <td>6.0</td>\n",
       "      <td>5</td>\n",
       "      <td>no</td>\n",
       "    </tr>\n",
       "    <tr>\n",
       "      <th>e</th>\n",
       "      <td>snake</td>\n",
       "      <td>12.0</td>\n",
       "      <td>1</td>\n",
       "      <td>no</td>\n",
       "    </tr>\n",
       "    <tr>\n",
       "      <th>f</th>\n",
       "      <td>dog</td>\n",
       "      <td>NaN</td>\n",
       "      <td>4</td>\n",
       "      <td>yes</td>\n",
       "    </tr>\n",
       "    <tr>\n",
       "      <th>h</th>\n",
       "      <td>cat</td>\n",
       "      <td>NaN</td>\n",
       "      <td>1</td>\n",
       "      <td>yes</td>\n",
       "    </tr>\n",
       "  </tbody>\n",
       "</table>\n",
       "</div>"
      ],
      "text/plain": [
       "  Animal   Age  Visits priority\n",
       "a    cat   2.0       1      yes\n",
       "d  tiger   3.0       2      yes\n",
       "b    dog   4.0       2       no\n",
       "c  horse   5.5       3       no\n",
       "g  horse   6.0       5       no\n",
       "e  snake  12.0       1       no\n",
       "f    dog   NaN       4      yes\n",
       "h    cat   NaN       1      yes"
      ]
     },
     "execution_count": 91,
     "metadata": {},
     "output_type": "execute_result"
    }
   ],
   "source": [
    "df2.sort_values(by = 'Age') #Default is Ascending order"
   ]
  },
  {
   "cell_type": "code",
   "execution_count": 92,
   "id": "cd1ec2f3",
   "metadata": {},
   "outputs": [
    {
     "data": {
      "text/html": [
       "<div>\n",
       "<style scoped>\n",
       "    .dataframe tbody tr th:only-of-type {\n",
       "        vertical-align: middle;\n",
       "    }\n",
       "\n",
       "    .dataframe tbody tr th {\n",
       "        vertical-align: top;\n",
       "    }\n",
       "\n",
       "    .dataframe thead th {\n",
       "        text-align: right;\n",
       "    }\n",
       "</style>\n",
       "<table border=\"1\" class=\"dataframe\">\n",
       "  <thead>\n",
       "    <tr style=\"text-align: right;\">\n",
       "      <th></th>\n",
       "      <th>Animal</th>\n",
       "      <th>Age</th>\n",
       "      <th>Visits</th>\n",
       "      <th>priority</th>\n",
       "    </tr>\n",
       "  </thead>\n",
       "  <tbody>\n",
       "    <tr>\n",
       "      <th>b</th>\n",
       "      <td>dog</td>\n",
       "      <td>4.0</td>\n",
       "      <td>2</td>\n",
       "      <td>no</td>\n",
       "    </tr>\n",
       "    <tr>\n",
       "      <th>c</th>\n",
       "      <td>horse</td>\n",
       "      <td>5.5</td>\n",
       "      <td>3</td>\n",
       "      <td>no</td>\n",
       "    </tr>\n",
       "  </tbody>\n",
       "</table>\n",
       "</div>"
      ],
      "text/plain": [
       "  Animal  Age  Visits priority\n",
       "b    dog  4.0       2       no\n",
       "c  horse  5.5       3       no"
      ]
     },
     "execution_count": 92,
     "metadata": {},
     "output_type": "execute_result"
    }
   ],
   "source": [
    "#Slicing DataFrame\n",
    "df2[1:3]"
   ]
  },
  {
   "cell_type": "code",
   "execution_count": 93,
   "id": "c063c6ec",
   "metadata": {},
   "outputs": [
    {
     "data": {
      "text/html": [
       "<div>\n",
       "<style scoped>\n",
       "    .dataframe tbody tr th:only-of-type {\n",
       "        vertical-align: middle;\n",
       "    }\n",
       "\n",
       "    .dataframe tbody tr th {\n",
       "        vertical-align: top;\n",
       "    }\n",
       "\n",
       "    .dataframe thead th {\n",
       "        text-align: right;\n",
       "    }\n",
       "</style>\n",
       "<table border=\"1\" class=\"dataframe\">\n",
       "  <thead>\n",
       "    <tr style=\"text-align: right;\">\n",
       "      <th></th>\n",
       "      <th>Animal</th>\n",
       "      <th>Age</th>\n",
       "      <th>Visits</th>\n",
       "      <th>priority</th>\n",
       "    </tr>\n",
       "  </thead>\n",
       "  <tbody>\n",
       "    <tr>\n",
       "      <th>d</th>\n",
       "      <td>tiger</td>\n",
       "      <td>3.0</td>\n",
       "      <td>2</td>\n",
       "      <td>yes</td>\n",
       "    </tr>\n",
       "    <tr>\n",
       "      <th>b</th>\n",
       "      <td>dog</td>\n",
       "      <td>4.0</td>\n",
       "      <td>2</td>\n",
       "      <td>no</td>\n",
       "    </tr>\n",
       "  </tbody>\n",
       "</table>\n",
       "</div>"
      ],
      "text/plain": [
       "  Animal  Age  Visits priority\n",
       "d  tiger  3.0       2      yes\n",
       "b    dog  4.0       2       no"
      ]
     },
     "execution_count": 93,
     "metadata": {},
     "output_type": "execute_result"
    }
   ],
   "source": [
    "df2.sort_values(by = 'Age')[1:3]"
   ]
  },
  {
   "cell_type": "code",
   "execution_count": 95,
   "id": "8efc3fb4",
   "metadata": {},
   "outputs": [
    {
     "data": {
      "text/html": [
       "<div>\n",
       "<style scoped>\n",
       "    .dataframe tbody tr th:only-of-type {\n",
       "        vertical-align: middle;\n",
       "    }\n",
       "\n",
       "    .dataframe tbody tr th {\n",
       "        vertical-align: top;\n",
       "    }\n",
       "\n",
       "    .dataframe thead th {\n",
       "        text-align: right;\n",
       "    }\n",
       "</style>\n",
       "<table border=\"1\" class=\"dataframe\">\n",
       "  <thead>\n",
       "    <tr style=\"text-align: right;\">\n",
       "      <th></th>\n",
       "      <th>Age</th>\n",
       "      <th>Visits</th>\n",
       "    </tr>\n",
       "  </thead>\n",
       "  <tbody>\n",
       "    <tr>\n",
       "      <th>a</th>\n",
       "      <td>2.0</td>\n",
       "      <td>1</td>\n",
       "    </tr>\n",
       "    <tr>\n",
       "      <th>b</th>\n",
       "      <td>4.0</td>\n",
       "      <td>2</td>\n",
       "    </tr>\n",
       "    <tr>\n",
       "      <th>c</th>\n",
       "      <td>5.5</td>\n",
       "      <td>3</td>\n",
       "    </tr>\n",
       "    <tr>\n",
       "      <th>d</th>\n",
       "      <td>3.0</td>\n",
       "      <td>2</td>\n",
       "    </tr>\n",
       "    <tr>\n",
       "      <th>e</th>\n",
       "      <td>12.0</td>\n",
       "      <td>1</td>\n",
       "    </tr>\n",
       "    <tr>\n",
       "      <th>f</th>\n",
       "      <td>NaN</td>\n",
       "      <td>4</td>\n",
       "    </tr>\n",
       "    <tr>\n",
       "      <th>g</th>\n",
       "      <td>6.0</td>\n",
       "      <td>5</td>\n",
       "    </tr>\n",
       "    <tr>\n",
       "      <th>h</th>\n",
       "      <td>NaN</td>\n",
       "      <td>1</td>\n",
       "    </tr>\n",
       "  </tbody>\n",
       "</table>\n",
       "</div>"
      ],
      "text/plain": [
       "    Age  Visits\n",
       "a   2.0       1\n",
       "b   4.0       2\n",
       "c   5.5       3\n",
       "d   3.0       2\n",
       "e  12.0       1\n",
       "f   NaN       4\n",
       "g   6.0       5\n",
       "h   NaN       1"
      ]
     },
     "execution_count": 95,
     "metadata": {},
     "output_type": "execute_result"
    }
   ],
   "source": [
    "#Query DataFrame by Column names\n",
    "df2[['Age', 'Visits']]"
   ]
  },
  {
   "cell_type": "code",
   "execution_count": 96,
   "id": "0f94d1bd",
   "metadata": {},
   "outputs": [
    {
     "data": {
      "text/html": [
       "<div>\n",
       "<style scoped>\n",
       "    .dataframe tbody tr th:only-of-type {\n",
       "        vertical-align: middle;\n",
       "    }\n",
       "\n",
       "    .dataframe tbody tr th {\n",
       "        vertical-align: top;\n",
       "    }\n",
       "\n",
       "    .dataframe thead th {\n",
       "        text-align: right;\n",
       "    }\n",
       "</style>\n",
       "<table border=\"1\" class=\"dataframe\">\n",
       "  <thead>\n",
       "    <tr style=\"text-align: right;\">\n",
       "      <th></th>\n",
       "      <th>Animal</th>\n",
       "      <th>Age</th>\n",
       "      <th>Visits</th>\n",
       "      <th>priority</th>\n",
       "    </tr>\n",
       "  </thead>\n",
       "  <tbody>\n",
       "    <tr>\n",
       "      <th>b</th>\n",
       "      <td>dog</td>\n",
       "      <td>4.0</td>\n",
       "      <td>2</td>\n",
       "      <td>no</td>\n",
       "    </tr>\n",
       "    <tr>\n",
       "      <th>c</th>\n",
       "      <td>horse</td>\n",
       "      <td>5.5</td>\n",
       "      <td>3</td>\n",
       "      <td>no</td>\n",
       "    </tr>\n",
       "  </tbody>\n",
       "</table>\n",
       "</div>"
      ],
      "text/plain": [
       "  Animal  Age  Visits priority\n",
       "b    dog  4.0       2       no\n",
       "c  horse  5.5       3       no"
      ]
     },
     "execution_count": 96,
     "metadata": {},
     "output_type": "execute_result"
    }
   ],
   "source": [
    "#query rows 2 & 3\n",
    "df2.iloc[1:3]"
   ]
  },
  {
   "cell_type": "code",
   "execution_count": 98,
   "id": "9b4cbce4",
   "metadata": {},
   "outputs": [
    {
     "data": {
      "text/plain": [
       "<bound method NDFrame.copy of   Animal   Age  Visits priority\n",
       "a    cat   2.0       1      yes\n",
       "b    dog   4.0       2       no\n",
       "c  horse   5.5       3       no\n",
       "d  tiger   3.0       2      yes\n",
       "e  snake  12.0       1       no\n",
       "f    dog   NaN       4      yes\n",
       "g  horse   6.0       5       no\n",
       "h    cat   NaN       1      yes>"
      ]
     },
     "execution_count": 98,
     "metadata": {},
     "output_type": "execute_result"
    }
   ],
   "source": [
    "#Copy DataFrame something similar to Save As\n",
    "\n",
    "df3 = df2.copy #As object to create NDFrame\n",
    "df3"
   ]
  },
  {
   "cell_type": "code",
   "execution_count": 99,
   "id": "09e3c4cf",
   "metadata": {},
   "outputs": [
    {
     "data": {
      "text/html": [
       "<div>\n",
       "<style scoped>\n",
       "    .dataframe tbody tr th:only-of-type {\n",
       "        vertical-align: middle;\n",
       "    }\n",
       "\n",
       "    .dataframe tbody tr th {\n",
       "        vertical-align: top;\n",
       "    }\n",
       "\n",
       "    .dataframe thead th {\n",
       "        text-align: right;\n",
       "    }\n",
       "</style>\n",
       "<table border=\"1\" class=\"dataframe\">\n",
       "  <thead>\n",
       "    <tr style=\"text-align: right;\">\n",
       "      <th></th>\n",
       "      <th>Animal</th>\n",
       "      <th>Age</th>\n",
       "      <th>Visits</th>\n",
       "      <th>priority</th>\n",
       "    </tr>\n",
       "  </thead>\n",
       "  <tbody>\n",
       "    <tr>\n",
       "      <th>a</th>\n",
       "      <td>cat</td>\n",
       "      <td>2.0</td>\n",
       "      <td>1</td>\n",
       "      <td>yes</td>\n",
       "    </tr>\n",
       "    <tr>\n",
       "      <th>b</th>\n",
       "      <td>dog</td>\n",
       "      <td>4.0</td>\n",
       "      <td>2</td>\n",
       "      <td>no</td>\n",
       "    </tr>\n",
       "    <tr>\n",
       "      <th>c</th>\n",
       "      <td>horse</td>\n",
       "      <td>5.5</td>\n",
       "      <td>3</td>\n",
       "      <td>no</td>\n",
       "    </tr>\n",
       "    <tr>\n",
       "      <th>d</th>\n",
       "      <td>tiger</td>\n",
       "      <td>3.0</td>\n",
       "      <td>2</td>\n",
       "      <td>yes</td>\n",
       "    </tr>\n",
       "    <tr>\n",
       "      <th>e</th>\n",
       "      <td>snake</td>\n",
       "      <td>12.0</td>\n",
       "      <td>1</td>\n",
       "      <td>no</td>\n",
       "    </tr>\n",
       "    <tr>\n",
       "      <th>f</th>\n",
       "      <td>dog</td>\n",
       "      <td>NaN</td>\n",
       "      <td>4</td>\n",
       "      <td>yes</td>\n",
       "    </tr>\n",
       "    <tr>\n",
       "      <th>g</th>\n",
       "      <td>horse</td>\n",
       "      <td>6.0</td>\n",
       "      <td>5</td>\n",
       "      <td>no</td>\n",
       "    </tr>\n",
       "    <tr>\n",
       "      <th>h</th>\n",
       "      <td>cat</td>\n",
       "      <td>NaN</td>\n",
       "      <td>1</td>\n",
       "      <td>yes</td>\n",
       "    </tr>\n",
       "  </tbody>\n",
       "</table>\n",
       "</div>"
      ],
      "text/plain": [
       "  Animal   Age  Visits priority\n",
       "a    cat   2.0       1      yes\n",
       "b    dog   4.0       2       no\n",
       "c  horse   5.5       3       no\n",
       "d  tiger   3.0       2      yes\n",
       "e  snake  12.0       1       no\n",
       "f    dog   NaN       4      yes\n",
       "g  horse   6.0       5       no\n",
       "h    cat   NaN       1      yes"
      ]
     },
     "execution_count": 99,
     "metadata": {},
     "output_type": "execute_result"
    }
   ],
   "source": [
    "df3 = df2.copy() #As function to create DataFrame\n",
    "df3"
   ]
  },
  {
   "cell_type": "code",
   "execution_count": 100,
   "id": "9b33734b",
   "metadata": {},
   "outputs": [
    {
     "data": {
      "text/html": [
       "<div>\n",
       "<style scoped>\n",
       "    .dataframe tbody tr th:only-of-type {\n",
       "        vertical-align: middle;\n",
       "    }\n",
       "\n",
       "    .dataframe tbody tr th {\n",
       "        vertical-align: top;\n",
       "    }\n",
       "\n",
       "    .dataframe thead th {\n",
       "        text-align: right;\n",
       "    }\n",
       "</style>\n",
       "<table border=\"1\" class=\"dataframe\">\n",
       "  <thead>\n",
       "    <tr style=\"text-align: right;\">\n",
       "      <th></th>\n",
       "      <th>Animal</th>\n",
       "      <th>Age</th>\n",
       "      <th>Visits</th>\n",
       "      <th>priority</th>\n",
       "    </tr>\n",
       "  </thead>\n",
       "  <tbody>\n",
       "    <tr>\n",
       "      <th>a</th>\n",
       "      <td>False</td>\n",
       "      <td>False</td>\n",
       "      <td>False</td>\n",
       "      <td>False</td>\n",
       "    </tr>\n",
       "    <tr>\n",
       "      <th>b</th>\n",
       "      <td>False</td>\n",
       "      <td>False</td>\n",
       "      <td>False</td>\n",
       "      <td>False</td>\n",
       "    </tr>\n",
       "    <tr>\n",
       "      <th>c</th>\n",
       "      <td>False</td>\n",
       "      <td>False</td>\n",
       "      <td>False</td>\n",
       "      <td>False</td>\n",
       "    </tr>\n",
       "    <tr>\n",
       "      <th>d</th>\n",
       "      <td>False</td>\n",
       "      <td>False</td>\n",
       "      <td>False</td>\n",
       "      <td>False</td>\n",
       "    </tr>\n",
       "    <tr>\n",
       "      <th>e</th>\n",
       "      <td>False</td>\n",
       "      <td>False</td>\n",
       "      <td>False</td>\n",
       "      <td>False</td>\n",
       "    </tr>\n",
       "    <tr>\n",
       "      <th>f</th>\n",
       "      <td>False</td>\n",
       "      <td>True</td>\n",
       "      <td>False</td>\n",
       "      <td>False</td>\n",
       "    </tr>\n",
       "    <tr>\n",
       "      <th>g</th>\n",
       "      <td>False</td>\n",
       "      <td>False</td>\n",
       "      <td>False</td>\n",
       "      <td>False</td>\n",
       "    </tr>\n",
       "    <tr>\n",
       "      <th>h</th>\n",
       "      <td>False</td>\n",
       "      <td>True</td>\n",
       "      <td>False</td>\n",
       "      <td>False</td>\n",
       "    </tr>\n",
       "  </tbody>\n",
       "</table>\n",
       "</div>"
      ],
      "text/plain": [
       "   Animal    Age  Visits  priority\n",
       "a   False  False   False     False\n",
       "b   False  False   False     False\n",
       "c   False  False   False     False\n",
       "d   False  False   False     False\n",
       "e   False  False   False     False\n",
       "f   False   True   False     False\n",
       "g   False  False   False     False\n",
       "h   False   True   False     False"
      ]
     },
     "execution_count": 100,
     "metadata": {},
     "output_type": "execute_result"
    }
   ],
   "source": [
    "#Checking Null Values in boolean format (usefull for small dataset) \n",
    "df3.isnull()"
   ]
  },
  {
   "cell_type": "code",
   "execution_count": 101,
   "id": "e1f63e89",
   "metadata": {},
   "outputs": [],
   "source": [
    "#Maqking change in the values, lets see if we wish to change the null value\n",
    "df3.loc['f','Age'] = 1.5"
   ]
  },
  {
   "cell_type": "code",
   "execution_count": 102,
   "id": "6b4b7717",
   "metadata": {},
   "outputs": [
    {
     "data": {
      "text/html": [
       "<div>\n",
       "<style scoped>\n",
       "    .dataframe tbody tr th:only-of-type {\n",
       "        vertical-align: middle;\n",
       "    }\n",
       "\n",
       "    .dataframe tbody tr th {\n",
       "        vertical-align: top;\n",
       "    }\n",
       "\n",
       "    .dataframe thead th {\n",
       "        text-align: right;\n",
       "    }\n",
       "</style>\n",
       "<table border=\"1\" class=\"dataframe\">\n",
       "  <thead>\n",
       "    <tr style=\"text-align: right;\">\n",
       "      <th></th>\n",
       "      <th>Animal</th>\n",
       "      <th>Age</th>\n",
       "      <th>Visits</th>\n",
       "      <th>priority</th>\n",
       "    </tr>\n",
       "  </thead>\n",
       "  <tbody>\n",
       "    <tr>\n",
       "      <th>a</th>\n",
       "      <td>cat</td>\n",
       "      <td>2.0</td>\n",
       "      <td>1</td>\n",
       "      <td>yes</td>\n",
       "    </tr>\n",
       "    <tr>\n",
       "      <th>b</th>\n",
       "      <td>dog</td>\n",
       "      <td>4.0</td>\n",
       "      <td>2</td>\n",
       "      <td>no</td>\n",
       "    </tr>\n",
       "    <tr>\n",
       "      <th>c</th>\n",
       "      <td>horse</td>\n",
       "      <td>5.5</td>\n",
       "      <td>3</td>\n",
       "      <td>no</td>\n",
       "    </tr>\n",
       "    <tr>\n",
       "      <th>d</th>\n",
       "      <td>tiger</td>\n",
       "      <td>3.0</td>\n",
       "      <td>2</td>\n",
       "      <td>yes</td>\n",
       "    </tr>\n",
       "    <tr>\n",
       "      <th>e</th>\n",
       "      <td>snake</td>\n",
       "      <td>12.0</td>\n",
       "      <td>1</td>\n",
       "      <td>no</td>\n",
       "    </tr>\n",
       "    <tr>\n",
       "      <th>f</th>\n",
       "      <td>dog</td>\n",
       "      <td>1.5</td>\n",
       "      <td>4</td>\n",
       "      <td>yes</td>\n",
       "    </tr>\n",
       "    <tr>\n",
       "      <th>g</th>\n",
       "      <td>horse</td>\n",
       "      <td>6.0</td>\n",
       "      <td>5</td>\n",
       "      <td>no</td>\n",
       "    </tr>\n",
       "    <tr>\n",
       "      <th>h</th>\n",
       "      <td>cat</td>\n",
       "      <td>NaN</td>\n",
       "      <td>1</td>\n",
       "      <td>yes</td>\n",
       "    </tr>\n",
       "  </tbody>\n",
       "</table>\n",
       "</div>"
      ],
      "text/plain": [
       "  Animal   Age  Visits priority\n",
       "a    cat   2.0       1      yes\n",
       "b    dog   4.0       2       no\n",
       "c  horse   5.5       3       no\n",
       "d  tiger   3.0       2      yes\n",
       "e  snake  12.0       1       no\n",
       "f    dog   1.5       4      yes\n",
       "g  horse   6.0       5       no\n",
       "h    cat   NaN       1      yes"
      ]
     },
     "execution_count": 102,
     "metadata": {},
     "output_type": "execute_result"
    }
   ],
   "source": [
    "df3"
   ]
  },
  {
   "cell_type": "code",
   "execution_count": 103,
   "id": "3ebbb361",
   "metadata": {},
   "outputs": [
    {
     "name": "stderr",
     "output_type": "stream",
     "text": [
      "C:\\Users\\Pranav\\AppData\\Local\\Temp/ipykernel_23556/2251326997.py:2: FutureWarning: Dropping of nuisance columns in DataFrame reductions (with 'numeric_only=None') is deprecated; in a future version this will raise TypeError.  Select only valid columns before calling the reduction.\n",
      "  df3.mean()\n"
     ]
    },
    {
     "data": {
      "text/plain": [
       "Age       4.857143\n",
       "Visits    2.375000\n",
       "dtype: float64"
      ]
     },
     "execution_count": 103,
     "metadata": {},
     "output_type": "execute_result"
    }
   ],
   "source": [
    "#Checking out Mean of numerical coulmns\n",
    "df3.mean()"
   ]
  },
  {
   "cell_type": "code",
   "execution_count": 106,
   "id": "fc8abeaa",
   "metadata": {},
   "outputs": [
    {
     "data": {
      "text/plain": [
       "4.857142857142857"
      ]
     },
     "execution_count": 106,
     "metadata": {},
     "output_type": "execute_result"
    }
   ],
   "source": [
    "df3['Age'].mean()"
   ]
  },
  {
   "cell_type": "code",
   "execution_count": 107,
   "id": "e68d9eac",
   "metadata": {},
   "outputs": [
    {
     "data": {
      "text/plain": [
       "Animal      catdoghorsetigersnakedoghorsecat\n",
       "Age                                     34.0\n",
       "Visits                                    19\n",
       "priority                yesnonoyesnoyesnoyes\n",
       "dtype: object"
      ]
     },
     "execution_count": 107,
     "metadata": {},
     "output_type": "execute_result"
    }
   ],
   "source": [
    "df3.sum()"
   ]
  },
  {
   "cell_type": "code",
   "execution_count": 113,
   "id": "968ebd32",
   "metadata": {},
   "outputs": [
    {
     "data": {
      "text/plain": [
       "34.0"
      ]
     },
     "execution_count": 113,
     "metadata": {},
     "output_type": "execute_result"
    }
   ],
   "source": [
    "df3['Age'].sum() #min #max #median #count #mean can be used as well columnwise"
   ]
  },
  {
   "cell_type": "code",
   "execution_count": 116,
   "id": "4adc03ca",
   "metadata": {},
   "outputs": [
    {
     "data": {
      "text/plain": [
       "0      A\n",
       "1     BA\n",
       "2    fdg\n",
       "3    yet\n",
       "4    NaN\n",
       "5    kse\n",
       "dtype: object"
      ]
     },
     "execution_count": 116,
     "metadata": {},
     "output_type": "execute_result"
    }
   ],
   "source": [
    "#Strings\n",
    "\n",
    "string = pd.Series(['A','BA','fdg','yet', np.nan,'kse'])\n",
    "string"
   ]
  },
  {
   "cell_type": "code",
   "execution_count": 119,
   "id": "c3064eec",
   "metadata": {},
   "outputs": [
    {
     "data": {
      "text/plain": [
       "0      a\n",
       "1     ba\n",
       "2    fdg\n",
       "3    yet\n",
       "4    NaN\n",
       "5    kse\n",
       "dtype: object"
      ]
     },
     "execution_count": 119,
     "metadata": {},
     "output_type": "execute_result"
    }
   ],
   "source": [
    "#string is variable str is a function  \n",
    "string.str.lower()  #upper()"
   ]
  },
  {
   "cell_type": "code",
   "execution_count": 121,
   "id": "5f0d0854",
   "metadata": {},
   "outputs": [
    {
     "data": {
      "text/html": [
       "<div>\n",
       "<style scoped>\n",
       "    .dataframe tbody tr th:only-of-type {\n",
       "        vertical-align: middle;\n",
       "    }\n",
       "\n",
       "    .dataframe tbody tr th {\n",
       "        vertical-align: top;\n",
       "    }\n",
       "\n",
       "    .dataframe thead th {\n",
       "        text-align: right;\n",
       "    }\n",
       "</style>\n",
       "<table border=\"1\" class=\"dataframe\">\n",
       "  <thead>\n",
       "    <tr style=\"text-align: right;\">\n",
       "      <th></th>\n",
       "      <th>Animal</th>\n",
       "      <th>Age</th>\n",
       "      <th>Visits</th>\n",
       "      <th>priority</th>\n",
       "    </tr>\n",
       "  </thead>\n",
       "  <tbody>\n",
       "    <tr>\n",
       "      <th>a</th>\n",
       "      <td>cat</td>\n",
       "      <td>2.0</td>\n",
       "      <td>1</td>\n",
       "      <td>yes</td>\n",
       "    </tr>\n",
       "    <tr>\n",
       "      <th>b</th>\n",
       "      <td>dog</td>\n",
       "      <td>4.0</td>\n",
       "      <td>2</td>\n",
       "      <td>no</td>\n",
       "    </tr>\n",
       "    <tr>\n",
       "      <th>c</th>\n",
       "      <td>horse</td>\n",
       "      <td>5.5</td>\n",
       "      <td>3</td>\n",
       "      <td>no</td>\n",
       "    </tr>\n",
       "    <tr>\n",
       "      <th>d</th>\n",
       "      <td>tiger</td>\n",
       "      <td>3.0</td>\n",
       "      <td>2</td>\n",
       "      <td>yes</td>\n",
       "    </tr>\n",
       "    <tr>\n",
       "      <th>e</th>\n",
       "      <td>snake</td>\n",
       "      <td>12.0</td>\n",
       "      <td>1</td>\n",
       "      <td>no</td>\n",
       "    </tr>\n",
       "    <tr>\n",
       "      <th>f</th>\n",
       "      <td>dog</td>\n",
       "      <td>NaN</td>\n",
       "      <td>4</td>\n",
       "      <td>yes</td>\n",
       "    </tr>\n",
       "    <tr>\n",
       "      <th>g</th>\n",
       "      <td>horse</td>\n",
       "      <td>6.0</td>\n",
       "      <td>5</td>\n",
       "      <td>no</td>\n",
       "    </tr>\n",
       "    <tr>\n",
       "      <th>h</th>\n",
       "      <td>cat</td>\n",
       "      <td>NaN</td>\n",
       "      <td>1</td>\n",
       "      <td>yes</td>\n",
       "    </tr>\n",
       "  </tbody>\n",
       "</table>\n",
       "</div>"
      ],
      "text/plain": [
       "  Animal   Age  Visits priority\n",
       "a    cat   2.0       1      yes\n",
       "b    dog   4.0       2       no\n",
       "c  horse   5.5       3       no\n",
       "d  tiger   3.0       2      yes\n",
       "e  snake  12.0       1       no\n",
       "f    dog   NaN       4      yes\n",
       "g  horse   6.0       5       no\n",
       "h    cat   NaN       1      yes"
      ]
     },
     "execution_count": 121,
     "metadata": {},
     "output_type": "execute_result"
    }
   ],
   "source": [
    "#Operations for DataFrame missing values\n",
    "\n",
    "df4 = df2.copy()\n",
    "df4"
   ]
  },
  {
   "cell_type": "code",
   "execution_count": 123,
   "id": "7e50763f",
   "metadata": {},
   "outputs": [
    {
     "data": {
      "text/html": [
       "<div>\n",
       "<style scoped>\n",
       "    .dataframe tbody tr th:only-of-type {\n",
       "        vertical-align: middle;\n",
       "    }\n",
       "\n",
       "    .dataframe tbody tr th {\n",
       "        vertical-align: top;\n",
       "    }\n",
       "\n",
       "    .dataframe thead th {\n",
       "        text-align: right;\n",
       "    }\n",
       "</style>\n",
       "<table border=\"1\" class=\"dataframe\">\n",
       "  <thead>\n",
       "    <tr style=\"text-align: right;\">\n",
       "      <th></th>\n",
       "      <th>Animal</th>\n",
       "      <th>Age</th>\n",
       "      <th>Visits</th>\n",
       "      <th>priority</th>\n",
       "    </tr>\n",
       "  </thead>\n",
       "  <tbody>\n",
       "    <tr>\n",
       "      <th>a</th>\n",
       "      <td>cat</td>\n",
       "      <td>2.0</td>\n",
       "      <td>1</td>\n",
       "      <td>yes</td>\n",
       "    </tr>\n",
       "    <tr>\n",
       "      <th>b</th>\n",
       "      <td>dog</td>\n",
       "      <td>4.0</td>\n",
       "      <td>2</td>\n",
       "      <td>no</td>\n",
       "    </tr>\n",
       "    <tr>\n",
       "      <th>c</th>\n",
       "      <td>horse</td>\n",
       "      <td>5.5</td>\n",
       "      <td>3</td>\n",
       "      <td>no</td>\n",
       "    </tr>\n",
       "    <tr>\n",
       "      <th>d</th>\n",
       "      <td>tiger</td>\n",
       "      <td>3.0</td>\n",
       "      <td>2</td>\n",
       "      <td>yes</td>\n",
       "    </tr>\n",
       "    <tr>\n",
       "      <th>e</th>\n",
       "      <td>snake</td>\n",
       "      <td>12.0</td>\n",
       "      <td>1</td>\n",
       "      <td>no</td>\n",
       "    </tr>\n",
       "    <tr>\n",
       "      <th>f</th>\n",
       "      <td>dog</td>\n",
       "      <td>4.0</td>\n",
       "      <td>4</td>\n",
       "      <td>yes</td>\n",
       "    </tr>\n",
       "    <tr>\n",
       "      <th>g</th>\n",
       "      <td>horse</td>\n",
       "      <td>6.0</td>\n",
       "      <td>5</td>\n",
       "      <td>no</td>\n",
       "    </tr>\n",
       "    <tr>\n",
       "      <th>h</th>\n",
       "      <td>cat</td>\n",
       "      <td>4.0</td>\n",
       "      <td>1</td>\n",
       "      <td>yes</td>\n",
       "    </tr>\n",
       "  </tbody>\n",
       "</table>\n",
       "</div>"
      ],
      "text/plain": [
       "  Animal   Age  Visits priority\n",
       "a    cat   2.0       1      yes\n",
       "b    dog   4.0       2       no\n",
       "c  horse   5.5       3       no\n",
       "d  tiger   3.0       2      yes\n",
       "e  snake  12.0       1       no\n",
       "f    dog   4.0       4      yes\n",
       "g  horse   6.0       5       no\n",
       "h    cat   4.0       1      yes"
      ]
     },
     "execution_count": 123,
     "metadata": {},
     "output_type": "execute_result"
    }
   ],
   "source": [
    "df4.fillna(4) #Again we have not made actual changes, this is only for viewing "
   ]
  },
  {
   "cell_type": "code",
   "execution_count": 124,
   "id": "57a1b1c3",
   "metadata": {},
   "outputs": [
    {
     "data": {
      "text/html": [
       "<div>\n",
       "<style scoped>\n",
       "    .dataframe tbody tr th:only-of-type {\n",
       "        vertical-align: middle;\n",
       "    }\n",
       "\n",
       "    .dataframe tbody tr th {\n",
       "        vertical-align: top;\n",
       "    }\n",
       "\n",
       "    .dataframe thead th {\n",
       "        text-align: right;\n",
       "    }\n",
       "</style>\n",
       "<table border=\"1\" class=\"dataframe\">\n",
       "  <thead>\n",
       "    <tr style=\"text-align: right;\">\n",
       "      <th></th>\n",
       "      <th>Animal</th>\n",
       "      <th>Age</th>\n",
       "      <th>Visits</th>\n",
       "      <th>priority</th>\n",
       "    </tr>\n",
       "  </thead>\n",
       "  <tbody>\n",
       "    <tr>\n",
       "      <th>a</th>\n",
       "      <td>cat</td>\n",
       "      <td>2.0</td>\n",
       "      <td>1</td>\n",
       "      <td>yes</td>\n",
       "    </tr>\n",
       "    <tr>\n",
       "      <th>b</th>\n",
       "      <td>dog</td>\n",
       "      <td>4.0</td>\n",
       "      <td>2</td>\n",
       "      <td>no</td>\n",
       "    </tr>\n",
       "    <tr>\n",
       "      <th>c</th>\n",
       "      <td>horse</td>\n",
       "      <td>5.5</td>\n",
       "      <td>3</td>\n",
       "      <td>no</td>\n",
       "    </tr>\n",
       "    <tr>\n",
       "      <th>d</th>\n",
       "      <td>tiger</td>\n",
       "      <td>3.0</td>\n",
       "      <td>2</td>\n",
       "      <td>yes</td>\n",
       "    </tr>\n",
       "    <tr>\n",
       "      <th>e</th>\n",
       "      <td>snake</td>\n",
       "      <td>12.0</td>\n",
       "      <td>1</td>\n",
       "      <td>no</td>\n",
       "    </tr>\n",
       "    <tr>\n",
       "      <th>f</th>\n",
       "      <td>dog</td>\n",
       "      <td>NaN</td>\n",
       "      <td>4</td>\n",
       "      <td>yes</td>\n",
       "    </tr>\n",
       "    <tr>\n",
       "      <th>g</th>\n",
       "      <td>horse</td>\n",
       "      <td>6.0</td>\n",
       "      <td>5</td>\n",
       "      <td>no</td>\n",
       "    </tr>\n",
       "    <tr>\n",
       "      <th>h</th>\n",
       "      <td>cat</td>\n",
       "      <td>NaN</td>\n",
       "      <td>1</td>\n",
       "      <td>yes</td>\n",
       "    </tr>\n",
       "  </tbody>\n",
       "</table>\n",
       "</div>"
      ],
      "text/plain": [
       "  Animal   Age  Visits priority\n",
       "a    cat   2.0       1      yes\n",
       "b    dog   4.0       2       no\n",
       "c  horse   5.5       3       no\n",
       "d  tiger   3.0       2      yes\n",
       "e  snake  12.0       1       no\n",
       "f    dog   NaN       4      yes\n",
       "g  horse   6.0       5       no\n",
       "h    cat   NaN       1      yes"
      ]
     },
     "execution_count": 124,
     "metadata": {},
     "output_type": "execute_result"
    }
   ],
   "source": [
    "df4 #Missing values are still there"
   ]
  },
  {
   "cell_type": "code",
   "execution_count": 126,
   "id": "dae80b88",
   "metadata": {},
   "outputs": [
    {
     "data": {
      "text/plain": [
       "a     2.000000\n",
       "b     4.000000\n",
       "c     5.500000\n",
       "d     3.000000\n",
       "e    12.000000\n",
       "f     5.416667\n",
       "g     6.000000\n",
       "h     5.416667\n",
       "Name: Age, dtype: float64"
      ]
     },
     "execution_count": 126,
     "metadata": {},
     "output_type": "execute_result"
    }
   ],
   "source": [
    "#Mean Imputation example\n",
    "MeanAge = df4['Age'].mean()\n",
    "df4['Age'].fillna(MeanAge)"
   ]
  },
  {
   "cell_type": "code",
   "execution_count": 127,
   "id": "ee5e8e24",
   "metadata": {},
   "outputs": [
    {
     "data": {
      "text/html": [
       "<div>\n",
       "<style scoped>\n",
       "    .dataframe tbody tr th:only-of-type {\n",
       "        vertical-align: middle;\n",
       "    }\n",
       "\n",
       "    .dataframe tbody tr th {\n",
       "        vertical-align: top;\n",
       "    }\n",
       "\n",
       "    .dataframe thead th {\n",
       "        text-align: right;\n",
       "    }\n",
       "</style>\n",
       "<table border=\"1\" class=\"dataframe\">\n",
       "  <thead>\n",
       "    <tr style=\"text-align: right;\">\n",
       "      <th></th>\n",
       "      <th>Animal</th>\n",
       "      <th>Age</th>\n",
       "      <th>Visits</th>\n",
       "      <th>priority</th>\n",
       "    </tr>\n",
       "  </thead>\n",
       "  <tbody>\n",
       "    <tr>\n",
       "      <th>a</th>\n",
       "      <td>cat</td>\n",
       "      <td>2.0</td>\n",
       "      <td>1</td>\n",
       "      <td>yes</td>\n",
       "    </tr>\n",
       "    <tr>\n",
       "      <th>b</th>\n",
       "      <td>dog</td>\n",
       "      <td>4.0</td>\n",
       "      <td>2</td>\n",
       "      <td>no</td>\n",
       "    </tr>\n",
       "    <tr>\n",
       "      <th>c</th>\n",
       "      <td>horse</td>\n",
       "      <td>5.5</td>\n",
       "      <td>3</td>\n",
       "      <td>no</td>\n",
       "    </tr>\n",
       "    <tr>\n",
       "      <th>d</th>\n",
       "      <td>tiger</td>\n",
       "      <td>3.0</td>\n",
       "      <td>2</td>\n",
       "      <td>yes</td>\n",
       "    </tr>\n",
       "    <tr>\n",
       "      <th>e</th>\n",
       "      <td>snake</td>\n",
       "      <td>12.0</td>\n",
       "      <td>1</td>\n",
       "      <td>no</td>\n",
       "    </tr>\n",
       "    <tr>\n",
       "      <th>f</th>\n",
       "      <td>dog</td>\n",
       "      <td>NaN</td>\n",
       "      <td>4</td>\n",
       "      <td>yes</td>\n",
       "    </tr>\n",
       "    <tr>\n",
       "      <th>g</th>\n",
       "      <td>horse</td>\n",
       "      <td>6.0</td>\n",
       "      <td>5</td>\n",
       "      <td>no</td>\n",
       "    </tr>\n",
       "    <tr>\n",
       "      <th>h</th>\n",
       "      <td>cat</td>\n",
       "      <td>NaN</td>\n",
       "      <td>1</td>\n",
       "      <td>yes</td>\n",
       "    </tr>\n",
       "  </tbody>\n",
       "</table>\n",
       "</div>"
      ],
      "text/plain": [
       "  Animal   Age  Visits priority\n",
       "a    cat   2.0       1      yes\n",
       "b    dog   4.0       2       no\n",
       "c  horse   5.5       3       no\n",
       "d  tiger   3.0       2      yes\n",
       "e  snake  12.0       1       no\n",
       "f    dog   NaN       4      yes\n",
       "g  horse   6.0       5       no\n",
       "h    cat   NaN       1      yes"
      ]
     },
     "execution_count": 127,
     "metadata": {},
     "output_type": "execute_result"
    }
   ],
   "source": [
    "#Dropping missing value records\n",
    "\n",
    "df4"
   ]
  },
  {
   "cell_type": "code",
   "execution_count": 128,
   "id": "e7b512d8",
   "metadata": {},
   "outputs": [
    {
     "data": {
      "text/html": [
       "<div>\n",
       "<style scoped>\n",
       "    .dataframe tbody tr th:only-of-type {\n",
       "        vertical-align: middle;\n",
       "    }\n",
       "\n",
       "    .dataframe tbody tr th {\n",
       "        vertical-align: top;\n",
       "    }\n",
       "\n",
       "    .dataframe thead th {\n",
       "        text-align: right;\n",
       "    }\n",
       "</style>\n",
       "<table border=\"1\" class=\"dataframe\">\n",
       "  <thead>\n",
       "    <tr style=\"text-align: right;\">\n",
       "      <th></th>\n",
       "      <th>Animal</th>\n",
       "      <th>Age</th>\n",
       "      <th>Visits</th>\n",
       "      <th>priority</th>\n",
       "    </tr>\n",
       "  </thead>\n",
       "  <tbody>\n",
       "    <tr>\n",
       "      <th>a</th>\n",
       "      <td>cat</td>\n",
       "      <td>2.0</td>\n",
       "      <td>1</td>\n",
       "      <td>yes</td>\n",
       "    </tr>\n",
       "    <tr>\n",
       "      <th>b</th>\n",
       "      <td>dog</td>\n",
       "      <td>4.0</td>\n",
       "      <td>2</td>\n",
       "      <td>no</td>\n",
       "    </tr>\n",
       "    <tr>\n",
       "      <th>c</th>\n",
       "      <td>horse</td>\n",
       "      <td>5.5</td>\n",
       "      <td>3</td>\n",
       "      <td>no</td>\n",
       "    </tr>\n",
       "    <tr>\n",
       "      <th>d</th>\n",
       "      <td>tiger</td>\n",
       "      <td>3.0</td>\n",
       "      <td>2</td>\n",
       "      <td>yes</td>\n",
       "    </tr>\n",
       "    <tr>\n",
       "      <th>e</th>\n",
       "      <td>snake</td>\n",
       "      <td>12.0</td>\n",
       "      <td>1</td>\n",
       "      <td>no</td>\n",
       "    </tr>\n",
       "    <tr>\n",
       "      <th>g</th>\n",
       "      <td>horse</td>\n",
       "      <td>6.0</td>\n",
       "      <td>5</td>\n",
       "      <td>no</td>\n",
       "    </tr>\n",
       "  </tbody>\n",
       "</table>\n",
       "</div>"
      ],
      "text/plain": [
       "  Animal   Age  Visits priority\n",
       "a    cat   2.0       1      yes\n",
       "b    dog   4.0       2       no\n",
       "c  horse   5.5       3       no\n",
       "d  tiger   3.0       2      yes\n",
       "e  snake  12.0       1       no\n",
       "g  horse   6.0       5       no"
      ]
     },
     "execution_count": 128,
     "metadata": {},
     "output_type": "execute_result"
    }
   ],
   "source": [
    "df4.dropna(how = 'any')"
   ]
  },
  {
   "cell_type": "markdown",
   "id": "ac5afcfe",
   "metadata": {},
   "source": [
    "# DataFrame file operations"
   ]
  },
  {
   "cell_type": "code",
   "execution_count": 135,
   "id": "0be577b6",
   "metadata": {},
   "outputs": [
    {
     "data": {
      "text/plain": [
       "'D:\\\\Work\\\\Trial'"
      ]
     },
     "execution_count": 135,
     "metadata": {},
     "output_type": "execute_result"
    }
   ],
   "source": [
    "import os\n",
    "os.chdir('D:\\Work\\Trial') #Changing directory to create a file in desired directory\n",
    "os.getcwd()"
   ]
  },
  {
   "cell_type": "code",
   "execution_count": 136,
   "id": "7bda97e9",
   "metadata": {},
   "outputs": [],
   "source": [
    "df3.to_csv('Animal.csv') #File created and saved to desired drive and location and can be opened with different applications\n",
    "                        #like notepad, wordpad or excel\n",
    "    \n",
    "#File can also saved at desired drive and location by giving the entire path before the filename like D:\\Work\\Trial\\Animal.csv"
   ]
  },
  {
   "cell_type": "code",
   "execution_count": 137,
   "id": "98b56ba4",
   "metadata": {},
   "outputs": [
    {
     "data": {
      "text/html": [
       "<div>\n",
       "<style scoped>\n",
       "    .dataframe tbody tr th:only-of-type {\n",
       "        vertical-align: middle;\n",
       "    }\n",
       "\n",
       "    .dataframe tbody tr th {\n",
       "        vertical-align: top;\n",
       "    }\n",
       "\n",
       "    .dataframe thead th {\n",
       "        text-align: right;\n",
       "    }\n",
       "</style>\n",
       "<table border=\"1\" class=\"dataframe\">\n",
       "  <thead>\n",
       "    <tr style=\"text-align: right;\">\n",
       "      <th></th>\n",
       "      <th>Animal</th>\n",
       "      <th>Age</th>\n",
       "      <th>Visits</th>\n",
       "      <th>priority</th>\n",
       "    </tr>\n",
       "  </thead>\n",
       "  <tbody>\n",
       "    <tr>\n",
       "      <th>a</th>\n",
       "      <td>cat</td>\n",
       "      <td>2.0</td>\n",
       "      <td>1</td>\n",
       "      <td>yes</td>\n",
       "    </tr>\n",
       "    <tr>\n",
       "      <th>b</th>\n",
       "      <td>dog</td>\n",
       "      <td>4.0</td>\n",
       "      <td>2</td>\n",
       "      <td>no</td>\n",
       "    </tr>\n",
       "    <tr>\n",
       "      <th>c</th>\n",
       "      <td>horse</td>\n",
       "      <td>5.5</td>\n",
       "      <td>3</td>\n",
       "      <td>no</td>\n",
       "    </tr>\n",
       "    <tr>\n",
       "      <th>d</th>\n",
       "      <td>tiger</td>\n",
       "      <td>3.0</td>\n",
       "      <td>2</td>\n",
       "      <td>yes</td>\n",
       "    </tr>\n",
       "    <tr>\n",
       "      <th>e</th>\n",
       "      <td>snake</td>\n",
       "      <td>12.0</td>\n",
       "      <td>1</td>\n",
       "      <td>no</td>\n",
       "    </tr>\n",
       "    <tr>\n",
       "      <th>f</th>\n",
       "      <td>dog</td>\n",
       "      <td>1.5</td>\n",
       "      <td>4</td>\n",
       "      <td>yes</td>\n",
       "    </tr>\n",
       "    <tr>\n",
       "      <th>g</th>\n",
       "      <td>horse</td>\n",
       "      <td>6.0</td>\n",
       "      <td>5</td>\n",
       "      <td>no</td>\n",
       "    </tr>\n",
       "    <tr>\n",
       "      <th>h</th>\n",
       "      <td>cat</td>\n",
       "      <td>NaN</td>\n",
       "      <td>1</td>\n",
       "      <td>yes</td>\n",
       "    </tr>\n",
       "  </tbody>\n",
       "</table>\n",
       "</div>"
      ],
      "text/plain": [
       "  Animal   Age  Visits priority\n",
       "a    cat   2.0       1      yes\n",
       "b    dog   4.0       2       no\n",
       "c  horse   5.5       3       no\n",
       "d  tiger   3.0       2      yes\n",
       "e  snake  12.0       1       no\n",
       "f    dog   1.5       4      yes\n",
       "g  horse   6.0       5       no\n",
       "h    cat   NaN       1      yes"
      ]
     },
     "execution_count": 137,
     "metadata": {},
     "output_type": "execute_result"
    }
   ],
   "source": [
    "df3 #cross-checking the missing value"
   ]
  },
  {
   "cell_type": "code",
   "execution_count": 138,
   "id": "010ca8ea",
   "metadata": {},
   "outputs": [],
   "source": [
    "#Retriving or reading or calling the file in Python envioronment from the specific path/location\n",
    "df_Animal = pd.read_csv('Animal.csv')"
   ]
  },
  {
   "cell_type": "code",
   "execution_count": 140,
   "id": "9eb60509",
   "metadata": {},
   "outputs": [
    {
     "data": {
      "text/html": [
       "<div>\n",
       "<style scoped>\n",
       "    .dataframe tbody tr th:only-of-type {\n",
       "        vertical-align: middle;\n",
       "    }\n",
       "\n",
       "    .dataframe tbody tr th {\n",
       "        vertical-align: top;\n",
       "    }\n",
       "\n",
       "    .dataframe thead th {\n",
       "        text-align: right;\n",
       "    }\n",
       "</style>\n",
       "<table border=\"1\" class=\"dataframe\">\n",
       "  <thead>\n",
       "    <tr style=\"text-align: right;\">\n",
       "      <th></th>\n",
       "      <th>Unnamed: 0</th>\n",
       "      <th>Animal</th>\n",
       "      <th>Age</th>\n",
       "      <th>Visits</th>\n",
       "      <th>priority</th>\n",
       "    </tr>\n",
       "  </thead>\n",
       "  <tbody>\n",
       "    <tr>\n",
       "      <th>0</th>\n",
       "      <td>a</td>\n",
       "      <td>cat</td>\n",
       "      <td>2.0</td>\n",
       "      <td>1</td>\n",
       "      <td>yes</td>\n",
       "    </tr>\n",
       "    <tr>\n",
       "      <th>1</th>\n",
       "      <td>b</td>\n",
       "      <td>dog</td>\n",
       "      <td>4.0</td>\n",
       "      <td>2</td>\n",
       "      <td>no</td>\n",
       "    </tr>\n",
       "    <tr>\n",
       "      <th>2</th>\n",
       "      <td>c</td>\n",
       "      <td>horse</td>\n",
       "      <td>5.5</td>\n",
       "      <td>3</td>\n",
       "      <td>no</td>\n",
       "    </tr>\n",
       "  </tbody>\n",
       "</table>\n",
       "</div>"
      ],
      "text/plain": [
       "  Unnamed: 0 Animal  Age  Visits priority\n",
       "0          a    cat  2.0       1      yes\n",
       "1          b    dog  4.0       2       no\n",
       "2          c  horse  5.5       3       no"
      ]
     },
     "execution_count": 140,
     "metadata": {},
     "output_type": "execute_result"
    }
   ],
   "source": [
    "df_Animal.head(3) #Just for cross-checking whether the file data is the same"
   ]
  },
  {
   "cell_type": "code",
   "execution_count": 164,
   "id": "06a232d0",
   "metadata": {},
   "outputs": [],
   "source": [
    "#Creating and reading a file in excel format\n",
    "df3.to_excel('Animal.xlsx', sheet_name = 'Sheet1') #Also try following comment line\n",
    "#df3.to_excel('Animal.xlsx', index = None, sheet_name = 'Sheet1')"
   ]
  },
  {
   "cell_type": "code",
   "execution_count": 165,
   "id": "09cf9bfe",
   "metadata": {},
   "outputs": [
    {
     "data": {
      "text/html": [
       "<div>\n",
       "<style scoped>\n",
       "    .dataframe tbody tr th:only-of-type {\n",
       "        vertical-align: middle;\n",
       "    }\n",
       "\n",
       "    .dataframe tbody tr th {\n",
       "        vertical-align: top;\n",
       "    }\n",
       "\n",
       "    .dataframe thead th {\n",
       "        text-align: right;\n",
       "    }\n",
       "</style>\n",
       "<table border=\"1\" class=\"dataframe\">\n",
       "  <thead>\n",
       "    <tr style=\"text-align: right;\">\n",
       "      <th></th>\n",
       "      <th>Animal</th>\n",
       "      <th>Age</th>\n",
       "      <th>Visits</th>\n",
       "      <th>priority</th>\n",
       "    </tr>\n",
       "  </thead>\n",
       "  <tbody>\n",
       "    <tr>\n",
       "      <th>a</th>\n",
       "      <td>cat</td>\n",
       "      <td>2.0</td>\n",
       "      <td>1</td>\n",
       "      <td>yes</td>\n",
       "    </tr>\n",
       "    <tr>\n",
       "      <th>b</th>\n",
       "      <td>dog</td>\n",
       "      <td>4.0</td>\n",
       "      <td>2</td>\n",
       "      <td>no</td>\n",
       "    </tr>\n",
       "    <tr>\n",
       "      <th>c</th>\n",
       "      <td>horse</td>\n",
       "      <td>5.5</td>\n",
       "      <td>3</td>\n",
       "      <td>no</td>\n",
       "    </tr>\n",
       "    <tr>\n",
       "      <th>d</th>\n",
       "      <td>tiger</td>\n",
       "      <td>3.0</td>\n",
       "      <td>2</td>\n",
       "      <td>yes</td>\n",
       "    </tr>\n",
       "    <tr>\n",
       "      <th>e</th>\n",
       "      <td>snake</td>\n",
       "      <td>12.0</td>\n",
       "      <td>1</td>\n",
       "      <td>no</td>\n",
       "    </tr>\n",
       "    <tr>\n",
       "      <th>f</th>\n",
       "      <td>dog</td>\n",
       "      <td>1.5</td>\n",
       "      <td>4</td>\n",
       "      <td>yes</td>\n",
       "    </tr>\n",
       "    <tr>\n",
       "      <th>g</th>\n",
       "      <td>horse</td>\n",
       "      <td>6.0</td>\n",
       "      <td>5</td>\n",
       "      <td>no</td>\n",
       "    </tr>\n",
       "    <tr>\n",
       "      <th>h</th>\n",
       "      <td>cat</td>\n",
       "      <td>NaN</td>\n",
       "      <td>1</td>\n",
       "      <td>yes</td>\n",
       "    </tr>\n",
       "  </tbody>\n",
       "</table>\n",
       "</div>"
      ],
      "text/plain": [
       "  Animal   Age  Visits priority\n",
       "a    cat   2.0       1      yes\n",
       "b    dog   4.0       2       no\n",
       "c  horse   5.5       3       no\n",
       "d  tiger   3.0       2      yes\n",
       "e  snake  12.0       1       no\n",
       "f    dog   1.5       4      yes\n",
       "g  horse   6.0       5       no\n",
       "h    cat   NaN       1      yes"
      ]
     },
     "execution_count": 165,
     "metadata": {},
     "output_type": "execute_result"
    }
   ],
   "source": [
    "df_Animal2 = pd.read_excel('Animal.xlsx', 'Sheet1', index_col = 0 , na_values = ['NA'])\n",
    "#df_Animal2 = pd.read_excel('Animal.xlsx', 'Sheet1', na_values = ['NA'])\n",
    "df_Animal2"
   ]
  },
  {
   "cell_type": "markdown",
   "id": "44a6d142",
   "metadata": {},
   "source": [
    "# Visualization in Pandas"
   ]
  },
  {
   "cell_type": "code",
   "execution_count": 166,
   "id": "a6d688e3",
   "metadata": {},
   "outputs": [],
   "source": [
    "#Series and DataFrame Line chart\n",
    "import numpy as np\n",
    "%matplotlib inline #Just to print plot in the same page of Jupiter Notebook, for diffrent IDE like Spider it's not required"
   ]
  },
  {
   "cell_type": "code",
   "execution_count": 174,
   "id": "20d0776b",
   "metadata": {},
   "outputs": [
    {
     "data": {
      "text/plain": [
       "<AxesSubplot:>"
      ]
     },
     "execution_count": 174,
     "metadata": {},
     "output_type": "execute_result"
    },
    {
     "data": {
      "image/png": "[encoded data removed]",
      "text/plain": [
       "<Figure size 432x288 with 1 Axes>"
      ]
     },
     "metadata": {
      "needs_background": "light"
     },
     "output_type": "display_data"
    }
   ],
   "source": [
    "#Creating a time series data\n",
    "\n",
    "ts = pd.Series(np.random.randn(50), index = pd.date_range('today', periods = 50))\n",
    "ts = ts.cumsum() #cumulative sum\n",
    "ts.plot()"
   ]
  },
  {
   "cell_type": "code",
   "execution_count": 171,
   "id": "c1d676e8",
   "metadata": {},
   "outputs": [
    {
     "data": {
      "text/plain": [
       "array([ 1.32034910e+00, -6.73747950e-01,  4.94889587e-01,  7.27228861e-01,\n",
       "       -1.07063269e+00, -5.17716338e-01,  1.41642766e+00,  1.36867248e+00,\n",
       "        1.15353875e+00, -1.56262439e-01, -2.17067222e+00,  7.95657197e-01,\n",
       "        1.00549448e-01,  3.54043948e-02, -6.17328431e-01, -5.65044408e-01,\n",
       "        5.72411416e-01, -1.29760658e+00,  1.56793616e-01,  9.17947992e-01,\n",
       "        7.27067843e-01,  1.08504943e+00,  3.16300296e-01,  1.53557663e+00,\n",
       "       -1.14958113e+00,  5.68311080e-01, -1.54902370e+00, -7.20792091e-01,\n",
       "        1.49691853e+00, -1.44713696e+00, -2.25663922e+00, -1.89213927e+00,\n",
       "        1.40898379e+00, -7.73189865e-01, -9.56455699e-01, -9.41393601e-01,\n",
       "        4.56783734e-01,  1.18970174e+00, -2.92731545e-02,  5.68539494e-01,\n",
       "       -8.13024104e-01, -2.13493597e-01,  5.69235712e-01, -9.31981452e-01,\n",
       "        2.40011042e-01,  1.96302030e-03,  5.62419767e-01, -1.08131392e+00,\n",
       "       -1.63615790e-01,  1.86723405e-01])"
      ]
     },
     "execution_count": 171,
     "metadata": {},
     "output_type": "execute_result"
    }
   ],
   "source": [
    "np.random.randn(50)"
   ]
  },
  {
   "cell_type": "code",
   "execution_count": 172,
   "id": "7c46fb6d",
   "metadata": {},
   "outputs": [
    {
     "data": {
      "text/plain": [
       "DatetimeIndex(['2023-02-13 05:14:30.330844', '2023-02-14 05:14:30.330844',\n",
       "               '2023-02-15 05:14:30.330844', '2023-02-16 05:14:30.330844',\n",
       "               '2023-02-17 05:14:30.330844', '2023-02-18 05:14:30.330844',\n",
       "               '2023-02-19 05:14:30.330844', '2023-02-20 05:14:30.330844',\n",
       "               '2023-02-21 05:14:30.330844', '2023-02-22 05:14:30.330844',\n",
       "               '2023-02-23 05:14:30.330844', '2023-02-24 05:14:30.330844',\n",
       "               '2023-02-25 05:14:30.330844', '2023-02-26 05:14:30.330844',\n",
       "               '2023-02-27 05:14:30.330844', '2023-02-28 05:14:30.330844',\n",
       "               '2023-03-01 05:14:30.330844', '2023-03-02 05:14:30.330844',\n",
       "               '2023-03-03 05:14:30.330844', '2023-03-04 05:14:30.330844',\n",
       "               '2023-03-05 05:14:30.330844', '2023-03-06 05:14:30.330844',\n",
       "               '2023-03-07 05:14:30.330844', '2023-03-08 05:14:30.330844',\n",
       "               '2023-03-09 05:14:30.330844', '2023-03-10 05:14:30.330844',\n",
       "               '2023-03-11 05:14:30.330844', '2023-03-12 05:14:30.330844',\n",
       "               '2023-03-13 05:14:30.330844', '2023-03-14 05:14:30.330844',\n",
       "               '2023-03-15 05:14:30.330844', '2023-03-16 05:14:30.330844',\n",
       "               '2023-03-17 05:14:30.330844', '2023-03-18 05:14:30.330844',\n",
       "               '2023-03-19 05:14:30.330844', '2023-03-20 05:14:30.330844',\n",
       "               '2023-03-21 05:14:30.330844', '2023-03-22 05:14:30.330844',\n",
       "               '2023-03-23 05:14:30.330844', '2023-03-24 05:14:30.330844',\n",
       "               '2023-03-25 05:14:30.330844', '2023-03-26 05:14:30.330844',\n",
       "               '2023-03-27 05:14:30.330844', '2023-03-28 05:14:30.330844',\n",
       "               '2023-03-29 05:14:30.330844', '2023-03-30 05:14:30.330844',\n",
       "               '2023-03-31 05:14:30.330844', '2023-04-01 05:14:30.330844',\n",
       "               '2023-04-02 05:14:30.330844', '2023-04-03 05:14:30.330844'],\n",
       "              dtype='datetime64[ns]', freq='D')"
      ]
     },
     "execution_count": 172,
     "metadata": {},
     "output_type": "execute_result"
    }
   ],
   "source": [
    "pd.date_range('today', periods = 50)"
   ]
  },
  {
   "cell_type": "code",
   "execution_count": 177,
   "id": "a88fd42d",
   "metadata": {},
   "outputs": [
    {
     "data": {
      "text/plain": [
       "<AxesSubplot:>"
      ]
     },
     "execution_count": 177,
     "metadata": {},
     "output_type": "execute_result"
    },
    {
     "data": {
      "image/png": "[encoded data removed]",
      "text/plain": [
       "<Figure size 432x288 with 1 Axes>"
      ]
     },
     "metadata": {
      "needs_background": "light"
     },
     "output_type": "display_data"
    }
   ],
   "source": [
    "df = pd.DataFrame(np.random.randn(50,4), index = ts.index, columns = ['A','B','X','Y'])\n",
    "df = df.cumsum()\n",
    "df.plot()"
   ]
  }
 ],
 "metadata": {
  "kernelspec": {
   "display_name": "Python 3 (ipykernel)",
   "language": "python",
   "name": "python3"
  },
  "language_info": {
   "codemirror_mode": {
    "name": "ipython",
    "version": 3
   },
   "file_extension": ".py",
   "mimetype": "text/x-python",
   "name": "python",
   "nbconvert_exporter": "python",
   "pygments_lexer": "ipython3",
   "version": "3.9.7"
  }
 },
 "nbformat": 4,
 "nbformat_minor": 5
}
