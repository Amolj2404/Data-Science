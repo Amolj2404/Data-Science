{
 "cells": [
  {
   "cell_type": "markdown",
   "id": "55949902",
   "metadata": {},
   "source": [
    "Polynomial Regression is a form of linear regression in which the relationship between the independent variable x and dependent variable y is modeled as an nth-degree polynomial. Polynomial regression fits a nonlinear relationship between the value of x and the corresponding conditional mean of y, denoted E(y | x)"
   ]
  },
  {
   "cell_type": "markdown",
   "id": "153f24ed",
   "metadata": {},
   "source": [
    "There are some relationships that a researcher will hypothesize is curvilinear. Clearly, such types of cases will include a polynomial term."
   ]
  },
  {
   "cell_type": "markdown",
   "id": "a2a9eff5",
   "metadata": {},
   "source": [
    "The reason behind the vast use cases of the polynomial regression is that approximately all of the real-world data is non-linear in nature and hence when we fit a non-linear model on the data or a curvilinear regression line then the results that we obtain are far better than what we can achieve with the standard linear regression."
   ]
  },
  {
   "cell_type": "markdown",
   "id": "4769a64d",
   "metadata": {},
   "source": [
    "In simple linear regression, we used the following equation –  y = a + bx + e"
   ]
  },
  {
   "cell_type": "markdown",
   "id": "838c3dcb",
   "metadata": {},
   "source": [
    "In many cases, this linear model will not work out For example if we analyze the production of chemical synthesis in terms of the temperature at which the synthesis takes place in such cases we use a quadratic model \n",
    "\n",
    "y = a + b1x + b22 + e"
   ]
  },
  {
   "cell_type": "markdown",
   "id": "d8a41c3f",
   "metadata": {},
   "source": [
    "Here y is the dependent variable on x, a is the y-intercept and e is the error rate. In general, we can model it for the nth value. \n",
    "\n",
    "y = a + b1x + b2x2 +....+ bnxn"
   ]
  },
  {
   "cell_type": "code",
   "execution_count": 17,
   "id": "315d450e",
   "metadata": {},
   "outputs": [
    {
     "data": {
      "text/html": [
       "<div>\n",
       "<style scoped>\n",
       "    .dataframe tbody tr th:only-of-type {\n",
       "        vertical-align: middle;\n",
       "    }\n",
       "\n",
       "    .dataframe tbody tr th {\n",
       "        vertical-align: top;\n",
       "    }\n",
       "\n",
       "    .dataframe thead th {\n",
       "        text-align: right;\n",
       "    }\n",
       "</style>\n",
       "<table border=\"1\" class=\"dataframe\">\n",
       "  <thead>\n",
       "    <tr style=\"text-align: right;\">\n",
       "      <th></th>\n",
       "      <th>sno</th>\n",
       "      <th>Temperature</th>\n",
       "      <th>Pressure</th>\n",
       "    </tr>\n",
       "  </thead>\n",
       "  <tbody>\n",
       "    <tr>\n",
       "      <th>0</th>\n",
       "      <td>1</td>\n",
       "      <td>0</td>\n",
       "      <td>0.0002</td>\n",
       "    </tr>\n",
       "    <tr>\n",
       "      <th>1</th>\n",
       "      <td>2</td>\n",
       "      <td>20</td>\n",
       "      <td>0.0012</td>\n",
       "    </tr>\n",
       "    <tr>\n",
       "      <th>2</th>\n",
       "      <td>3</td>\n",
       "      <td>40</td>\n",
       "      <td>0.0060</td>\n",
       "    </tr>\n",
       "    <tr>\n",
       "      <th>3</th>\n",
       "      <td>4</td>\n",
       "      <td>60</td>\n",
       "      <td>0.0300</td>\n",
       "    </tr>\n",
       "    <tr>\n",
       "      <th>4</th>\n",
       "      <td>5</td>\n",
       "      <td>80</td>\n",
       "      <td>0.0900</td>\n",
       "    </tr>\n",
       "    <tr>\n",
       "      <th>5</th>\n",
       "      <td>6</td>\n",
       "      <td>100</td>\n",
       "      <td>0.2700</td>\n",
       "    </tr>\n",
       "  </tbody>\n",
       "</table>\n",
       "</div>"
      ],
      "text/plain": [
       "   sno  Temperature  Pressure\n",
       "0    1            0    0.0002\n",
       "1    2           20    0.0012\n",
       "2    3           40    0.0060\n",
       "3    4           60    0.0300\n",
       "4    5           80    0.0900\n",
       "5    6          100    0.2700"
      ]
     },
     "execution_count": 17,
     "metadata": {},
     "output_type": "execute_result"
    }
   ],
   "source": [
    "# Importing the libraries\n",
    "import numpy as np\n",
    "import matplotlib.pyplot as plt\n",
    "import pandas as pd\n",
    "\n",
    "# Importing the dataset\n",
    "datas = pd.read_csv('Datasets\\data.csv')\n",
    "datas"
   ]
  },
  {
   "cell_type": "markdown",
   "id": "02cdab72",
   "metadata": {},
   "source": [
    "Our feature variable that is X will contain the Column between 1st and the target variable that is y will contain the 2nd column. "
   ]
  },
  {
   "cell_type": "code",
   "execution_count": 18,
   "id": "93925422",
   "metadata": {},
   "outputs": [],
   "source": [
    "X = datas.iloc[:, 1:2].values\n",
    "y = datas.iloc[:, 2].values"
   ]
  },
  {
   "cell_type": "markdown",
   "id": "117588c9",
   "metadata": {},
   "source": [
    "Now let’s fit a linear regression model on the data at hand."
   ]
  },
  {
   "cell_type": "code",
   "execution_count": 19,
   "id": "428c5ba0",
   "metadata": {},
   "outputs": [
    {
     "data": {
      "text/plain": [
       "LinearRegression()"
      ]
     },
     "execution_count": 19,
     "metadata": {},
     "output_type": "execute_result"
    }
   ],
   "source": [
    "# Features and the target variables\n",
    "X = datas.iloc[:, 1:2].values\n",
    "y = datas.iloc[:, 2].values\n",
    "\n",
    "# Fitting Linear Regression to the dataset\n",
    "from sklearn.linear_model import LinearRegression\n",
    "\n",
    "lin = LinearRegression()\n",
    "\n",
    "lin.fit(X, y)"
   ]
  },
  {
   "cell_type": "markdown",
   "id": "639a02df",
   "metadata": {},
   "source": [
    "Fitting the Polynomial Regression model on two components X and y. "
   ]
  },
  {
   "cell_type": "code",
   "execution_count": 47,
   "id": "2299964f",
   "metadata": {},
   "outputs": [
    {
     "data": {
      "text/plain": [
       "LinearRegression()"
      ]
     },
     "execution_count": 47,
     "metadata": {},
     "output_type": "execute_result"
    }
   ],
   "source": [
    "# Fitting Polynomial Regression to the dataset\n",
    "from sklearn.preprocessing import PolynomialFeatures\n",
    "\n",
    "poly = PolynomialFeatures(degree=7) \n",
    "\n",
    "#try values 2, 3, 4 ,5, 6, 7 etc to see the effect on the plot and the prediction on new value below\n",
    "\n",
    "X_poly = poly.fit_transform(X)\n",
    "\n",
    "poly.fit(X_poly, y)\n",
    "lin2 = LinearRegression()\n",
    "lin2.fit(X_poly, y)"
   ]
  },
  {
   "cell_type": "markdown",
   "id": "5b8470ff",
   "metadata": {},
   "source": [
    "In this step, we are Visualising the Linear Regression results using a scatter plot."
   ]
  },
  {
   "cell_type": "code",
   "execution_count": 48,
   "id": "b12e278f",
   "metadata": {},
   "outputs": [
    {
     "data": {
      "image/png": "[encoded data removed]",
      "text/plain": [
       "<Figure size 432x288 with 1 Axes>"
      ]
     },
     "metadata": {
      "needs_background": "light"
     },
     "output_type": "display_data"
    }
   ],
   "source": [
    "# Visualising the Linear Regression results\n",
    "plt.scatter(X, y, color='blue')\n",
    "\n",
    "plt.plot(X, lin.predict(X), color='red')\n",
    "plt.title('Linear Regression')\n",
    "plt.xlabel('Temperature')\n",
    "plt.ylabel('Pressure')\n",
    "\n",
    "plt.show()"
   ]
  },
  {
   "cell_type": "markdown",
   "id": "c4180a78",
   "metadata": {},
   "source": [
    "Visualize the Polynomial Regression results using a scatter plot."
   ]
  },
  {
   "cell_type": "code",
   "execution_count": 49,
   "id": "d729af62",
   "metadata": {},
   "outputs": [
    {
     "data": {
      "image/png": "[encoded data removed]",
      "text/plain": [
       "<Figure size 432x288 with 1 Axes>"
      ]
     },
     "metadata": {
      "needs_background": "light"
     },
     "output_type": "display_data"
    }
   ],
   "source": [
    "# Visualising the Polynomial Regression results\n",
    "plt.scatter(X, y, color='blue')\n",
    "\n",
    "plt.plot(X, lin2.predict(poly.fit_transform(X)), color='red')\n",
    "plt.title('Polynomial Regression')\n",
    "plt.xlabel('Temperature')\n",
    "plt.ylabel('Pressure')\n",
    "\n",
    "plt.show()"
   ]
  },
  {
   "cell_type": "markdown",
   "id": "7407791f",
   "metadata": {},
   "source": [
    "Predict new results with both Linear and Polynomial Regression. Note that the input variable must be in a Numpy 2D array."
   ]
  },
  {
   "cell_type": "code",
   "execution_count": 50,
   "id": "8c03c925",
   "metadata": {},
   "outputs": [
    {
     "data": {
      "text/plain": [
       "array([0.20675333])"
      ]
     },
     "execution_count": 50,
     "metadata": {},
     "output_type": "execute_result"
    }
   ],
   "source": [
    "# Predicting a new result with Linear Regression\n",
    "# after converting predict variable to 2D array\n",
    "\n",
    "pred = 110.0\n",
    "predarray = np.array([[pred]])\n",
    "lin.predict(predarray)"
   ]
  },
  {
   "cell_type": "code",
   "execution_count": 51,
   "id": "e5c716db",
   "metadata": {},
   "outputs": [
    {
     "data": {
      "text/plain": [
       "array([0.53592125])"
      ]
     },
     "execution_count": 51,
     "metadata": {},
     "output_type": "execute_result"
    }
   ],
   "source": [
    "# Predicting a new result with Polynomial Regression\n",
    "# after converting predict variable to 2D array\n",
    "pred2 = 110.0\n",
    "pred2array = np.array([[pred2]])\n",
    "lin2.predict(poly.fit_transform(pred2array))"
   ]
  },
  {
   "cell_type": "markdown",
   "id": "890d8c12",
   "metadata": {},
   "source": [
    "# Overfitting Vs Under-fitting\n",
    "\n",
    "While dealing with the polynomial regression one thing that we face is the problem of overfitting this happens because while we increase the order of the polynomial regression to achieve better and better performance model gets overfit on the data and does not perform on the new data points.\n",
    "\n",
    "Due to this reason only while using the polynomial regression, do we try to penalize the weights of the model to regularize the effect of the overfitting problem. Regularization techniques like Lasso regression and Ridge regression methodologies are used whenever we deal with a situation in which the model may overfit the data at hand."
   ]
  },
  {
   "cell_type": "markdown",
   "id": "4aa2890e",
   "metadata": {},
   "source": [
    "# Bias Vs Variance Tradeoff\n",
    "\n",
    "This technique is the generalization of the approach that is used to avoid the problem of overfitting and underfitting. Here as well this technique helps us to avoid the problem of overfitting by helping us select the appropriate value for the degree of the polynomial we are trying to fit our data on. For example, this is achieved when after increasing the degree of polynomial after a certain level the gap between the training and the validation metrics starts increasing."
   ]
  },
  {
   "cell_type": "markdown",
   "id": "03be0977",
   "metadata": {},
   "source": [
    "# Advantages of using Polynomial Regression\n",
    "\n",
    "1. A broad range of functions can be fit under it.\n",
    "\n",
    "2. Polynomial basically fits a wide range of curvatures.\n",
    "\n",
    "3. Polynomial provides the best approximation of the relationship between dependent and independent variables.\n",
    "\n",
    "# Disadvantages of using Polynomial Regression \n",
    "\n",
    "1. These are too sensitive to outliers.\n",
    "\n",
    "2. The presence of one or two outliers in the data can seriously affect the results of nonlinear analysis.\n",
    "\n",
    "3. In addition, there are unfortunately fewer model validation tools for the detection of outliers in nonlinear regression than there are for linear regression."
   ]
  },
  {
   "cell_type": "code",
   "execution_count": null,
   "id": "ca82a0e5",
   "metadata": {},
   "outputs": [],
   "source": []
  }
 ],
 "metadata": {
  "kernelspec": {
   "display_name": "Python 3 (ipykernel)",
   "language": "python",
   "name": "python3"
  },
  "language_info": {
   "codemirror_mode": {
    "name": "ipython",
    "version": 3
   },
   "file_extension": ".py",
   "mimetype": "text/x-python",
   "name": "python",
   "nbconvert_exporter": "python",
   "pygments_lexer": "ipython3",
   "version": "3.9.7"
  }
 },
 "nbformat": 4,
 "nbformat_minor": 5
}
