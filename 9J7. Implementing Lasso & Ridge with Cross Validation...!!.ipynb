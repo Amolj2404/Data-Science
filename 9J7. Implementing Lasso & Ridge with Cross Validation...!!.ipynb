{
 "cells": [
  {
   "cell_type": "markdown",
   "id": "92f89b45",
   "metadata": {},
   "source": [
    "Step 1: Importing the required libraries"
   ]
  },
  {
   "cell_type": "code",
   "execution_count": 2,
   "id": "8f5e056a",
   "metadata": {},
   "outputs": [],
   "source": [
    "import pandas as pd\n",
    "import numpy as np\n",
    "import matplotlib.pyplot as plt\n",
    "from sklearn.linear_model import LinearRegression, Ridge, Lasso # For model bulding\n",
    "from sklearn.model_selection import train_test_split, cross_val_score # For splitting and cross validating\n",
    "from statistics import mean"
   ]
  },
  {
   "cell_type": "markdown",
   "id": "0d698665",
   "metadata": {},
   "source": [
    "Step 2: Loading and cleaning the Data"
   ]
  },
  {
   "cell_type": "code",
   "execution_count": 4,
   "id": "180b5bf1",
   "metadata": {},
   "outputs": [],
   "source": [
    "# Loading the data into a Pandas DataFrame\n",
    "data = pd.read_csv('Datasets\\kc_house_data.csv')\n",
    "\n",
    "# Dropping the numerically non-sensical variables\n",
    "dropColumns = ['id', 'date', 'zipcode']\n",
    "data = data.drop(dropColumns, axis = 1)\n",
    "\n",
    "# Separating the dependent and independent variables\n",
    "y = data['price']\n",
    "X = data.drop('price', axis = 1)\n",
    "\n",
    "# Dividing the data into training and testing set\n",
    "X_train, X_test, y_train, y_test = train_test_split(X, y, test_size = 0.25)"
   ]
  },
  {
   "cell_type": "markdown",
   "id": "c9c1352d",
   "metadata": {},
   "source": [
    "Step 3: Building and evaluating the different models"
   ]
  },
  {
   "cell_type": "markdown",
   "id": "19792609",
   "metadata": {},
   "source": [
    "a) Linear Regression:"
   ]
  },
  {
   "cell_type": "code",
   "execution_count": 21,
   "id": "234437c3",
   "metadata": {},
   "outputs": [
    {
     "name": "stdout",
     "output_type": "stream",
     "text": [
      "0.6880374419853503\n"
     ]
    }
   ],
   "source": [
    "# Building and fitting the Linear Regression model\n",
    "linearModel = LinearRegression()\n",
    "linearModel.fit(X_train, y_train)\n",
    "\n",
    "# Evaluating the Linear Regression model\n",
    "print(linearModel.score(X_test, y_test))"
   ]
  },
  {
   "cell_type": "markdown",
   "id": "fd0d5718",
   "metadata": {},
   "source": [
    "b) Ridge (L2) Regression:"
   ]
  },
  {
   "cell_type": "code",
   "execution_count": 22,
   "id": "0a19aeea",
   "metadata": {},
   "outputs": [
    {
     "name": "stdout",
     "output_type": "stream",
     "text": [
      "0.25 : 69.09106289827389\n",
      "0.5 : 69.0912387140147\n",
      "0.75 : 69.09139481819095\n",
      "1.0 : 69.09153141333407\n",
      "1.25 : 69.09164869965377\n",
      "1.5 : 69.09174687506959\n",
      "1.75 : 69.09182613524133\n",
      "2.0 : 69.09188667359876\n"
     ]
    }
   ],
   "source": [
    "# List to maintain the different cross-validation scores\n",
    "cross_val_scores_ridge = []\n",
    "\n",
    "# List to maintain the different values of alpha\n",
    "alpha = []\n",
    "\n",
    "# Loop to compute the different values of cross-validation scores\n",
    "for i in range(1, 9):  # Range 1 to 9 means we are building 8 models\n",
    "    \n",
    "    ridgeModel = Ridge(alpha = i * 0.25) # lambda the tuning parameter is set to some very low value\n",
    "    \n",
    "    ridgeModel.fit(X_train, y_train)     # Model is being fitted on every itearation of for loop\n",
    "    \n",
    "    scores = cross_val_score(ridgeModel, X, y, cv = 10) # every model is 10 times cross validated and\n",
    "    \n",
    "    avg_cross_val_score = mean(scores)*100              # Avg score is calculated every time for those 8 models\n",
    "    \n",
    "    cross_val_scores_ridge.append(avg_cross_val_score)  # Avg scores of the model appended in list\n",
    "    \n",
    "    alpha.append(i * 0.25) # Lambda aka alpha appended for printing purpose below in next for loop\n",
    "\n",
    "# Loop to print the different values of cross-validation scores\n",
    "for i in range(0, len(alpha)):\n",
    "    print(str(alpha[i])+' : '+str(cross_val_scores_ridge[i]))"
   ]
  },
  {
   "cell_type": "raw",
   "id": "51073829",
   "metadata": {},
   "source": [
    "From the above output, we can conclude that the best value of alpha for the data is 2."
   ]
  },
  {
   "cell_type": "code",
   "execution_count": 5,
   "id": "75d483be",
   "metadata": {},
   "outputs": [
    {
     "name": "stdout",
     "output_type": "stream",
     "text": [
      "0.6838795152055821\n"
     ]
    }
   ],
   "source": [
    "# Building and fitting the Ridge Regression model\n",
    "ridgeModelChosen = Ridge(alpha = 2)\n",
    "ridgeModelChosen.fit(X_train, y_train)\n",
    "\n",
    "# Evaluating the Ridge Regression model\n",
    "print(ridgeModelChosen.score(X_test, y_test))"
   ]
  },
  {
   "cell_type": "markdown",
   "id": "57de0fd1",
   "metadata": {},
   "source": [
    "You can easily see the difference there for alpha value 2 because above we have used the 10 fold CV and taken the avg of scores just to estimate the better alpha for this data for using Ridge"
   ]
  },
  {
   "cell_type": "markdown",
   "id": "dc050673",
   "metadata": {},
   "source": [
    "# So, lets understand cross validation"
   ]
  },
  {
   "cell_type": "markdown",
   "id": "f13fc004",
   "metadata": {},
   "source": [
    "In machine learning, we couldn’t fit the model on the training data and can’t say that the model will work accurately for the real data. For this, we must assure that our model got the correct patterns from the data, and it is not getting up too much noise. For this purpose, we use the cross-validation technique.\n",
    "\n",
    "Cross validation is a technique used in machine learning to evaluate the performance of a model on unseen data. It involves dividing the available data into multiple folds or subsets, using one of these folds as a validation set, and training the model on the remaining folds. This process is repeated multiple times, each time using a different fold as the validation set. Finally, the results from each validation step are averaged to produce a more robust estimate of the model’s performance.\n",
    "\n",
    "The main purpose of cross validation is to prevent overfitting, which occurs when a model is trained too well on the training data and performs poorly on new, unseen data. By evaluating the model on multiple validation sets, cross validation provides a more realistic estimate of the model’s generalization performance, i.e., its ability to perform well on new, unseen data.\n",
    "\n",
    "There are several types of cross validation techniques, including k-fold cross validation, leave-one-out cross validation, and stratified cross validation. The choice of technique depends on the size and nature of the data, as well as the specific requirements of the modeling problem."
   ]
  },
  {
   "cell_type": "markdown",
   "id": "90326022",
   "metadata": {},
   "source": [
    "In summary, cross validation is an important step in the machine learning process and helps to ensure that the model selected for deployment is robust and generalizes well to new data."
   ]
  },
  {
   "cell_type": "markdown",
   "id": "d1c1c1b3",
   "metadata": {},
   "source": [
    "Cross-Validation\n",
    "\n",
    "Cross-validation is a technique in which we train our model using the subset of the data-set and then evaluate using the complementary subset of the data-set. The three steps involved in cross-validation are as follows :\n",
    "\n",
    "Reserve some portion of sample data-set.\n",
    "Using the rest data-set train the model.\n",
    "Test the model using the reserve portion of the data-set."
   ]
  },
  {
   "cell_type": "markdown",
   "id": "4f2c36a9",
   "metadata": {},
   "source": [
    "# Comparison of train/test split to cross-validation\n",
    "\n",
    "Advantages of train/test split:\n",
    "\n",
    "1. This runs K times faster than Leave One Out cross-validation because K-fold cross-validation repeats the train/test split K-times.\n",
    "2. Simpler to examine the detailed results of the testing process.\n",
    "\n",
    "Advantages of cross-validation:\n",
    "\n",
    "1. More accurate estimate of out-of-sample accuracy.\n",
    "2. More “efficient” use of data as every observation is used for both training and testing."
   ]
  },
  {
   "cell_type": "markdown",
   "id": "85fdbd95",
   "metadata": {},
   "source": [
    "# For more information we can see the documentation for it in sklearn on following link :\n",
    "\n",
    "https://scikit-learn.org/stable/modules/generated/sklearn.model_selection.cross_val_score.html"
   ]
  },
  {
   "cell_type": "markdown",
   "id": "d13844b5",
   "metadata": {},
   "source": [
    "Now let's continue with\n",
    "\n",
    "c) Lasso (L1) Regression:"
   ]
  },
  {
   "cell_type": "code",
   "execution_count": 31,
   "id": "f6164447",
   "metadata": {},
   "outputs": [
    {
     "name": "stderr",
     "output_type": "stream",
     "text": [
      "C:\\Users\\Pranav\\anaconda3\\lib\\site-packages\\sklearn\\linear_model\\_coordinate_descent.py:530: ConvergenceWarning: Objective did not converge. You might want to increase the number of iterations. Duality gap: 296791660572309.3, tolerance: 215752051746.79382\n",
      "  model = cd_fast.enet_coordinate_descent(\n",
      "C:\\Users\\Pranav\\anaconda3\\lib\\site-packages\\sklearn\\linear_model\\_coordinate_descent.py:530: ConvergenceWarning: Objective did not converge. You might want to increase the number of iterations. Duality gap: 362113978957932.4, tolerance: 260338435647.3446\n",
      "  model = cd_fast.enet_coordinate_descent(\n",
      "C:\\Users\\Pranav\\anaconda3\\lib\\site-packages\\sklearn\\linear_model\\_coordinate_descent.py:530: ConvergenceWarning: Objective did not converge. You might want to increase the number of iterations. Duality gap: 357023115012924.44, tolerance: 257434552717.56076\n",
      "  model = cd_fast.enet_coordinate_descent(\n",
      "C:\\Users\\Pranav\\anaconda3\\lib\\site-packages\\sklearn\\linear_model\\_coordinate_descent.py:530: ConvergenceWarning: Objective did not converge. You might want to increase the number of iterations. Duality gap: 368067567385239.75, tolerance: 266518103189.1452\n",
      "  model = cd_fast.enet_coordinate_descent(\n",
      "C:\\Users\\Pranav\\anaconda3\\lib\\site-packages\\sklearn\\linear_model\\_coordinate_descent.py:530: ConvergenceWarning: Objective did not converge. You might want to increase the number of iterations. Duality gap: 352044339503871.3, tolerance: 256046259578.3132\n",
      "  model = cd_fast.enet_coordinate_descent(\n",
      "C:\\Users\\Pranav\\anaconda3\\lib\\site-packages\\sklearn\\linear_model\\_coordinate_descent.py:530: ConvergenceWarning: Objective did not converge. You might want to increase the number of iterations. Duality gap: 368900601397713.0, tolerance: 267781267096.50986\n",
      "  model = cd_fast.enet_coordinate_descent(\n",
      "C:\\Users\\Pranav\\anaconda3\\lib\\site-packages\\sklearn\\linear_model\\_coordinate_descent.py:530: ConvergenceWarning: Objective did not converge. You might want to increase the number of iterations. Duality gap: 366915364896832.94, tolerance: 264881311650.3594\n",
      "  model = cd_fast.enet_coordinate_descent(\n",
      "C:\\Users\\Pranav\\anaconda3\\lib\\site-packages\\sklearn\\linear_model\\_coordinate_descent.py:530: ConvergenceWarning: Objective did not converge. You might want to increase the number of iterations. Duality gap: 369576584076413.1, tolerance: 265143078378.3168\n",
      "  model = cd_fast.enet_coordinate_descent(\n",
      "C:\\Users\\Pranav\\anaconda3\\lib\\site-packages\\sklearn\\linear_model\\_coordinate_descent.py:530: ConvergenceWarning: Objective did not converge. You might want to increase the number of iterations. Duality gap: 366263958715950.4, tolerance: 263243468998.86066\n",
      "  model = cd_fast.enet_coordinate_descent(\n",
      "C:\\Users\\Pranav\\anaconda3\\lib\\site-packages\\sklearn\\linear_model\\_coordinate_descent.py:530: ConvergenceWarning: Objective did not converge. You might want to increase the number of iterations. Duality gap: 364961218254490.8, tolerance: 262486432542.90622\n",
      "  model = cd_fast.enet_coordinate_descent(\n",
      "C:\\Users\\Pranav\\anaconda3\\lib\\site-packages\\sklearn\\linear_model\\_coordinate_descent.py:530: ConvergenceWarning: Objective did not converge. You might want to increase the number of iterations. Duality gap: 362244989546966.1, tolerance: 261011161690.6104\n",
      "  model = cd_fast.enet_coordinate_descent(\n",
      "C:\\Users\\Pranav\\anaconda3\\lib\\site-packages\\sklearn\\linear_model\\_coordinate_descent.py:530: ConvergenceWarning: Objective did not converge. You might want to increase the number of iterations. Duality gap: 296797556071440.75, tolerance: 215752051746.79382\n",
      "  model = cd_fast.enet_coordinate_descent(\n",
      "C:\\Users\\Pranav\\anaconda3\\lib\\site-packages\\sklearn\\linear_model\\_coordinate_descent.py:530: ConvergenceWarning: Objective did not converge. You might want to increase the number of iterations. Duality gap: 362120956407408.2, tolerance: 260338435647.3446\n",
      "  model = cd_fast.enet_coordinate_descent(\n",
      "C:\\Users\\Pranav\\anaconda3\\lib\\site-packages\\sklearn\\linear_model\\_coordinate_descent.py:530: ConvergenceWarning: Objective did not converge. You might want to increase the number of iterations. Duality gap: 357030042946483.94, tolerance: 257434552717.56076\n",
      "  model = cd_fast.enet_coordinate_descent(\n",
      "C:\\Users\\Pranav\\anaconda3\\lib\\site-packages\\sklearn\\linear_model\\_coordinate_descent.py:530: ConvergenceWarning: Objective did not converge. You might want to increase the number of iterations. Duality gap: 368074737450404.1, tolerance: 266518103189.1452\n",
      "  model = cd_fast.enet_coordinate_descent(\n",
      "C:\\Users\\Pranav\\anaconda3\\lib\\site-packages\\sklearn\\linear_model\\_coordinate_descent.py:530: ConvergenceWarning: Objective did not converge. You might want to increase the number of iterations. Duality gap: 352051376025099.4, tolerance: 256046259578.3132\n",
      "  model = cd_fast.enet_coordinate_descent(\n",
      "C:\\Users\\Pranav\\anaconda3\\lib\\site-packages\\sklearn\\linear_model\\_coordinate_descent.py:530: ConvergenceWarning: Objective did not converge. You might want to increase the number of iterations. Duality gap: 368907703310254.2, tolerance: 267781267096.50986\n",
      "  model = cd_fast.enet_coordinate_descent(\n",
      "C:\\Users\\Pranav\\anaconda3\\lib\\site-packages\\sklearn\\linear_model\\_coordinate_descent.py:530: ConvergenceWarning: Objective did not converge. You might want to increase the number of iterations. Duality gap: 366922475666310.5, tolerance: 264881311650.3594\n",
      "  model = cd_fast.enet_coordinate_descent(\n",
      "C:\\Users\\Pranav\\anaconda3\\lib\\site-packages\\sklearn\\linear_model\\_coordinate_descent.py:530: ConvergenceWarning: Objective did not converge. You might want to increase the number of iterations. Duality gap: 369583756178787.06, tolerance: 265143078378.3168\n",
      "  model = cd_fast.enet_coordinate_descent(\n",
      "C:\\Users\\Pranav\\anaconda3\\lib\\site-packages\\sklearn\\linear_model\\_coordinate_descent.py:530: ConvergenceWarning: Objective did not converge. You might want to increase the number of iterations. Duality gap: 366271174627732.56, tolerance: 263243468998.86066\n",
      "  model = cd_fast.enet_coordinate_descent(\n",
      "C:\\Users\\Pranav\\anaconda3\\lib\\site-packages\\sklearn\\linear_model\\_coordinate_descent.py:530: ConvergenceWarning: Objective did not converge. You might want to increase the number of iterations. Duality gap: 364968413301717.7, tolerance: 262486432542.90622\n",
      "  model = cd_fast.enet_coordinate_descent(\n",
      "C:\\Users\\Pranav\\anaconda3\\lib\\site-packages\\sklearn\\linear_model\\_coordinate_descent.py:530: ConvergenceWarning: Objective did not converge. You might want to increase the number of iterations. Duality gap: 362251801818223.44, tolerance: 261011161690.6104\n",
      "  model = cd_fast.enet_coordinate_descent(\n",
      "C:\\Users\\Pranav\\anaconda3\\lib\\site-packages\\sklearn\\linear_model\\_coordinate_descent.py:530: ConvergenceWarning: Objective did not converge. You might want to increase the number of iterations. Duality gap: 296803451657499.94, tolerance: 215752051746.79382\n",
      "  model = cd_fast.enet_coordinate_descent(\n",
      "C:\\Users\\Pranav\\anaconda3\\lib\\site-packages\\sklearn\\linear_model\\_coordinate_descent.py:530: ConvergenceWarning: Objective did not converge. You might want to increase the number of iterations. Duality gap: 362127933141914.4, tolerance: 260338435647.3446\n",
      "  model = cd_fast.enet_coordinate_descent(\n",
      "C:\\Users\\Pranav\\anaconda3\\lib\\site-packages\\sklearn\\linear_model\\_coordinate_descent.py:530: ConvergenceWarning: Objective did not converge. You might want to increase the number of iterations. Duality gap: 357036970586264.0, tolerance: 257434552717.56076\n",
      "  model = cd_fast.enet_coordinate_descent(\n",
      "C:\\Users\\Pranav\\anaconda3\\lib\\site-packages\\sklearn\\linear_model\\_coordinate_descent.py:530: ConvergenceWarning: Objective did not converge. You might want to increase the number of iterations. Duality gap: 368081905432938.25, tolerance: 266518103189.1452\n",
      "  model = cd_fast.enet_coordinate_descent(\n",
      "C:\\Users\\Pranav\\anaconda3\\lib\\site-packages\\sklearn\\linear_model\\_coordinate_descent.py:530: ConvergenceWarning: Objective did not converge. You might want to increase the number of iterations. Duality gap: 352058411622025.9, tolerance: 256046259578.3132\n",
      "  model = cd_fast.enet_coordinate_descent(\n",
      "C:\\Users\\Pranav\\anaconda3\\lib\\site-packages\\sklearn\\linear_model\\_coordinate_descent.py:530: ConvergenceWarning: Objective did not converge. You might want to increase the number of iterations. Duality gap: 368914803978310.44, tolerance: 267781267096.50986\n",
      "  model = cd_fast.enet_coordinate_descent(\n"
     ]
    },
    {
     "name": "stderr",
     "output_type": "stream",
     "text": [
      "C:\\Users\\Pranav\\anaconda3\\lib\\site-packages\\sklearn\\linear_model\\_coordinate_descent.py:530: ConvergenceWarning: Objective did not converge. You might want to increase the number of iterations. Duality gap: 366929584135491.75, tolerance: 264881311650.3594\n",
      "  model = cd_fast.enet_coordinate_descent(\n",
      "C:\\Users\\Pranav\\anaconda3\\lib\\site-packages\\sklearn\\linear_model\\_coordinate_descent.py:530: ConvergenceWarning: Objective did not converge. You might want to increase the number of iterations. Duality gap: 369590928440900.7, tolerance: 265143078378.3168\n",
      "  model = cd_fast.enet_coordinate_descent(\n",
      "C:\\Users\\Pranav\\anaconda3\\lib\\site-packages\\sklearn\\linear_model\\_coordinate_descent.py:530: ConvergenceWarning: Objective did not converge. You might want to increase the number of iterations. Duality gap: 366278393514935.9, tolerance: 263243468998.86066\n",
      "  model = cd_fast.enet_coordinate_descent(\n",
      "C:\\Users\\Pranav\\anaconda3\\lib\\site-packages\\sklearn\\linear_model\\_coordinate_descent.py:530: ConvergenceWarning: Objective did not converge. You might want to increase the number of iterations. Duality gap: 364975609261373.56, tolerance: 262486432542.90622\n",
      "  model = cd_fast.enet_coordinate_descent(\n",
      "C:\\Users\\Pranav\\anaconda3\\lib\\site-packages\\sklearn\\linear_model\\_coordinate_descent.py:530: ConvergenceWarning: Objective did not converge. You might want to increase the number of iterations. Duality gap: 362258613634511.9, tolerance: 261011161690.6104\n",
      "  model = cd_fast.enet_coordinate_descent(\n",
      "C:\\Users\\Pranav\\anaconda3\\lib\\site-packages\\sklearn\\linear_model\\_coordinate_descent.py:530: ConvergenceWarning: Objective did not converge. You might want to increase the number of iterations. Duality gap: 296809346568858.8, tolerance: 215752051746.79382\n",
      "  model = cd_fast.enet_coordinate_descent(\n",
      "C:\\Users\\Pranav\\anaconda3\\lib\\site-packages\\sklearn\\linear_model\\_coordinate_descent.py:530: ConvergenceWarning: Objective did not converge. You might want to increase the number of iterations. Duality gap: 362134908729847.4, tolerance: 260338435647.3446\n",
      "  model = cd_fast.enet_coordinate_descent(\n",
      "C:\\Users\\Pranav\\anaconda3\\lib\\site-packages\\sklearn\\linear_model\\_coordinate_descent.py:530: ConvergenceWarning: Objective did not converge. You might want to increase the number of iterations. Duality gap: 357043897986033.44, tolerance: 257434552717.56076\n",
      "  model = cd_fast.enet_coordinate_descent(\n",
      "C:\\Users\\Pranav\\anaconda3\\lib\\site-packages\\sklearn\\linear_model\\_coordinate_descent.py:530: ConvergenceWarning: Objective did not converge. You might want to increase the number of iterations. Duality gap: 368089073082900.5, tolerance: 266518103189.1452\n",
      "  model = cd_fast.enet_coordinate_descent(\n",
      "C:\\Users\\Pranav\\anaconda3\\lib\\site-packages\\sklearn\\linear_model\\_coordinate_descent.py:530: ConvergenceWarning: Objective did not converge. You might want to increase the number of iterations. Duality gap: 352065447105906.75, tolerance: 256046259578.3132\n",
      "  model = cd_fast.enet_coordinate_descent(\n",
      "C:\\Users\\Pranav\\anaconda3\\lib\\site-packages\\sklearn\\linear_model\\_coordinate_descent.py:530: ConvergenceWarning: Objective did not converge. You might want to increase the number of iterations. Duality gap: 368921905013762.6, tolerance: 267781267096.50986\n",
      "  model = cd_fast.enet_coordinate_descent(\n",
      "C:\\Users\\Pranav\\anaconda3\\lib\\site-packages\\sklearn\\linear_model\\_coordinate_descent.py:530: ConvergenceWarning: Objective did not converge. You might want to increase the number of iterations. Duality gap: 366936691948021.8, tolerance: 264881311650.3594\n",
      "  model = cd_fast.enet_coordinate_descent(\n",
      "C:\\Users\\Pranav\\anaconda3\\lib\\site-packages\\sklearn\\linear_model\\_coordinate_descent.py:530: ConvergenceWarning: Objective did not converge. You might want to increase the number of iterations. Duality gap: 369598099933672.75, tolerance: 265143078378.3168\n",
      "  model = cd_fast.enet_coordinate_descent(\n",
      "C:\\Users\\Pranav\\anaconda3\\lib\\site-packages\\sklearn\\linear_model\\_coordinate_descent.py:530: ConvergenceWarning: Objective did not converge. You might want to increase the number of iterations. Duality gap: 366285612312318.56, tolerance: 263243468998.86066\n",
      "  model = cd_fast.enet_coordinate_descent(\n",
      "C:\\Users\\Pranav\\anaconda3\\lib\\site-packages\\sklearn\\linear_model\\_coordinate_descent.py:530: ConvergenceWarning: Objective did not converge. You might want to increase the number of iterations. Duality gap: 364982804816045.56, tolerance: 262486432542.90622\n",
      "  model = cd_fast.enet_coordinate_descent(\n",
      "C:\\Users\\Pranav\\anaconda3\\lib\\site-packages\\sklearn\\linear_model\\_coordinate_descent.py:530: ConvergenceWarning: Objective did not converge. You might want to increase the number of iterations. Duality gap: 362265424840524.7, tolerance: 261011161690.6104\n",
      "  model = cd_fast.enet_coordinate_descent(\n",
      "C:\\Users\\Pranav\\anaconda3\\lib\\site-packages\\sklearn\\linear_model\\_coordinate_descent.py:530: ConvergenceWarning: Objective did not converge. You might want to increase the number of iterations. Duality gap: 296815241325390.5, tolerance: 215752051746.79382\n",
      "  model = cd_fast.enet_coordinate_descent(\n",
      "C:\\Users\\Pranav\\anaconda3\\lib\\site-packages\\sklearn\\linear_model\\_coordinate_descent.py:530: ConvergenceWarning: Objective did not converge. You might want to increase the number of iterations. Duality gap: 362141884374147.9, tolerance: 260338435647.3446\n",
      "  model = cd_fast.enet_coordinate_descent(\n",
      "C:\\Users\\Pranav\\anaconda3\\lib\\site-packages\\sklearn\\linear_model\\_coordinate_descent.py:530: ConvergenceWarning: Objective did not converge. You might want to increase the number of iterations. Duality gap: 357050825129173.4, tolerance: 257434552717.56076\n",
      "  model = cd_fast.enet_coordinate_descent(\n",
      "C:\\Users\\Pranav\\anaconda3\\lib\\site-packages\\sklearn\\linear_model\\_coordinate_descent.py:530: ConvergenceWarning: Objective did not converge. You might want to increase the number of iterations. Duality gap: 368096240610300.75, tolerance: 266518103189.1452\n",
      "  model = cd_fast.enet_coordinate_descent(\n",
      "C:\\Users\\Pranav\\anaconda3\\lib\\site-packages\\sklearn\\linear_model\\_coordinate_descent.py:530: ConvergenceWarning: Objective did not converge. You might want to increase the number of iterations. Duality gap: 352072482150581.75, tolerance: 256046259578.3132\n",
      "  model = cd_fast.enet_coordinate_descent(\n",
      "C:\\Users\\Pranav\\anaconda3\\lib\\site-packages\\sklearn\\linear_model\\_coordinate_descent.py:530: ConvergenceWarning: Objective did not converge. You might want to increase the number of iterations. Duality gap: 368929005907598.0, tolerance: 267781267096.50986\n",
      "  model = cd_fast.enet_coordinate_descent(\n",
      "C:\\Users\\Pranav\\anaconda3\\lib\\site-packages\\sklearn\\linear_model\\_coordinate_descent.py:530: ConvergenceWarning: Objective did not converge. You might want to increase the number of iterations. Duality gap: 366943800388209.7, tolerance: 264881311650.3594\n",
      "  model = cd_fast.enet_coordinate_descent(\n",
      "C:\\Users\\Pranav\\anaconda3\\lib\\site-packages\\sklearn\\linear_model\\_coordinate_descent.py:530: ConvergenceWarning: Objective did not converge. You might want to increase the number of iterations. Duality gap: 369605271542236.56, tolerance: 265143078378.3168\n",
      "  model = cd_fast.enet_coordinate_descent(\n",
      "C:\\Users\\Pranav\\anaconda3\\lib\\site-packages\\sklearn\\linear_model\\_coordinate_descent.py:530: ConvergenceWarning: Objective did not converge. You might want to increase the number of iterations. Duality gap: 366292830614827.44, tolerance: 263243468998.86066\n",
      "  model = cd_fast.enet_coordinate_descent(\n",
      "C:\\Users\\Pranav\\anaconda3\\lib\\site-packages\\sklearn\\linear_model\\_coordinate_descent.py:530: ConvergenceWarning: Objective did not converge. You might want to increase the number of iterations. Duality gap: 364989999386818.25, tolerance: 262486432542.90622\n",
      "  model = cd_fast.enet_coordinate_descent(\n",
      "C:\\Users\\Pranav\\anaconda3\\lib\\site-packages\\sklearn\\linear_model\\_coordinate_descent.py:530: ConvergenceWarning: Objective did not converge. You might want to increase the number of iterations. Duality gap: 362272236728065.6, tolerance: 261011161690.6104\n",
      "  model = cd_fast.enet_coordinate_descent(\n",
      "C:\\Users\\Pranav\\anaconda3\\lib\\site-packages\\sklearn\\linear_model\\_coordinate_descent.py:530: ConvergenceWarning: Objective did not converge. You might want to increase the number of iterations. Duality gap: 296821136087284.25, tolerance: 215752051746.79382\n",
      "  model = cd_fast.enet_coordinate_descent(\n"
     ]
    },
    {
     "name": "stderr",
     "output_type": "stream",
     "text": [
      "C:\\Users\\Pranav\\anaconda3\\lib\\site-packages\\sklearn\\linear_model\\_coordinate_descent.py:530: ConvergenceWarning: Objective did not converge. You might want to increase the number of iterations. Duality gap: 362148860087068.8, tolerance: 260338435647.3446\n",
      "  model = cd_fast.enet_coordinate_descent(\n",
      "C:\\Users\\Pranav\\anaconda3\\lib\\site-packages\\sklearn\\linear_model\\_coordinate_descent.py:530: ConvergenceWarning: Objective did not converge. You might want to increase the number of iterations. Duality gap: 357057751922170.25, tolerance: 257434552717.56076\n",
      "  model = cd_fast.enet_coordinate_descent(\n",
      "C:\\Users\\Pranav\\anaconda3\\lib\\site-packages\\sklearn\\linear_model\\_coordinate_descent.py:530: ConvergenceWarning: Objective did not converge. You might want to increase the number of iterations. Duality gap: 368103407913573.6, tolerance: 266518103189.1452\n",
      "  model = cd_fast.enet_coordinate_descent(\n",
      "C:\\Users\\Pranav\\anaconda3\\lib\\site-packages\\sklearn\\linear_model\\_coordinate_descent.py:530: ConvergenceWarning: Objective did not converge. You might want to increase the number of iterations. Duality gap: 352079517054349.75, tolerance: 256046259578.3132\n",
      "  model = cd_fast.enet_coordinate_descent(\n",
      "C:\\Users\\Pranav\\anaconda3\\lib\\site-packages\\sklearn\\linear_model\\_coordinate_descent.py:530: ConvergenceWarning: Objective did not converge. You might want to increase the number of iterations. Duality gap: 368936106179070.5, tolerance: 267781267096.50986\n",
      "  model = cd_fast.enet_coordinate_descent(\n",
      "C:\\Users\\Pranav\\anaconda3\\lib\\site-packages\\sklearn\\linear_model\\_coordinate_descent.py:530: ConvergenceWarning: Objective did not converge. You might want to increase the number of iterations. Duality gap: 366950907674930.4, tolerance: 264881311650.3594\n",
      "  model = cd_fast.enet_coordinate_descent(\n",
      "C:\\Users\\Pranav\\anaconda3\\lib\\site-packages\\sklearn\\linear_model\\_coordinate_descent.py:530: ConvergenceWarning: Objective did not converge. You might want to increase the number of iterations. Duality gap: 369612442182972.6, tolerance: 265143078378.3168\n",
      "  model = cd_fast.enet_coordinate_descent(\n",
      "C:\\Users\\Pranav\\anaconda3\\lib\\site-packages\\sklearn\\linear_model\\_coordinate_descent.py:530: ConvergenceWarning: Objective did not converge. You might want to increase the number of iterations. Duality gap: 366300048734177.56, tolerance: 263243468998.86066\n",
      "  model = cd_fast.enet_coordinate_descent(\n",
      "C:\\Users\\Pranav\\anaconda3\\lib\\site-packages\\sklearn\\linear_model\\_coordinate_descent.py:530: ConvergenceWarning: Objective did not converge. You might want to increase the number of iterations. Duality gap: 364997193915462.5, tolerance: 262486432542.90622\n",
      "  model = cd_fast.enet_coordinate_descent(\n",
      "C:\\Users\\Pranav\\anaconda3\\lib\\site-packages\\sklearn\\linear_model\\_coordinate_descent.py:530: ConvergenceWarning: Objective did not converge. You might want to increase the number of iterations. Duality gap: 362279047687407.7, tolerance: 261011161690.6104\n",
      "  model = cd_fast.enet_coordinate_descent(\n",
      "C:\\Users\\Pranav\\anaconda3\\lib\\site-packages\\sklearn\\linear_model\\_coordinate_descent.py:530: ConvergenceWarning: Objective did not converge. You might want to increase the number of iterations. Duality gap: 296827030330734.06, tolerance: 215752051746.79382\n",
      "  model = cd_fast.enet_coordinate_descent(\n",
      "C:\\Users\\Pranav\\anaconda3\\lib\\site-packages\\sklearn\\linear_model\\_coordinate_descent.py:530: ConvergenceWarning: Objective did not converge. You might want to increase the number of iterations. Duality gap: 362155834992291.8, tolerance: 260338435647.3446\n",
      "  model = cd_fast.enet_coordinate_descent(\n",
      "C:\\Users\\Pranav\\anaconda3\\lib\\site-packages\\sklearn\\linear_model\\_coordinate_descent.py:530: ConvergenceWarning: Objective did not converge. You might want to increase the number of iterations. Duality gap: 357064678595868.25, tolerance: 257434552717.56076\n",
      "  model = cd_fast.enet_coordinate_descent(\n",
      "C:\\Users\\Pranav\\anaconda3\\lib\\site-packages\\sklearn\\linear_model\\_coordinate_descent.py:530: ConvergenceWarning: Objective did not converge. You might want to increase the number of iterations. Duality gap: 368110574996251.1, tolerance: 266518103189.1452\n",
      "  model = cd_fast.enet_coordinate_descent(\n",
      "C:\\Users\\Pranav\\anaconda3\\lib\\site-packages\\sklearn\\linear_model\\_coordinate_descent.py:530: ConvergenceWarning: Objective did not converge. You might want to increase the number of iterations. Duality gap: 352086551583603.75, tolerance: 256046259578.3132\n",
      "  model = cd_fast.enet_coordinate_descent(\n",
      "C:\\Users\\Pranav\\anaconda3\\lib\\site-packages\\sklearn\\linear_model\\_coordinate_descent.py:530: ConvergenceWarning: Objective did not converge. You might want to increase the number of iterations. Duality gap: 368943206161473.4, tolerance: 267781267096.50986\n",
      "  model = cd_fast.enet_coordinate_descent(\n",
      "C:\\Users\\Pranav\\anaconda3\\lib\\site-packages\\sklearn\\linear_model\\_coordinate_descent.py:530: ConvergenceWarning: Objective did not converge. You might want to increase the number of iterations. Duality gap: 366958015062312.7, tolerance: 264881311650.3594\n",
      "  model = cd_fast.enet_coordinate_descent(\n",
      "C:\\Users\\Pranav\\anaconda3\\lib\\site-packages\\sklearn\\linear_model\\_coordinate_descent.py:530: ConvergenceWarning: Objective did not converge. You might want to increase the number of iterations. Duality gap: 369619612932844.94, tolerance: 265143078378.3168\n",
      "  model = cd_fast.enet_coordinate_descent(\n",
      "C:\\Users\\Pranav\\anaconda3\\lib\\site-packages\\sklearn\\linear_model\\_coordinate_descent.py:530: ConvergenceWarning: Objective did not converge. You might want to increase the number of iterations. Duality gap: 366307266375320.44, tolerance: 263243468998.86066\n",
      "  model = cd_fast.enet_coordinate_descent(\n",
      "C:\\Users\\Pranav\\anaconda3\\lib\\site-packages\\sklearn\\linear_model\\_coordinate_descent.py:530: ConvergenceWarning: Objective did not converge. You might want to increase the number of iterations. Duality gap: 365004388420943.75, tolerance: 262486432542.90622\n",
      "  model = cd_fast.enet_coordinate_descent(\n",
      "C:\\Users\\Pranav\\anaconda3\\lib\\site-packages\\sklearn\\linear_model\\_coordinate_descent.py:530: ConvergenceWarning: Objective did not converge. You might want to increase the number of iterations. Duality gap: 362285858182384.5, tolerance: 261011161690.6104\n",
      "  model = cd_fast.enet_coordinate_descent(\n",
      "C:\\Users\\Pranav\\anaconda3\\lib\\site-packages\\sklearn\\linear_model\\_coordinate_descent.py:530: ConvergenceWarning: Objective did not converge. You might want to increase the number of iterations. Duality gap: 296832924349090.6, tolerance: 215752051746.79382\n",
      "  model = cd_fast.enet_coordinate_descent(\n",
      "C:\\Users\\Pranav\\anaconda3\\lib\\site-packages\\sklearn\\linear_model\\_coordinate_descent.py:530: ConvergenceWarning: Objective did not converge. You might want to increase the number of iterations. Duality gap: 362162809853483.44, tolerance: 260338435647.3446\n",
      "  model = cd_fast.enet_coordinate_descent(\n",
      "C:\\Users\\Pranav\\anaconda3\\lib\\site-packages\\sklearn\\linear_model\\_coordinate_descent.py:530: ConvergenceWarning: Objective did not converge. You might want to increase the number of iterations. Duality gap: 357071604686480.25, tolerance: 257434552717.56076\n",
      "  model = cd_fast.enet_coordinate_descent(\n",
      "C:\\Users\\Pranav\\anaconda3\\lib\\site-packages\\sklearn\\linear_model\\_coordinate_descent.py:530: ConvergenceWarning: Objective did not converge. You might want to increase the number of iterations. Duality gap: 368117741618165.06, tolerance: 266518103189.1452\n",
      "  model = cd_fast.enet_coordinate_descent(\n",
      "C:\\Users\\Pranav\\anaconda3\\lib\\site-packages\\sklearn\\linear_model\\_coordinate_descent.py:530: ConvergenceWarning: Objective did not converge. You might want to increase the number of iterations. Duality gap: 352093585845685.6, tolerance: 256046259578.3132\n",
      "  model = cd_fast.enet_coordinate_descent(\n",
      "C:\\Users\\Pranav\\anaconda3\\lib\\site-packages\\sklearn\\linear_model\\_coordinate_descent.py:530: ConvergenceWarning: Objective did not converge. You might want to increase the number of iterations. Duality gap: 368950305602553.5, tolerance: 267781267096.50986\n",
      "  model = cd_fast.enet_coordinate_descent(\n",
      "C:\\Users\\Pranav\\anaconda3\\lib\\site-packages\\sklearn\\linear_model\\_coordinate_descent.py:530: ConvergenceWarning: Objective did not converge. You might want to increase the number of iterations. Duality gap: 366965121729230.75, tolerance: 264881311650.3594\n",
      "  model = cd_fast.enet_coordinate_descent(\n"
     ]
    },
    {
     "name": "stderr",
     "output_type": "stream",
     "text": [
      "C:\\Users\\Pranav\\anaconda3\\lib\\site-packages\\sklearn\\linear_model\\_coordinate_descent.py:530: ConvergenceWarning: Objective did not converge. You might want to increase the number of iterations. Duality gap: 369626782936665.4, tolerance: 265143078378.3168\n",
      "  model = cd_fast.enet_coordinate_descent(\n",
      "C:\\Users\\Pranav\\anaconda3\\lib\\site-packages\\sklearn\\linear_model\\_coordinate_descent.py:530: ConvergenceWarning: Objective did not converge. You might want to increase the number of iterations. Duality gap: 366314483788297.5, tolerance: 263243468998.86066\n",
      "  model = cd_fast.enet_coordinate_descent(\n",
      "C:\\Users\\Pranav\\anaconda3\\lib\\site-packages\\sklearn\\linear_model\\_coordinate_descent.py:530: ConvergenceWarning: Objective did not converge. You might want to increase the number of iterations. Duality gap: 365011582364594.25, tolerance: 262486432542.90622\n",
      "  model = cd_fast.enet_coordinate_descent(\n"
     ]
    },
    {
     "name": "stdout",
     "output_type": "stream",
     "text": [
      "0.25 : 69.09087262792927\n",
      "0.5 : 69.09087806287656\n",
      "0.75 : 69.09088347092654\n",
      "1.0 : 69.09088885207933\n",
      "1.25 : 69.09089420633482\n",
      "1.5 : 69.09089953369303\n",
      "1.75 : 69.09090483415399\n",
      "2.0 : 69.09091010771776\n"
     ]
    },
    {
     "name": "stderr",
     "output_type": "stream",
     "text": [
      "C:\\Users\\Pranav\\anaconda3\\lib\\site-packages\\sklearn\\linear_model\\_coordinate_descent.py:530: ConvergenceWarning: Objective did not converge. You might want to increase the number of iterations. Duality gap: 362292668508879.44, tolerance: 261011161690.6104\n",
      "  model = cd_fast.enet_coordinate_descent(\n"
     ]
    }
   ],
   "source": [
    "# List to maintain the cross-validation scores\n",
    "cross_val_scores_lasso = []\n",
    "\n",
    "# List to maintain the different values of Lambda\n",
    "Lambda = []\n",
    "\n",
    "# Loop to compute the cross-validation scores\n",
    "for i in range(1, 9):\n",
    "    lassoModel = Lasso(alpha = i * 0.25)\n",
    "    lassoModel.fit(X_train, y_train)\n",
    "    scores = cross_val_score(lassoModel, X, y, cv = 10)\n",
    "    avg_cross_val_score = mean(scores)*100\n",
    "    cross_val_scores_lasso.append(avg_cross_val_score)\n",
    "    Lambda.append(i * 0.25)\n",
    "\n",
    "# Loop to print the different values of cross-validation scores\n",
    "for i in range(0, len(alpha)):\n",
    "    print(str(alpha[i])+' : '+str(cross_val_scores_lasso[i]))"
   ]
  },
  {
   "cell_type": "markdown",
   "id": "ba1bbd33",
   "metadata": {},
   "source": [
    "From the above output, we can conclude that the best value of lambda is 2 for this data."
   ]
  },
  {
   "cell_type": "code",
   "execution_count": 32,
   "id": "3117872c",
   "metadata": {},
   "outputs": [
    {
     "name": "stdout",
     "output_type": "stream",
     "text": [
      "0.6880375199788482\n"
     ]
    },
    {
     "name": "stderr",
     "output_type": "stream",
     "text": [
      "C:\\Users\\Pranav\\anaconda3\\lib\\site-packages\\sklearn\\linear_model\\_coordinate_descent.py:530: ConvergenceWarning: Objective did not converge. You might want to increase the number of iterations. Duality gap: 296832924349090.6, tolerance: 215752051746.79382\n",
      "  model = cd_fast.enet_coordinate_descent(\n"
     ]
    }
   ],
   "source": [
    "# Building and fitting the Lasso Regression Model\n",
    "lassoModelChosen = Lasso(alpha = 2)\n",
    "lassoModelChosen.fit(X_train, y_train)\n",
    "\n",
    "# Evaluating the Lasso Regression model\n",
    "print(lassoModelChosen.score(X_test, y_test))"
   ]
  },
  {
   "cell_type": "markdown",
   "id": "c0e2587d",
   "metadata": {},
   "source": [
    "Step 4: Comparing and Visualizing the results"
   ]
  },
  {
   "cell_type": "code",
   "execution_count": 33,
   "id": "a660d9ad",
   "metadata": {},
   "outputs": [
    {
     "name": "stdout",
     "output_type": "stream",
     "text": [
      "Linear Regression : 0.6880374419853503\n",
      "Ridge Regression : 0.6880219230749209\n",
      "Lasso Regression : 0.6880375199788482\n"
     ]
    }
   ],
   "source": [
    "# Building the two lists for visualization\n",
    "models = ['Linear Regression', 'Ridge Regression', 'Lasso Regression']\n",
    "scores = [linearModel.score(X_test, y_test),\n",
    "          ridgeModelChosen.score(X_test, y_test),\n",
    "          lassoModelChosen.score(X_test, y_test)]\n",
    "\n",
    "# Building the dictionary to compare the scores\n",
    "mapping = {}\n",
    "mapping['Linear Regression'] = linearModel.score(X_test, y_test)\n",
    "mapping['Ridge Regression'] = ridgeModelChosen.score(X_test, y_test)\n",
    "mapping['Lasso Regression'] = lassoModelChosen.score(X_test, y_test)\n",
    "\n",
    "# Printing the scores for different models\n",
    "for key, val in mapping.items():\n",
    "    print(str(key)+' : '+str(val))"
   ]
  },
  {
   "cell_type": "code",
   "execution_count": 34,
   "id": "ab93f886",
   "metadata": {},
   "outputs": [
    {
     "data": {
      "image/png": "[encoded data removed]",
      "text/plain": [
       "<Figure size 432x288 with 1 Axes>"
      ]
     },
     "metadata": {
      "needs_background": "light"
     },
     "output_type": "display_data"
    }
   ],
   "source": [
    "# Plotting the scores\n",
    "plt.bar(models, scores)\n",
    "plt.xlabel('Regression Models')\n",
    "plt.ylabel('Score')\n",
    "plt.show()"
   ]
  },
  {
   "cell_type": "markdown",
   "id": "8a23c31d",
   "metadata": {},
   "source": [
    "# For more information we can always refer the sklearn's documentations for both Ridge and Lasso"
   ]
  },
  {
   "cell_type": "code",
   "execution_count": null,
   "id": "3e5e1191",
   "metadata": {},
   "outputs": [],
   "source": []
  }
 ],
 "metadata": {
  "kernelspec": {
   "display_name": "Python 3 (ipykernel)",
   "language": "python",
   "name": "python3"
  },
  "language_info": {
   "codemirror_mode": {
    "name": "ipython",
    "version": 3
   },
   "file_extension": ".py",
   "mimetype": "text/x-python",
   "name": "python",
   "nbconvert_exporter": "python",
   "pygments_lexer": "ipython3",
   "version": "3.9.7"
  }
 },
 "nbformat": 4,
 "nbformat_minor": 5
}
