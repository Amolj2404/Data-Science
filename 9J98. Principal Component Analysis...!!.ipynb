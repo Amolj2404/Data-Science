{
 "cells": [
  {
   "cell_type": "code",
   "execution_count": 1,
   "id": "7db505c8",
   "metadata": {},
   "outputs": [],
   "source": [
    "import pandas as pd #For Dataframes\n",
    "import numpy as np #For numerical functioning\n",
    "from sklearn.decomposition import PCA #Dimensionality Reduction using PCA\n",
    "import matplotlib.pyplot as plt #For plotting\n",
    "from sklearn.preprocessing import scale #To do scaling of the data\n",
    "from sklearn.cluster import KMeans #For clustering on PC's"
   ]
  },
  {
   "cell_type": "code",
   "execution_count": 2,
   "id": "66d2b0d0",
   "metadata": {},
   "outputs": [
    {
     "data": {
      "text/html": [
       "<div>\n",
       "<style scoped>\n",
       "    .dataframe tbody tr th:only-of-type {\n",
       "        vertical-align: middle;\n",
       "    }\n",
       "\n",
       "    .dataframe tbody tr th {\n",
       "        vertical-align: top;\n",
       "    }\n",
       "\n",
       "    .dataframe thead th {\n",
       "        text-align: right;\n",
       "    }\n",
       "</style>\n",
       "<table border=\"1\" class=\"dataframe\">\n",
       "  <thead>\n",
       "    <tr style=\"text-align: right;\">\n",
       "      <th></th>\n",
       "      <th>Univ</th>\n",
       "      <th>SAT</th>\n",
       "      <th>Top10</th>\n",
       "      <th>Accept</th>\n",
       "      <th>SFRatio</th>\n",
       "      <th>Expenses</th>\n",
       "      <th>GradRate</th>\n",
       "    </tr>\n",
       "  </thead>\n",
       "  <tbody>\n",
       "    <tr>\n",
       "      <th>0</th>\n",
       "      <td>Brown</td>\n",
       "      <td>1310</td>\n",
       "      <td>89</td>\n",
       "      <td>22</td>\n",
       "      <td>13</td>\n",
       "      <td>22704</td>\n",
       "      <td>94</td>\n",
       "    </tr>\n",
       "    <tr>\n",
       "      <th>1</th>\n",
       "      <td>CalTech</td>\n",
       "      <td>1415</td>\n",
       "      <td>100</td>\n",
       "      <td>25</td>\n",
       "      <td>6</td>\n",
       "      <td>63575</td>\n",
       "      <td>81</td>\n",
       "    </tr>\n",
       "    <tr>\n",
       "      <th>2</th>\n",
       "      <td>CMU</td>\n",
       "      <td>1260</td>\n",
       "      <td>62</td>\n",
       "      <td>59</td>\n",
       "      <td>9</td>\n",
       "      <td>25026</td>\n",
       "      <td>72</td>\n",
       "    </tr>\n",
       "    <tr>\n",
       "      <th>3</th>\n",
       "      <td>Columbia</td>\n",
       "      <td>1310</td>\n",
       "      <td>76</td>\n",
       "      <td>24</td>\n",
       "      <td>12</td>\n",
       "      <td>31510</td>\n",
       "      <td>88</td>\n",
       "    </tr>\n",
       "    <tr>\n",
       "      <th>4</th>\n",
       "      <td>Cornell</td>\n",
       "      <td>1280</td>\n",
       "      <td>83</td>\n",
       "      <td>33</td>\n",
       "      <td>13</td>\n",
       "      <td>21864</td>\n",
       "      <td>90</td>\n",
       "    </tr>\n",
       "  </tbody>\n",
       "</table>\n",
       "</div>"
      ],
      "text/plain": [
       "       Univ   SAT  Top10  Accept  SFRatio  Expenses  GradRate\n",
       "0     Brown  1310     89      22       13     22704        94\n",
       "1   CalTech  1415    100      25        6     63575        81\n",
       "2       CMU  1260     62      59        9     25026        72\n",
       "3  Columbia  1310     76      24       12     31510        88\n",
       "4   Cornell  1280     83      33       13     21864        90"
      ]
     },
     "execution_count": 2,
     "metadata": {},
     "output_type": "execute_result"
    }
   ],
   "source": [
    "#Importing dataset\n",
    "uni = pd.read_csv(\"Datasets/Universities.csv\")\n",
    "uni.describe()\n",
    "uni.head()"
   ]
  },
  {
   "cell_type": "code",
   "execution_count": 3,
   "id": "4c48099c",
   "metadata": {},
   "outputs": [],
   "source": [
    "uni_data = uni.iloc[:,1:]"
   ]
  },
  {
   "cell_type": "code",
   "execution_count": 4,
   "id": "0143d521",
   "metadata": {},
   "outputs": [],
   "source": [
    "#Scaling the dataset i.e. standardizing the data\n",
    "uni_normal = scale(uni_data)"
   ]
  },
  {
   "cell_type": "code",
   "execution_count": 8,
   "id": "c611b5d2",
   "metadata": {},
   "outputs": [
    {
     "data": {
      "text/plain": [
       "array([[ 0.41028362,  0.6575195 , -0.88986682,  0.07026045, -0.33141256,\n",
       "         0.82030265],\n",
       "       [ 1.39925928,  1.23521235, -0.73465749, -1.68625071,  2.56038138,\n",
       "        -0.64452351],\n",
       "       [-0.06065717, -0.76045386,  1.02438157, -0.93346022, -0.16712136,\n",
       "        -1.65863393],\n",
       "       [ 0.41028362, -0.02520842, -0.78639393, -0.18066972,  0.29164871,\n",
       "         0.14422904],\n",
       "       [ 0.12771914,  0.34241431, -0.32076595,  0.07026045, -0.39084607,\n",
       "         0.36958691],\n",
       "       [ 0.69284809,  0.6575195 , -0.83813038, -0.68253005,  0.33778044,\n",
       "         0.93298158],\n",
       "       [ 0.4573777 ,  0.71003703, -0.47597528, -0.18066972,  0.29695528,\n",
       "         0.93298158],\n",
       "       [-0.10775125, -0.13024348, -0.78639393, -0.18066972, -0.51381683,\n",
       "         0.59494478],\n",
       "       [ 1.25797704,  0.76255456, -1.30375836, -0.43159988,  0.85874344,\n",
       "         1.15833946],\n",
       "       [ 0.36318954, -0.07772595,  0.24833493, -1.43532055,  2.21481798,\n",
       "         0.0315501 ],\n",
       "       [ 1.06960072,  0.92010716, -0.47597528, -0.68253005,  0.52938275,\n",
       "         0.48226584],\n",
       "       [-0.06065717,  0.44744937, -0.01034729, -0.43159988,  0.04698077,\n",
       "         0.25690797],\n",
       "       [-0.10775125,  0.23737924,  0.14486204,  0.07026045, -0.86787073,\n",
       "         0.82030265],\n",
       "       [-1.7466252 , -2.02087462,  0.76569936,  1.32491127, -1.21718409,\n",
       "        -0.75720245],\n",
       "       [ 1.02250664,  0.76255456, -1.30375836, -1.18439038,  0.20037583,\n",
       "         0.93298158],\n",
       "       [-2.46245521, -2.54604994,  2.6282113 ,  1.57584144, -1.29635802,\n",
       "        -1.99667073],\n",
       "       [ 0.88122441,  0.71003703, -0.9933397 , -0.18066972,  0.64117435,\n",
       "         0.70762371],\n",
       "       [-1.8031381 , -1.44318177,  1.43827311,  3.08142243, -1.32197103,\n",
       "        -2.22202861],\n",
       "       [-0.24903349,  0.97262469,  0.04138915,  1.07398111, -0.86659715,\n",
       "        -0.98256032],\n",
       "       [ 0.2219073 , -0.07772595,  0.55875358,  0.07026045,  0.77772991,\n",
       "         0.0315501 ],\n",
       "       [-0.81416244, -0.60290126,  1.49000956,  0.82305094, -0.84324827,\n",
       "        -0.19380777],\n",
       "       [ 0.17481322,  0.18486171, -0.16555662, -0.43159988,  0.01167444,\n",
       "         0.36958691],\n",
       "       [-0.39031573,  0.02730912,  0.24833493,  0.32119061, -0.99331788,\n",
       "         0.59494478],\n",
       "       [-1.70894994, -1.91583956,  1.541746  ,  0.57212078, -1.09888311,\n",
       "        -1.77131286],\n",
       "       [ 1.02250664,  0.97262469, -1.04507615, -0.43159988,  1.14098185,\n",
       "         1.04566052]])"
      ]
     },
     "execution_count": 8,
     "metadata": {},
     "output_type": "execute_result"
    }
   ],
   "source": [
    "uni_normal[:,:]"
   ]
  },
  {
   "cell_type": "code",
   "execution_count": 5,
   "id": "24057d27",
   "metadata": {},
   "outputs": [],
   "source": [
    "#Creating Model and fitting it\n",
    "pca = PCA()\n",
    "pca_values = pca.fit_transform(uni_normal)"
   ]
  },
  {
   "cell_type": "code",
   "execution_count": 6,
   "id": "e73ccd98",
   "metadata": {},
   "outputs": [
    {
     "data": {
      "text/plain": [
       "(25, 6)"
      ]
     },
     "execution_count": 6,
     "metadata": {},
     "output_type": "execute_result"
    }
   ],
   "source": [
    "pca_values.shape"
   ]
  },
  {
   "cell_type": "code",
   "execution_count": 7,
   "id": "967df770",
   "metadata": {},
   "outputs": [
    {
     "data": {
      "text/plain": [
       "array([0.76868084, 0.13113602, 0.04776031, 0.02729668, 0.0207177 ,\n",
       "       0.00440844])"
      ]
     },
     "execution_count": 7,
     "metadata": {},
     "output_type": "execute_result"
    }
   ],
   "source": [
    "#Exaplained variance by PCA\n",
    "var = pca.explained_variance_ratio_\n",
    "var"
   ]
  },
  {
   "cell_type": "code",
   "execution_count": 10,
   "id": "b29e0b15",
   "metadata": {},
   "outputs": [
    {
     "data": {
      "text/plain": [
       "array([-0.45774863, -0.42714437,  0.42430805,  0.39064831, -0.36252316,\n",
       "       -0.37940403])"
      ]
     },
     "execution_count": 10,
     "metadata": {},
     "output_type": "execute_result"
    }
   ],
   "source": [
    "#Values of 1st PC\n",
    "pca.components_[0]"
   ]
  },
  {
   "cell_type": "code",
   "execution_count": 11,
   "id": "c13d6cc4",
   "metadata": {},
   "outputs": [],
   "source": [
    "pc1_weights = pca.components_[0]"
   ]
  },
  {
   "cell_type": "code",
   "execution_count": 12,
   "id": "e5d47e89",
   "metadata": {},
   "outputs": [
    {
     "data": {
      "text/plain": [
       "1.0"
      ]
     },
     "execution_count": 12,
     "metadata": {},
     "output_type": "execute_result"
    }
   ],
   "source": [
    "#Sum of squared for all PC's has to be 1\n",
    "sum(pc1_weights*pc1_weights)"
   ]
  },
  {
   "cell_type": "code",
   "execution_count": 13,
   "id": "b7df0571",
   "metadata": {},
   "outputs": [
    {
     "name": "stdout",
     "output_type": "stream",
     "text": [
      "0.9999999999999996\n",
      "0.9999999999999992\n",
      "1.0000000000000007\n",
      "1.0\n"
     ]
    }
   ],
   "source": [
    "pc2_weights = pca.components_[1]\n",
    "\n",
    "print(sum(pc2_weights*pc2_weights))\n",
    "\n",
    "pc3_weights = pca.components_[2]\n",
    "\n",
    "print(sum(pc3_weights*pc3_weights))\n",
    "\n",
    "pc4_weights = pca.components_[3]\n",
    "\n",
    "print(sum(pc4_weights*pc4_weights))\n",
    "\n",
    "pc5_weights = pca.components_[4]\n",
    "\n",
    "print(sum(pc5_weights*pc5_weights))"
   ]
  },
  {
   "cell_type": "code",
   "execution_count": 14,
   "id": "56741370",
   "metadata": {},
   "outputs": [
    {
     "data": {
      "text/plain": [
       "array([ 76.87,  89.98,  94.76,  97.49,  99.56, 100.  ])"
      ]
     },
     "execution_count": 14,
     "metadata": {},
     "output_type": "execute_result"
    }
   ],
   "source": [
    "#Cumuletive sum of variance\n",
    "var1 = np.cumsum(np.round(var,decimals = 4)*100)\n",
    "var1"
   ]
  },
  {
   "cell_type": "code",
   "execution_count": 15,
   "id": "099a5725",
   "metadata": {},
   "outputs": [
    {
     "data": {
      "text/plain": [
       "[<matplotlib.lines.Line2D at 0x1e99d592940>]"
      ]
     },
     "execution_count": 15,
     "metadata": {},
     "output_type": "execute_result"
    },
    {
     "data": {
      "image/png": "[encoded data removed]",
      "text/plain": [
       "<Figure size 432x288 with 1 Axes>"
      ]
     },
     "metadata": {
      "needs_background": "light"
     },
     "output_type": "display_data"
    }
   ],
   "source": [
    "#Plotting cumsm PC wise\n",
    "plt.plot(var1,color=\"red\")"
   ]
  },
  {
   "cell_type": "code",
   "execution_count": 16,
   "id": "9ffe4624",
   "metadata": {},
   "outputs": [
    {
     "data": {
      "text/plain": [
       "[<matplotlib.lines.Line2D at 0x1e99d6937c0>]"
      ]
     },
     "execution_count": 16,
     "metadata": {},
     "output_type": "execute_result"
    },
    {
     "data": {
      "image/png": "[encoded data removed]",
      "text/plain": [
       "<Figure size 432x288 with 1 Axes>"
      ]
     },
     "metadata": {
      "needs_background": "light"
     },
     "output_type": "display_data"
    }
   ],
   "source": [
    "# Taking first 3 PCs\n",
    "x = np.array(pca_values[:,0])\n",
    "y = np.array(pca_values[:,1])\n",
    "z = np.array(pca_values[:,2])\n",
    "\n",
    "#plot between PC1 and PC2 \n",
    "plt.plot(x,y,\"bo\")"
   ]
  },
  {
   "cell_type": "code",
   "execution_count": 17,
   "id": "2e601c3a",
   "metadata": {},
   "outputs": [
    {
     "data": {
      "text/plain": [
       "[<matplotlib.lines.Line2D at 0x1e99d708ac0>]"
      ]
     },
     "execution_count": 17,
     "metadata": {},
     "output_type": "execute_result"
    },
    {
     "data": {
      "image/png": "[encoded data removed]",
      "text/plain": [
       "<Figure size 432x288 with 1 Axes>"
      ]
     },
     "metadata": {
      "needs_background": "light"
     },
     "output_type": "display_data"
    }
   ],
   "source": [
    "plt.plot(x,z,\"bo\")"
   ]
  },
  {
   "cell_type": "code",
   "execution_count": 18,
   "id": "f5cb9ea9",
   "metadata": {},
   "outputs": [
    {
     "data": {
      "text/plain": [
       "[<matplotlib.lines.Line2D at 0x1e99d78a160>]"
      ]
     },
     "execution_count": 18,
     "metadata": {},
     "output_type": "execute_result"
    },
    {
     "data": {
      "image/png": "[encoded data removed]",
      "text/plain": [
       "<Figure size 432x288 with 1 Axes>"
      ]
     },
     "metadata": {
      "needs_background": "light"
     },
     "output_type": "display_data"
    }
   ],
   "source": [
    "plt.plot(z,y,\"bo\")"
   ]
  },
  {
   "cell_type": "code",
   "execution_count": 19,
   "id": "e26dab4a",
   "metadata": {},
   "outputs": [],
   "source": [
    "#Creating a new dataset of first few PCs in this case taking first 3\n",
    "new_df = pd.DataFrame(columns=[\"X\",\"Y\",\"Z\"])\n",
    "new_df[\"X\"] = pd.Series(x)    \n",
    "new_df[\"Y\"] = pd.Series(y)   \n",
    "new_df[\"Z\"] = pd.Series(z)"
   ]
  },
  {
   "cell_type": "code",
   "execution_count": 20,
   "id": "7001340b",
   "metadata": {},
   "outputs": [],
   "source": [
    "# Checking the correlation of the PCs in our new dataset"
   ]
  },
  {
   "cell_type": "code",
   "execution_count": 21,
   "id": "d1cd6cb2",
   "metadata": {},
   "outputs": [
    {
     "data": {
      "text/plain": [
       "3.418088667827672e-17"
      ]
     },
     "execution_count": 21,
     "metadata": {},
     "output_type": "execute_result"
    }
   ],
   "source": [
    "new_df.X.corr(new_df.Y)"
   ]
  },
  {
   "cell_type": "code",
   "execution_count": 22,
   "id": "0de9a21d",
   "metadata": {},
   "outputs": [
    {
     "data": {
      "text/plain": [
       "7.764153226697178e-17"
      ]
     },
     "execution_count": 22,
     "metadata": {},
     "output_type": "execute_result"
    }
   ],
   "source": [
    "new_df.X.corr(new_df.Z)"
   ]
  },
  {
   "cell_type": "code",
   "execution_count": 23,
   "id": "ae63e6a0",
   "metadata": {},
   "outputs": [
    {
     "data": {
      "text/plain": [
       "5.3156782011547235e-17"
      ]
     },
     "execution_count": 23,
     "metadata": {},
     "output_type": "execute_result"
    }
   ],
   "source": [
    "new_df.Y.corr(new_df.Z)"
   ]
  },
  {
   "cell_type": "code",
   "execution_count": 31,
   "id": "38667d6c",
   "metadata": {},
   "outputs": [],
   "source": [
    "new_df = pd.DataFrame(pca_values[:,0:3])"
   ]
  },
  {
   "cell_type": "code",
   "execution_count": 32,
   "id": "3e2f6bd3",
   "metadata": {},
   "outputs": [
    {
     "data": {
      "text/html": [
       "<div>\n",
       "<style scoped>\n",
       "    .dataframe tbody tr th:only-of-type {\n",
       "        vertical-align: middle;\n",
       "    }\n",
       "\n",
       "    .dataframe tbody tr th {\n",
       "        vertical-align: top;\n",
       "    }\n",
       "\n",
       "    .dataframe thead th {\n",
       "        text-align: right;\n",
       "    }\n",
       "</style>\n",
       "<table border=\"1\" class=\"dataframe\">\n",
       "  <thead>\n",
       "    <tr style=\"text-align: right;\">\n",
       "      <th></th>\n",
       "      <th>0</th>\n",
       "      <th>1</th>\n",
       "      <th>2</th>\n",
       "    </tr>\n",
       "  </thead>\n",
       "  <tbody>\n",
       "    <tr>\n",
       "      <th>0</th>\n",
       "      <td>-1.009874</td>\n",
       "      <td>-1.064310</td>\n",
       "      <td>0.081066</td>\n",
       "    </tr>\n",
       "    <tr>\n",
       "      <th>1</th>\n",
       "      <td>-2.822238</td>\n",
       "      <td>2.259045</td>\n",
       "      <td>0.836829</td>\n",
       "    </tr>\n",
       "    <tr>\n",
       "      <th>2</th>\n",
       "      <td>1.112466</td>\n",
       "      <td>1.631209</td>\n",
       "      <td>-0.266787</td>\n",
       "    </tr>\n",
       "    <tr>\n",
       "      <th>3</th>\n",
       "      <td>-0.741741</td>\n",
       "      <td>-0.042187</td>\n",
       "      <td>0.060501</td>\n",
       "    </tr>\n",
       "    <tr>\n",
       "      <th>4</th>\n",
       "      <td>-0.311912</td>\n",
       "      <td>-0.635244</td>\n",
       "      <td>0.010241</td>\n",
       "    </tr>\n",
       "  </tbody>\n",
       "</table>\n",
       "</div>"
      ],
      "text/plain": [
       "          0         1         2\n",
       "0 -1.009874 -1.064310  0.081066\n",
       "1 -2.822238  2.259045  0.836829\n",
       "2  1.112466  1.631209 -0.266787\n",
       "3 -0.741741 -0.042187  0.060501\n",
       "4 -0.311912 -0.635244  0.010241"
      ]
     },
     "execution_count": 32,
     "metadata": {},
     "output_type": "execute_result"
    }
   ],
   "source": [
    "new_df.head()"
   ]
  },
  {
   "cell_type": "code",
   "execution_count": 33,
   "id": "23ca8543",
   "metadata": {},
   "outputs": [
    {
     "data": {
      "text/plain": [
       "array([0, 2, 0, 0, 0, 2, 0, 0, 2, 2, 2, 0, 0, 1, 2, 1, 2, 1, 0, 0, 1, 0,\n",
       "       0, 1, 2])"
      ]
     },
     "execution_count": 33,
     "metadata": {},
     "output_type": "execute_result"
    }
   ],
   "source": [
    "#Building the model with k = 3 as this was our best achived value of K which we observe in Kmeans example earlier\n",
    "kmeans = KMeans(n_clusters = 3)\n",
    "kmeans.fit(new_df)\n",
    "kmeans.labels_"
   ]
  },
  {
   "cell_type": "code",
   "execution_count": 34,
   "id": "5d4fc9af",
   "metadata": {},
   "outputs": [],
   "source": [
    "md=pd.Series(kmeans.labels_)"
   ]
  },
  {
   "cell_type": "code",
   "execution_count": 35,
   "id": "55fb8ded",
   "metadata": {},
   "outputs": [],
   "source": [
    "uni['clust']=md "
   ]
  },
  {
   "cell_type": "code",
   "execution_count": 36,
   "id": "ec1c2d03",
   "metadata": {},
   "outputs": [
    {
     "data": {
      "text/html": [
       "<div>\n",
       "<style scoped>\n",
       "    .dataframe tbody tr th:only-of-type {\n",
       "        vertical-align: middle;\n",
       "    }\n",
       "\n",
       "    .dataframe tbody tr th {\n",
       "        vertical-align: top;\n",
       "    }\n",
       "\n",
       "    .dataframe thead th {\n",
       "        text-align: right;\n",
       "    }\n",
       "</style>\n",
       "<table border=\"1\" class=\"dataframe\">\n",
       "  <thead>\n",
       "    <tr style=\"text-align: right;\">\n",
       "      <th></th>\n",
       "      <th>clust</th>\n",
       "      <th>SAT</th>\n",
       "      <th>Top10</th>\n",
       "      <th>Accept</th>\n",
       "      <th>SFRatio</th>\n",
       "      <th>Expenses</th>\n",
       "    </tr>\n",
       "    <tr>\n",
       "      <th>clust</th>\n",
       "      <th></th>\n",
       "      <th></th>\n",
       "      <th></th>\n",
       "      <th></th>\n",
       "      <th></th>\n",
       "      <th></th>\n",
       "    </tr>\n",
       "  </thead>\n",
       "  <tbody>\n",
       "    <tr>\n",
       "      <th>0</th>\n",
       "      <td>0.0</td>\n",
       "      <td>1273.75</td>\n",
       "      <td>80.583333</td>\n",
       "      <td>36.916667</td>\n",
       "      <td>12.500</td>\n",
       "      <td>24200.916667</td>\n",
       "    </tr>\n",
       "    <tr>\n",
       "      <th>1</th>\n",
       "      <td>1.0</td>\n",
       "      <td>1085.20</td>\n",
       "      <td>44.000000</td>\n",
       "      <td>69.600000</td>\n",
       "      <td>18.600</td>\n",
       "      <td>11056.400000</td>\n",
       "    </tr>\n",
       "    <tr>\n",
       "      <th>2</th>\n",
       "      <td>2.0</td>\n",
       "      <td>1368.75</td>\n",
       "      <td>90.625000</td>\n",
       "      <td>23.625000</td>\n",
       "      <td>9.375</td>\n",
       "      <td>42375.875000</td>\n",
       "    </tr>\n",
       "  </tbody>\n",
       "</table>\n",
       "</div>"
      ],
      "text/plain": [
       "       clust      SAT      Top10     Accept  SFRatio      Expenses\n",
       "clust                                                             \n",
       "0        0.0  1273.75  80.583333  36.916667   12.500  24200.916667\n",
       "1        1.0  1085.20  44.000000  69.600000   18.600  11056.400000\n",
       "2        2.0  1368.75  90.625000  23.625000    9.375  42375.875000"
      ]
     },
     "execution_count": 36,
     "metadata": {},
     "output_type": "execute_result"
    }
   ],
   "source": [
    "uni = uni.iloc[:,[7,0,1,2,3,4,5,6]]\n",
    "\n",
    "uni.iloc[:,1:8].groupby(uni.clust).mean()"
   ]
  },
  {
   "cell_type": "markdown",
   "id": "777d3069",
   "metadata": {},
   "source": [
    "### Now analyse the result and see whether it is making sense even after reduction in the data as compare to model on full data seen earlier"
   ]
  },
  {
   "cell_type": "markdown",
   "id": "e0efff28",
   "metadata": {},
   "source": [
    "### Now you can write the results in result variables and share the file with client\n",
    "### Also you can rebuild the models by splitting the dataset¶"
   ]
  },
  {
   "cell_type": "code",
   "execution_count": null,
   "id": "e5ea6b92",
   "metadata": {},
   "outputs": [],
   "source": []
  }
 ],
 "metadata": {
  "kernelspec": {
   "display_name": "Python 3 (ipykernel)",
   "language": "python",
   "name": "python3"
  },
  "language_info": {
   "codemirror_mode": {
    "name": "ipython",
    "version": 3
   },
   "file_extension": ".py",
   "mimetype": "text/x-python",
   "name": "python",
   "nbconvert_exporter": "python",
   "pygments_lexer": "ipython3",
   "version": "3.9.7"
  }
 },
 "nbformat": 4,
 "nbformat_minor": 5
}
